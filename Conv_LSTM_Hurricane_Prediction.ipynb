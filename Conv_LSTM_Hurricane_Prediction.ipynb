{
  "cells": [
    {
      "cell_type": "markdown",
      "metadata": {
        "id": "view-in-github",
        "colab_type": "text"
      },
      "source": [
        "<a href=\"https://colab.research.google.com/github/ese-msc-2021/acds-day-after-tomorrow-ivan/blob/main/Conv_LSTM_Hurricane_Prediction.ipynb\" target=\"_parent\"><img src=\"https://colab.research.google.com/assets/colab-badge.svg\" alt=\"Open In Colab\"/></a>"
      ]
    },
    {
      "cell_type": "markdown",
      "source": [
        "This File contains a combination of two files :\n",
        "\n",
        "PART 1 : This is the implementation demo of of the Convolutional LSTM for Image Prediction on our demo Dataset\n",
        "\n",
        "[PART 2](#PART-2-:-Hurricane-Prediction-for-Surprise-Storm) : Here, you wil find the results of the surprise storm trained using the convoltuional LSTM"
      ],
      "metadata": {
        "id": "CKPv6QmtU3XW"
      }
    },
    {
      "cell_type": "markdown",
      "source": [
        "# **PART 1 : Hurricane Prediction : Next Frame Generation using Convolutional Long Short Term Memory**"
      ],
      "metadata": {
        "id": "OyqxyRsh-y3Y"
      }
    },
    {
      "cell_type": "markdown",
      "source": [
        "### **Index and HyperParameter Update Links**\n",
        "\n",
        "- [Imports and Installations](#Imports-and-Installations)\n",
        "    - Update API Key\n",
        "    - Update Download Directory\n",
        "    - Update Initialize download labels to the data\n",
        "\n",
        "- [Downloding the Data and Extracting the Files](#Downloding-the-Data-and-Extracting-the-Files)\n",
        "\n",
        "- [Selecting the Storm](#Selecting-the-Storm)\n",
        "\n",
        "- [Training and Validation Split](#Training-and-Validation-Split)\n",
        "\n",
        "- [Data Transformations and Preprocessing](#Data-Transformations-and-Preprocessing)\n",
        "    - Update the number of frames\n",
        "    - Update Images to predict\n",
        "\n",
        "- [Exploratory Data Analysis](#Exploratory-Data-Analysis)\n",
        "\n",
        "- [The Convolutional LSTM Model](#The-Convolutional-LSTM-Model)\n",
        "\n",
        "\n",
        "- [Loading the Data in DataLoaders](#Loading-the-Data-in-DataLoaders)\n",
        "\n",
        "- [Train the Model](#Train-the-Model)\n",
        "\n",
        "- [Initialize the Model with the Chosen Hyperparameters](#Initialize-the-Model-with-the-Chosen-Hyperparameters)\n",
        "\n",
        "- [Preparing Test Data](#Preparing-Test-Data)\n",
        "\n",
        "- [Preparing and Calculating Output](#Preparing-and-Calculating-Output)\n",
        "\n",
        "- [Calculation of Final Metrics](#Calculation-of-Final-Metrics)\n",
        "\n",
        "\n",
        "** Note the parameters you need to update will be marked with an !! UPDATE HERE !!"
      ],
      "metadata": {
        "id": "FOf4Gn7kAKNf"
      }
    },
    {
      "cell_type": "markdown",
      "source": [
        "### **Imports and Installations** "
      ],
      "metadata": {
        "id": "b7hFftLx_Pwq"
      }
    },
    {
      "cell_type": "code",
      "execution_count": null,
      "metadata": {
        "colab": {
          "base_uri": "https://localhost:8080/"
        },
        "id": "tzK7RGUhfUm_",
        "outputId": "5421407f-ce8e-4aba-e75a-05b9c3bdae78"
      },
      "outputs": [
        {
          "output_type": "stream",
          "name": "stdout",
          "text": [
            "Looking in indexes: https://pypi.org/simple, https://us-python.pkg.dev/colab-wheels/public/simple/\n",
            "Requirement already satisfied: livelossplot in /usr/local/lib/python3.7/dist-packages (0.5.5)\n",
            "Requirement already satisfied: pycm in /usr/local/lib/python3.7/dist-packages (3.5)\n",
            "Requirement already satisfied: radiant_mlhub in /usr/local/lib/python3.7/dist-packages (0.4.1)\n",
            "Requirement already satisfied: torchmetrics in /usr/local/lib/python3.7/dist-packages (0.8.2)\n",
            "Requirement already satisfied: ipython==7.* in /usr/local/lib/python3.7/dist-packages (from livelossplot) (7.33.0)\n",
            "Requirement already satisfied: matplotlib in /usr/local/lib/python3.7/dist-packages (from livelossplot) (3.2.2)\n",
            "Requirement already satisfied: numpy<1.22 in /usr/local/lib/python3.7/dist-packages (from livelossplot) (1.21.6)\n",
            "Requirement already satisfied: bokeh in /usr/local/lib/python3.7/dist-packages (from livelossplot) (2.3.3)\n",
            "Requirement already satisfied: traitlets>=4.2 in /usr/local/lib/python3.7/dist-packages (from ipython==7.*->livelossplot) (5.1.1)\n",
            "Requirement already satisfied: prompt-toolkit!=3.0.0,!=3.0.1,<3.1.0,>=2.0.0 in /usr/local/lib/python3.7/dist-packages (from ipython==7.*->livelossplot) (3.0.29)\n",
            "Requirement already satisfied: pygments in /usr/local/lib/python3.7/dist-packages (from ipython==7.*->livelossplot) (2.6.1)\n",
            "Requirement already satisfied: decorator in /usr/local/lib/python3.7/dist-packages (from ipython==7.*->livelossplot) (4.4.2)\n",
            "Requirement already satisfied: setuptools>=18.5 in /usr/local/lib/python3.7/dist-packages (from ipython==7.*->livelossplot) (57.4.0)\n",
            "Requirement already satisfied: pickleshare in /usr/local/lib/python3.7/dist-packages (from ipython==7.*->livelossplot) (0.7.5)\n",
            "Requirement already satisfied: pexpect>4.3 in /usr/local/lib/python3.7/dist-packages (from ipython==7.*->livelossplot) (4.8.0)\n",
            "Requirement already satisfied: backcall in /usr/local/lib/python3.7/dist-packages (from ipython==7.*->livelossplot) (0.2.0)\n",
            "Requirement already satisfied: matplotlib-inline in /usr/local/lib/python3.7/dist-packages (from ipython==7.*->livelossplot) (0.1.3)\n",
            "Requirement already satisfied: jedi>=0.16 in /usr/local/lib/python3.7/dist-packages (from ipython==7.*->livelossplot) (0.18.1)\n",
            "Requirement already satisfied: parso<0.9.0,>=0.8.0 in /usr/local/lib/python3.7/dist-packages (from jedi>=0.16->ipython==7.*->livelossplot) (0.8.3)\n",
            "Requirement already satisfied: ptyprocess>=0.5 in /usr/local/lib/python3.7/dist-packages (from pexpect>4.3->ipython==7.*->livelossplot) (0.7.0)\n",
            "Requirement already satisfied: wcwidth in /usr/local/lib/python3.7/dist-packages (from prompt-toolkit!=3.0.0,!=3.0.1,<3.1.0,>=2.0.0->ipython==7.*->livelossplot) (0.2.5)\n",
            "Requirement already satisfied: art>=1.8 in /usr/local/lib/python3.7/dist-packages (from pycm) (5.6)\n",
            "Requirement already satisfied: click<9.0.0,>=7.1.2 in /usr/local/lib/python3.7/dist-packages (from radiant_mlhub) (7.1.2)\n",
            "Requirement already satisfied: requests~=2.25 in /usr/local/lib/python3.7/dist-packages (from radiant_mlhub) (2.27.1)\n",
            "Requirement already satisfied: typing-extensions>=3.7 in /usr/local/lib/python3.7/dist-packages (from radiant_mlhub) (4.2.0)\n",
            "Requirement already satisfied: pystac~=1.1 in /usr/local/lib/python3.7/dist-packages (from radiant_mlhub) (1.4.0)\n",
            "Requirement already satisfied: tqdm~=4.56 in /usr/local/lib/python3.7/dist-packages (from radiant_mlhub) (4.64.0)\n",
            "Requirement already satisfied: python-dateutil>=2.7.0 in /usr/local/lib/python3.7/dist-packages (from pystac~=1.1->radiant_mlhub) (2.8.2)\n",
            "Requirement already satisfied: six>=1.5 in /usr/local/lib/python3.7/dist-packages (from python-dateutil>=2.7.0->pystac~=1.1->radiant_mlhub) (1.15.0)\n",
            "Requirement already satisfied: idna<4,>=2.5 in /usr/local/lib/python3.7/dist-packages (from requests~=2.25->radiant_mlhub) (2.10)\n",
            "Requirement already satisfied: charset-normalizer~=2.0.0 in /usr/local/lib/python3.7/dist-packages (from requests~=2.25->radiant_mlhub) (2.0.12)\n",
            "Requirement already satisfied: urllib3<1.27,>=1.21.1 in /usr/local/lib/python3.7/dist-packages (from requests~=2.25->radiant_mlhub) (1.24.3)\n",
            "Requirement already satisfied: certifi>=2017.4.17 in /usr/local/lib/python3.7/dist-packages (from requests~=2.25->radiant_mlhub) (2022.5.18.1)\n",
            "Requirement already satisfied: pyDeprecate==0.3.* in /usr/local/lib/python3.7/dist-packages (from torchmetrics) (0.3.2)\n",
            "Requirement already satisfied: torch>=1.3.1 in /usr/local/lib/python3.7/dist-packages (from torchmetrics) (1.11.0+cu113)\n",
            "Requirement already satisfied: packaging in /usr/local/lib/python3.7/dist-packages (from torchmetrics) (21.3)\n",
            "Requirement already satisfied: pillow>=7.1.0 in /usr/local/lib/python3.7/dist-packages (from bokeh->livelossplot) (7.1.2)\n",
            "Requirement already satisfied: PyYAML>=3.10 in /usr/local/lib/python3.7/dist-packages (from bokeh->livelossplot) (3.13)\n",
            "Requirement already satisfied: Jinja2>=2.9 in /usr/local/lib/python3.7/dist-packages (from bokeh->livelossplot) (2.11.3)\n",
            "Requirement already satisfied: tornado>=5.1 in /usr/local/lib/python3.7/dist-packages (from bokeh->livelossplot) (5.1.1)\n",
            "Requirement already satisfied: MarkupSafe>=0.23 in /usr/local/lib/python3.7/dist-packages (from Jinja2>=2.9->bokeh->livelossplot) (2.0.1)\n",
            "Requirement already satisfied: pyparsing!=3.0.5,>=2.0.2 in /usr/local/lib/python3.7/dist-packages (from packaging->torchmetrics) (3.0.9)\n",
            "Requirement already satisfied: cycler>=0.10 in /usr/local/lib/python3.7/dist-packages (from matplotlib->livelossplot) (0.11.0)\n",
            "Requirement already satisfied: kiwisolver>=1.0.1 in /usr/local/lib/python3.7/dist-packages (from matplotlib->livelossplot) (1.4.2)\n"
          ]
        }
      ],
      "source": [
        "!pip install livelossplot pycm radiant_mlhub torchmetrics"
      ]
    },
    {
      "cell_type": "code",
      "execution_count": null,
      "metadata": {
        "colab": {
          "base_uri": "https://localhost:8080/"
        },
        "id": "eZNuEItzfOnR",
        "outputId": "ac8bf254-c90d-4a46-f7b4-3b87d035e1f5"
      },
      "outputs": [
        {
          "output_type": "stream",
          "name": "stdout",
          "text": [
            "Drive already mounted at /content/drive; to attempt to forcibly remount, call drive.mount(\"/content/drive\", force_remount=True).\n"
          ]
        }
      ],
      "source": [
        "# Mount the folders to drive\n",
        "from google.colab import drive\n",
        "drive.mount('/content/drive')"
      ]
    },
    {
      "cell_type": "code",
      "execution_count": null,
      "metadata": {
        "id": "BOscvwXafSnV"
      },
      "outputs": [],
      "source": [
        "# Importing required modules and packages\n",
        "from sklearn.metrics import accuracy_score\n",
        "from sklearn.model_selection import StratifiedShuffleSplit\n",
        "\n",
        "# Import Plotting packages \n",
        "from livelossplot import PlotLosses\n",
        "from pycm import *\n",
        "import seaborn as sns\n",
        "import matplotlib.pyplot as plt\n",
        "import math\n",
        "\n",
        "\n",
        "# Import torch packages that help us define and run our network \n",
        "import torch\n",
        "import torch.nn as nn\n",
        "import torch.nn.functional as F\n",
        "from torch.utils.data import TensorDataset, DataLoader, Dataset\n",
        "import torchvision.transforms as transforms\n",
        "from torchvision.transforms.transforms import Normalize\n",
        "from torchvision import datasets, transforms, models\n",
        "from torch.autograd import Variable\n",
        "from torchvision.datasets import ImageFolder\n",
        "\n",
        "# Package that allows us to summarize our network\n",
        "from torchsummary import summary\n",
        "# package that allows us to measure the metrics\n",
        "from torchmetrics import StructuralSimilarityIndexMeasure\n",
        "\n",
        "# Import image manipulation package \n",
        "from PIL import Image\n",
        "\n",
        "# Importting numerical and dataframe management packages\n",
        "import numpy as np\n",
        "import pandas as pd\n",
        "import random\n",
        "\n",
        "# File Manipulation Imports\n",
        "import os\n",
        "import json\n",
        "import re\n",
        "from glob import glob\n",
        "import tarfile\n",
        "from pathlib import Path\n",
        "import matplotlib.pyplot as plt\n",
        "\n",
        "# Import packages from the downloaded target data package\n",
        "from radiant_mlhub import Dataset, Collection, client\n",
        "\n",
        "# Packages for the metrics for the image\n",
        "from skimage.metrics import structural_similarity as ssim\n",
        "from skimage.metrics import mean_squared_error as mse\n",
        "from pathlib import Path\n",
        "from PIL import Image\n",
        "import numpy as np\n"
      ]
    },
    {
      "cell_type": "code",
      "execution_count": null,
      "metadata": {
        "colab": {
          "base_uri": "https://localhost:8080/"
        },
        "id": "GePXi7sAfS5q",
        "outputId": "9e106565-5424-47ed-d86f-e2885f8a1171"
      },
      "outputs": [
        {
          "output_type": "stream",
          "name": "stdout",
          "text": [
            "Cuda installed! Running on GPU!\n"
          ]
        }
      ],
      "source": [
        "# Selecting the devide to train on\n",
        "device = 'gpu'\n",
        "if torch.cuda.device_count() > 0 and torch.cuda.is_available():\n",
        "    print(\"Cuda installed! Running on GPU!\")\n",
        "    device = 'cpu'\n",
        "else:\n",
        "    print(\"No GPU available!\")"
      ]
    },
    {
      "cell_type": "markdown",
      "source": [
        "### **Downloding the Data and Extracting the Files**"
      ],
      "metadata": {
        "id": "CxWKjDws_1i6"
      }
    },
    {
      "cell_type": "code",
      "execution_count": null,
      "metadata": {
        "id": "V01PdJaPfhrc"
      },
      "outputs": [],
      "source": [
        "# ---------------------------------------------------------------------------------------\n",
        "#                             !!  UPDATE VALUES HERE  !!                                       \n",
        "# ---------------------------------------------------------------------------------------\n",
        "# API KEy for the dataset import\n",
        "os.environ['MLHUB_API_KEY'] = '5c52777a30471a1c9695fa1be6fa528a26eb2a65e57c202febd53504539d5010'"
      ]
    },
    {
      "cell_type": "markdown",
      "source": [
        ""
      ],
      "metadata": {
        "id": "0VywDC7NTXET"
      }
    },
    {
      "cell_type": "code",
      "execution_count": null,
      "metadata": {
        "id": "7vHUvQfI-G0M"
      },
      "outputs": [],
      "source": [
        "# Get the required dataset from a path \n",
        "dataset = Dataset.fetch('nasa_tropical_storm_competition')"
      ]
    },
    {
      "cell_type": "code",
      "source": [
        "# ---------------------------------------------------------------------------------------\n",
        "#                             !!  UPDATE VALUES HERE  !!                                      \n",
        "# ---------------------------------------------------------------------------------------\n",
        "# Use this to download to a data folder the current working directory\n",
        "download_dir = Path('./data').resolve()"
      ],
      "metadata": {
        "id": "XZEp4euMP1lC"
      },
      "execution_count": null,
      "outputs": []
    },
    {
      "cell_type": "code",
      "execution_count": null,
      "metadata": {
        "id": "CSgtgzyG9j-q"
      },
      "outputs": [],
      "source": [
        "# Set the archive paths to the downlaod path\n",
        "archive_paths = dataset.download(output_dir=download_dir)"
      ]
    },
    {
      "cell_type": "code",
      "execution_count": null,
      "metadata": {
        "colab": {
          "base_uri": "https://localhost:8080/"
        },
        "id": "4xgpVP75fm84",
        "outputId": "5b434a88-916a-473b-c200-e18c792ff41e"
      },
      "outputs": [
        {
          "output_type": "stream",
          "name": "stdout",
          "text": [
            "Extracting /content/data/nasa_tropical_storm_competition_train_source.tar.gz...\n",
            "Extracting /content/data/nasa_tropical_storm_competition_test_source.tar.gz...\n",
            "Extracting /content/data/nasa_tropical_storm_competition_train_labels.tar.gz...\n",
            "Extracting /content/data/nasa_tropical_storm_competition_test_labels.tar.gz...\n",
            "Done\n"
          ]
        }
      ],
      "source": [
        "# ---------------------------------------------------------------------------------------------------\n",
        "# EXTRACT TAR FILES AND SAVE THE PATH\n",
        "# ---------------------------------------------------------------------------------------------------\n",
        "for archive_path in archive_paths:\n",
        "    print(f'Extracting {archive_path}...')\n",
        "    with tarfile.open(archive_path) as tfile:\n",
        "        tfile.extractall(path=download_dir)\n",
        "print('Done')"
      ]
    },
    {
      "cell_type": "code",
      "source": [
        "# ---------------------------------------------------------------------------------------\n",
        "#                             !!  UPDATE VALUES HERE  !!                                       \n",
        "# ---------------------------------------------------------------------------------------\n",
        "# Initialize download labels to the data\n",
        "train_source = 'nasa_tropical_storm_competition_train_source'\n",
        "train_labels = 'nasa_tropical_storm_competition_train_labels'\n",
        "test_source = 'nasa_tropical_storm_competition_test_source'"
      ],
      "metadata": {
        "id": "Fx2VxUVsNclR"
      },
      "execution_count": null,
      "outputs": []
    },
    {
      "cell_type": "code",
      "execution_count": null,
      "metadata": {
        "id": "CaTabquogNF1"
      },
      "outputs": [],
      "source": [
        "# ---------------------------------------------------------------------------------------------------\n",
        "# EXTRACT AND SAVE THE DATA IN A DATAFRAME\n",
        "# ---------------------------------------------------------------------------------------------------\n",
        "train_data = []\n",
        "\n",
        "\n",
        "# ---------------------------------------------------------------------------------------------------\n",
        "# Save the jpeg train file names\n",
        "jpg_names = glob(str(download_dir / train_source / '**' / '*.jpg'))\n",
        "\n",
        "# ---------------------------------------------------------------------------------------------------\n",
        "# Get the features data from the paths\n",
        "for jpg_path in jpg_names:\n",
        "    jpg_path = Path(jpg_path)\n",
        "    \n",
        "    # Get the IDs and file paths\n",
        "    features_path = jpg_path.parent / 'features.json'\n",
        "    image_id = '_'.join(jpg_path.parent.stem.rsplit('_', 3)[-2:])\n",
        "    storm_id = image_id.split('_')[0]\n",
        "    labels_path = str(jpg_path.parent / 'labels.json').replace(train_source, train_labels)\n",
        "\n",
        "# ---------------------------------------------------------------------------------------------------\n",
        "    # Load the features data\n",
        "    with open(features_path) as src:\n",
        "        features_data = json.load(src)\n",
        "        \n",
        "    # Load the labels data\n",
        "    with open(labels_path) as src:\n",
        "        labels_data = json.load(src)\n",
        "\n",
        "    train_data.append([\n",
        "        image_id, \n",
        "        storm_id, \n",
        "        int(features_data['relative_time']), \n",
        "        int(features_data['ocean']), \n",
        "        int(labels_data['wind_speed'])\n",
        "    ])\n",
        "# ---------------------------------------------------------------------------------------------------\n",
        "# Save the train data in a Pandas dataframe\n",
        "train_df = pd.DataFrame(\n",
        "    np.array(train_data),\n",
        "    columns=['Image_ID', 'Storm_ID', 'Relative_Time', 'Ocean', 'Wind_Speed']\n",
        ").sort_values(by=['Image_ID']).reset_index(drop=True)\n",
        "\n",
        "\n",
        "# ---------------------------------------------------------------------------------------------------\n",
        "# Saving the Test Data in a Dataframe\n",
        "test_data = []\n",
        "\n",
        "\n",
        "\n",
        "# ---------------------------------------------------------------------------------------------------\n",
        "# Save the jpeg test file names\n",
        "jpg_names = glob(str(download_dir / test_source / '**' / '*.jpg'))\n",
        "\n",
        "# ---------------------------------------------------------------------------------------------------\n",
        "for jpg_path in jpg_names:\n",
        "    jpg_path = Path(jpg_path)\n",
        "\n",
        "    # Get the IDs and file paths\n",
        "    features_path = jpg_path.parent / 'features.json'\n",
        "    image_id = '_'.join(jpg_path.parent.stem.rsplit('_', 3)[-2:])\n",
        "    storm_id = image_id.split('_')[0]\n",
        "\n",
        "    # Load the features data\n",
        "    with open(features_path) as src:\n",
        "        features_data = json.load(src)\n",
        "\n",
        "    test_data.append([\n",
        "        image_id, \n",
        "        storm_id, \n",
        "        int(features_data['relative_time']), \n",
        "        int(features_data['ocean']), \n",
        "    ])\n",
        "# ---------------------------------------------------------------------------------------------------\n",
        "# Save the test dataframe\n",
        "test_df = pd.DataFrame(\n",
        "    np.array(test_data),\n",
        "    columns=['Image_ID', 'Storm_ID', 'Relative_Time', 'Ocean']\n",
        ").sort_values(by=['Image_ID']).reset_index(drop=True)\n",
        "\n"
      ]
    },
    {
      "cell_type": "code",
      "execution_count": null,
      "metadata": {
        "id": "tKcbHwPig6y2"
      },
      "outputs": [],
      "source": [
        "# ---------------------------------------------------------------------------------------------------\n",
        "# Add the image paths to the datafame\n",
        "train_df[\"image_paths\"] = glob(str(download_dir / train_source / '**' / '*.jpg'))\n",
        "test_df[\"image_paths\"] = glob(str(download_dir / test_source / '**' / '*.jpg'))\n"
      ]
    },
    {
      "cell_type": "markdown",
      "source": [
        "## **Selecting the Storm**"
      ],
      "metadata": {
        "id": "d20FN_zSD0H8"
      }
    },
    {
      "cell_type": "code",
      "source": [
        "# ---------------------------------------------------------------------------------------------------\n",
        "# Find the storm with the highest Samples\n",
        "valid_storms = train_df.groupby('Storm_ID').count()\n",
        "# Sort storms by sample count\n",
        "valid_storms.sort_values('Image_ID', ascending = False)"
      ],
      "metadata": {
        "colab": {
          "base_uri": "https://localhost:8080/",
          "height": 455
        },
        "id": "Vt286gEzELTQ",
        "outputId": "e486f779-2211-47fc-b575-ee2426532ad0"
      },
      "execution_count": null,
      "outputs": [
        {
          "output_type": "execute_result",
          "data": {
            "text/plain": [
              "          Image_ID  Relative_Time  Ocean  Wind_Speed  image_paths\n",
              "Storm_ID                                                         \n",
              "fcr            648            648    648         648          648\n",
              "xjo            617            617    617         617          617\n",
              "ywf            614            614    614         614          614\n",
              "psz            576            576    576         576          576\n",
              "ing            527            527    527         527          527\n",
              "...            ...            ...    ...         ...          ...\n",
              "smj             10             10     10          10           10\n",
              "vfp              9              9      9           9            9\n",
              "qvp              6              6      6           6            6\n",
              "icx              5              5      5           5            5\n",
              "yjz              4              4      4           4            4\n",
              "\n",
              "[494 rows x 5 columns]"
            ],
            "text/html": [
              "\n",
              "  <div id=\"df-a39bcd4d-44ba-42c3-b8a5-42b40f1df58b\">\n",
              "    <div class=\"colab-df-container\">\n",
              "      <div>\n",
              "<style scoped>\n",
              "    .dataframe tbody tr th:only-of-type {\n",
              "        vertical-align: middle;\n",
              "    }\n",
              "\n",
              "    .dataframe tbody tr th {\n",
              "        vertical-align: top;\n",
              "    }\n",
              "\n",
              "    .dataframe thead th {\n",
              "        text-align: right;\n",
              "    }\n",
              "</style>\n",
              "<table border=\"1\" class=\"dataframe\">\n",
              "  <thead>\n",
              "    <tr style=\"text-align: right;\">\n",
              "      <th></th>\n",
              "      <th>Image_ID</th>\n",
              "      <th>Relative_Time</th>\n",
              "      <th>Ocean</th>\n",
              "      <th>Wind_Speed</th>\n",
              "      <th>image_paths</th>\n",
              "    </tr>\n",
              "    <tr>\n",
              "      <th>Storm_ID</th>\n",
              "      <th></th>\n",
              "      <th></th>\n",
              "      <th></th>\n",
              "      <th></th>\n",
              "      <th></th>\n",
              "    </tr>\n",
              "  </thead>\n",
              "  <tbody>\n",
              "    <tr>\n",
              "      <th>fcr</th>\n",
              "      <td>648</td>\n",
              "      <td>648</td>\n",
              "      <td>648</td>\n",
              "      <td>648</td>\n",
              "      <td>648</td>\n",
              "    </tr>\n",
              "    <tr>\n",
              "      <th>xjo</th>\n",
              "      <td>617</td>\n",
              "      <td>617</td>\n",
              "      <td>617</td>\n",
              "      <td>617</td>\n",
              "      <td>617</td>\n",
              "    </tr>\n",
              "    <tr>\n",
              "      <th>ywf</th>\n",
              "      <td>614</td>\n",
              "      <td>614</td>\n",
              "      <td>614</td>\n",
              "      <td>614</td>\n",
              "      <td>614</td>\n",
              "    </tr>\n",
              "    <tr>\n",
              "      <th>psz</th>\n",
              "      <td>576</td>\n",
              "      <td>576</td>\n",
              "      <td>576</td>\n",
              "      <td>576</td>\n",
              "      <td>576</td>\n",
              "    </tr>\n",
              "    <tr>\n",
              "      <th>ing</th>\n",
              "      <td>527</td>\n",
              "      <td>527</td>\n",
              "      <td>527</td>\n",
              "      <td>527</td>\n",
              "      <td>527</td>\n",
              "    </tr>\n",
              "    <tr>\n",
              "      <th>...</th>\n",
              "      <td>...</td>\n",
              "      <td>...</td>\n",
              "      <td>...</td>\n",
              "      <td>...</td>\n",
              "      <td>...</td>\n",
              "    </tr>\n",
              "    <tr>\n",
              "      <th>smj</th>\n",
              "      <td>10</td>\n",
              "      <td>10</td>\n",
              "      <td>10</td>\n",
              "      <td>10</td>\n",
              "      <td>10</td>\n",
              "    </tr>\n",
              "    <tr>\n",
              "      <th>vfp</th>\n",
              "      <td>9</td>\n",
              "      <td>9</td>\n",
              "      <td>9</td>\n",
              "      <td>9</td>\n",
              "      <td>9</td>\n",
              "    </tr>\n",
              "    <tr>\n",
              "      <th>qvp</th>\n",
              "      <td>6</td>\n",
              "      <td>6</td>\n",
              "      <td>6</td>\n",
              "      <td>6</td>\n",
              "      <td>6</td>\n",
              "    </tr>\n",
              "    <tr>\n",
              "      <th>icx</th>\n",
              "      <td>5</td>\n",
              "      <td>5</td>\n",
              "      <td>5</td>\n",
              "      <td>5</td>\n",
              "      <td>5</td>\n",
              "    </tr>\n",
              "    <tr>\n",
              "      <th>yjz</th>\n",
              "      <td>4</td>\n",
              "      <td>4</td>\n",
              "      <td>4</td>\n",
              "      <td>4</td>\n",
              "      <td>4</td>\n",
              "    </tr>\n",
              "  </tbody>\n",
              "</table>\n",
              "<p>494 rows × 5 columns</p>\n",
              "</div>\n",
              "      <button class=\"colab-df-convert\" onclick=\"convertToInteractive('df-a39bcd4d-44ba-42c3-b8a5-42b40f1df58b')\"\n",
              "              title=\"Convert this dataframe to an interactive table.\"\n",
              "              style=\"display:none;\">\n",
              "        \n",
              "  <svg xmlns=\"http://www.w3.org/2000/svg\" height=\"24px\"viewBox=\"0 0 24 24\"\n",
              "       width=\"24px\">\n",
              "    <path d=\"M0 0h24v24H0V0z\" fill=\"none\"/>\n",
              "    <path d=\"M18.56 5.44l.94 2.06.94-2.06 2.06-.94-2.06-.94-.94-2.06-.94 2.06-2.06.94zm-11 1L8.5 8.5l.94-2.06 2.06-.94-2.06-.94L8.5 2.5l-.94 2.06-2.06.94zm10 10l.94 2.06.94-2.06 2.06-.94-2.06-.94-.94-2.06-.94 2.06-2.06.94z\"/><path d=\"M17.41 7.96l-1.37-1.37c-.4-.4-.92-.59-1.43-.59-.52 0-1.04.2-1.43.59L10.3 9.45l-7.72 7.72c-.78.78-.78 2.05 0 2.83L4 21.41c.39.39.9.59 1.41.59.51 0 1.02-.2 1.41-.59l7.78-7.78 2.81-2.81c.8-.78.8-2.07 0-2.86zM5.41 20L4 18.59l7.72-7.72 1.47 1.35L5.41 20z\"/>\n",
              "  </svg>\n",
              "      </button>\n",
              "      \n",
              "  <style>\n",
              "    .colab-df-container {\n",
              "      display:flex;\n",
              "      flex-wrap:wrap;\n",
              "      gap: 12px;\n",
              "    }\n",
              "\n",
              "    .colab-df-convert {\n",
              "      background-color: #E8F0FE;\n",
              "      border: none;\n",
              "      border-radius: 50%;\n",
              "      cursor: pointer;\n",
              "      display: none;\n",
              "      fill: #1967D2;\n",
              "      height: 32px;\n",
              "      padding: 0 0 0 0;\n",
              "      width: 32px;\n",
              "    }\n",
              "\n",
              "    .colab-df-convert:hover {\n",
              "      background-color: #E2EBFA;\n",
              "      box-shadow: 0px 1px 2px rgba(60, 64, 67, 0.3), 0px 1px 3px 1px rgba(60, 64, 67, 0.15);\n",
              "      fill: #174EA6;\n",
              "    }\n",
              "\n",
              "    [theme=dark] .colab-df-convert {\n",
              "      background-color: #3B4455;\n",
              "      fill: #D2E3FC;\n",
              "    }\n",
              "\n",
              "    [theme=dark] .colab-df-convert:hover {\n",
              "      background-color: #434B5C;\n",
              "      box-shadow: 0px 1px 3px 1px rgba(0, 0, 0, 0.15);\n",
              "      filter: drop-shadow(0px 1px 2px rgba(0, 0, 0, 0.3));\n",
              "      fill: #FFFFFF;\n",
              "    }\n",
              "  </style>\n",
              "\n",
              "      <script>\n",
              "        const buttonEl =\n",
              "          document.querySelector('#df-a39bcd4d-44ba-42c3-b8a5-42b40f1df58b button.colab-df-convert');\n",
              "        buttonEl.style.display =\n",
              "          google.colab.kernel.accessAllowed ? 'block' : 'none';\n",
              "\n",
              "        async function convertToInteractive(key) {\n",
              "          const element = document.querySelector('#df-a39bcd4d-44ba-42c3-b8a5-42b40f1df58b');\n",
              "          const dataTable =\n",
              "            await google.colab.kernel.invokeFunction('convertToInteractive',\n",
              "                                                     [key], {});\n",
              "          if (!dataTable) return;\n",
              "\n",
              "          const docLinkHtml = 'Like what you see? Visit the ' +\n",
              "            '<a target=\"_blank\" href=https://colab.research.google.com/notebooks/data_table.ipynb>data table notebook</a>'\n",
              "            + ' to learn more about interactive tables.';\n",
              "          element.innerHTML = '';\n",
              "          dataTable['output_type'] = 'display_data';\n",
              "          await google.colab.output.renderOutput(dataTable, element);\n",
              "          const docLink = document.createElement('div');\n",
              "          docLink.innerHTML = docLinkHtml;\n",
              "          element.appendChild(docLink);\n",
              "        }\n",
              "      </script>\n",
              "    </div>\n",
              "  </div>\n",
              "  "
            ]
          },
          "metadata": {},
          "execution_count": 54
        }
      ]
    },
    {
      "cell_type": "code",
      "execution_count": null,
      "metadata": {
        "colab": {
          "base_uri": "https://localhost:8080/"
        },
        "id": "cR-lgxkNifaL",
        "outputId": "3bec6994-4adc-4cdd-c9aa-08066aaf3ed7"
      },
      "outputs": [
        {
          "output_type": "stream",
          "name": "stderr",
          "text": [
            "/usr/local/lib/python3.7/dist-packages/ipykernel_launcher.py:4: UserWarning: Boolean Series key will be reindexed to match DataFrame index.\n",
            "  after removing the cwd from sys.path.\n"
          ]
        }
      ],
      "source": [
        "# ---------------------------------------------------------------------------------------------------\n",
        "# Picking the Storm with the highest \n",
        "train_fcr = train_df[train_df[\"Storm_ID\"] == \"fcr\"]\n",
        "test_fcr = test_df[train_df[\"Storm_ID\"] == \"fcr\"]\n"
      ]
    },
    {
      "cell_type": "markdown",
      "source": [
        "## **Exploratory Data Analysis**"
      ],
      "metadata": {
        "id": "SoXnUiNAG922"
      }
    },
    {
      "cell_type": "markdown",
      "source": [
        "## **Training and Validation Split**"
      ],
      "metadata": {
        "id": "P3wlegABFzjH"
      }
    },
    {
      "cell_type": "code",
      "execution_count": null,
      "metadata": {
        "id": "1U33vAoThtRf"
      },
      "outputs": [],
      "source": [
        "# ---------------------------------------------------------------------------------------------------\n",
        "# Find the Training and Validation Split for the FCR Storm : Splitting the Data 80:20 \n",
        "# 80% - Training Data and 20% - Validation Data\n",
        "train_count = int(np.floor(len(train_fcr)*.8))\n",
        "val_count = len(train_fcr) - train_count"
      ]
    },
    {
      "cell_type": "markdown",
      "source": [
        "## **Data Transformations and Preprocessing**"
      ],
      "metadata": {
        "id": "x5xna-0uGD1w"
      }
    },
    {
      "cell_type": "code",
      "source": [
        "# --------------------------------------------------------------------------------------------------\n",
        "#                             !!  UPDATE VALUES HERE  !!                                       \n",
        "# -------------------------------------------------------------------------------------------------\n",
        "# Define the resizing value\n",
        "resize_value = 64"
      ],
      "metadata": {
        "id": "wboD5xdATgH5"
      },
      "execution_count": null,
      "outputs": []
    },
    {
      "cell_type": "code",
      "execution_count": null,
      "metadata": {
        "id": "Mz01lkekjHfq"
      },
      "outputs": [],
      "source": [
        "# ---------------------------------------------------------------------------------------------------\n",
        "# DATA TRANSFORMATIONS : Creating the transforms for the Data\n",
        "# ---------------------------------------------------------------------------------------------------\n",
        "#   The Transforms Include :\n",
        "# - Converting the Data to Grayscale with 1 channel ( from 3 RGB channels to 1 channel )\n",
        "# - Resizing the data to 64x64 for training purposes\n",
        "# - Transform the data to a list of tensors for future ease of manipulations\n",
        "\n",
        "# Define the transform\n",
        "transform_data = transforms.Compose([transforms.Grayscale(1),transforms.ToTensor(),transforms.Resize(resize_value)])\n",
        "\n"
      ]
    },
    {
      "cell_type": "code",
      "source": [
        "# --------------------------------------------------------------------------------------------------\n",
        "#                             !!  UPDATE VALUES HERE  !!                                       \n",
        "# --------------------------------------------------------------------------------------------------\n",
        "# Immport the Images using ImageFolder Dataset and apply the defined transforms\n",
        "train_set_folder = ImageFolder('./data/nasa_tropical_storm_competition_train_source/', transform=transform_data)\n",
        "test_set_folder = ImageFolder('./data/nasa_tropical_storm_competition_test_source/', transform=transform_data)"
      ],
      "metadata": {
        "id": "fcda_33RT1wf"
      },
      "execution_count": null,
      "outputs": []
    },
    {
      "cell_type": "code",
      "execution_count": null,
      "metadata": {
        "colab": {
          "base_uri": "https://localhost:8080/"
        },
        "id": "RKwjfm8vi705",
        "outputId": "d65397a2-3b59-4f27-8fc1-d4d244f32855"
      },
      "outputs": [
        {
          "output_type": "stream",
          "name": "stderr",
          "text": [
            "/usr/local/lib/python3.7/dist-packages/ipykernel_launcher.py:4: UserWarning: Creating a tensor from a list of numpy.ndarrays is extremely slow. Please consider converting the list to a single numpy.ndarray with numpy.array() before converting to a tensor. (Triggered internally at  ../torch/csrc/utils/tensor_new.cpp:210.)\n",
            "  after removing the cwd from sys.path.\n"
          ]
        }
      ],
      "source": [
        "# ---------------------------------------------------------------------------------------------------\n",
        "# Save the Training Data\n",
        "# ---------------------------------------------------------------------------------------------------\n",
        "x_train = torch.asarray([train_set_folder[a][0].numpy() for a in list(train_fcr.index)[:train_count]])\n",
        "# ---------------------------------------------------------------------------------------------------\n",
        "# Save the Validtion Data\n",
        "# ---------------------------------------------------------------------------------------------------\n",
        "x_val  = torch.asarray([train_set_folder[a][0].numpy() for a in list(train_fcr.index)[train_count:]])\n",
        "# ---------------------------------------------------------------------------------------------------\n",
        "# Save the Testing Data\n",
        "# ---------------------------------------------------------------------------------------------------\n",
        "x_test  = torch.asarray([test_set_folder[a][0].numpy() for a in list(test_fcr.index)])\n"
      ]
    },
    {
      "cell_type": "code",
      "source": [
        "# --------------------------------------------------------------------------\n",
        "# DATA PREPROCESSING : NUMBER OF SEQUENCES/FRAMES TO CONSIDER AT A TIME\n",
        "# --------------------------------------------------------------------------\n",
        "\n",
        "# Define the number of frames to consider at a time\n",
        "frames = 10\n",
        "\n",
        "# Reshaping parameter\n",
        "x1 = int(x_train.shape[0]/frames)\n",
        "x2 = int(x_val.shape[0]/frames)\n",
        "x3 = int(x_test.shape[0]/frames)\n",
        "\n",
        "\n",
        "# Reshape the training, test and validation data\n",
        "x1_reshaped = x_train[:x1*frames]\n",
        "x2_reshaped = x_val[:x2*frames]\n",
        "x3_reshaped = x_test[:x3*frames]\n",
        "\n",
        "# Print the intermediate reshaped sizes to verify that the images are reaized as required\n",
        "# print(x1_reshaped.shape)\n",
        "# print(x2_reshaped.shape)\n",
        "# print(x3_reshaped.shape)\n",
        "\n",
        "# Final reshaping of the data to fit the number of frames\n",
        "x_train = x1_reshaped.reshape(-1, frames, x_train.shape[2], x_train.shape[3])\n",
        "x_val = x2_reshaped.reshape(-1, frames, x_val.shape[2], x_val.shape[3])\n",
        "x_test = x3_reshaped.reshape(-1, frames, x_test.shape[2], x_test.shape[3])\n",
        "\n",
        "# Print final reshaped sizes to verify that the images are resized as required\n",
        "print(x_train.shape)\n",
        "print(x_test.shape)\n",
        "print(x_val.shape)\n"
      ],
      "metadata": {
        "id": "5zCtCWWB02qG",
        "colab": {
          "base_uri": "https://localhost:8080/"
        },
        "outputId": "8009b13b-6826-4023-81a1-cf26ee5fa84a"
      },
      "execution_count": null,
      "outputs": [
        {
          "output_type": "stream",
          "name": "stdout",
          "text": [
            "torch.Size([51, 10, 64, 64])\n",
            "torch.Size([64, 10, 64, 64])\n",
            "torch.Size([13, 10, 64, 64])\n"
          ]
        }
      ]
    },
    {
      "cell_type": "code",
      "source": [
        "# The number of Images you want to predict\n",
        "images_to_predict = int(5)"
      ],
      "metadata": {
        "id": "1CkJyc8JLdUs"
      },
      "execution_count": null,
      "outputs": []
    },
    {
      "cell_type": "code",
      "execution_count": null,
      "metadata": {
        "id": "BFWsLqdtnF6_"
      },
      "outputs": [],
      "source": [
        "# --------------------------------------------------------------------------\n",
        "# DATA PREPROCESSING : CREATE BATCHES FOR EACH SET OF FRAMES\n",
        "# --------------------------------------------------------------------------\n",
        "# We use the collate function to create input and target batches \n",
        "# The input batch selects first five inputs of each sequence to predict the \n",
        "# next 5 sequences in the data.\n",
        "\n",
        "def collate(batch):\n",
        "    # Add channel dimension\n",
        "    batch = torch.tensor(batch).unsqueeze(1)     \n",
        "    # batch = batch / 255.0   \n",
        "    # Send the input and targets from the batch to the GPU                  \n",
        "    batch = batch.to(device)                     \n",
        "\n",
        "    # Pick the first 5 frames as input and the predict the next 5 frames                   \n",
        "    return batch[:,:,0:images_to_predict], batch[:,:,images_to_predict]  "
      ]
    },
    {
      "cell_type": "markdown",
      "source": [
        "## **The Convolutional LSTM Model**"
      ],
      "metadata": {
        "id": "7ne77BI4Ju9i"
      }
    },
    {
      "cell_type": "markdown",
      "source": [
        "#### Functions in the Convolutional LSTM Model\n",
        "\n",
        "- The Convolutional LSTM Cell\n",
        "- The Sequence to Sequence Function\n",
        "- The Convoltuional LSTM function\n",
        "\n",
        "\n",
        "\n",
        "The code for this model is heavily influenced by the following sources ⁉\n",
        "\n",
        "[1] [Video Frame Prediction using ConvLSTM Network in PyTorch, Medium Article](#https://sladewinter.medium.com/video-frame-prediction-using-convlstm-network-in-pytorch-b5210a6ce582)\n",
        "\n",
        "[2] [Convolutional LSTM in Pytorch, Github Repository](#https://github.com/ndrplz/ConvLSTM_pytorch)\n",
        "\n",
        "[3] [ConvLSTM cell, Shi et al.](#https://paperswithcode.com/paper/convolutional-lstm-network-a-machine-learning#code)\n"
      ],
      "metadata": {
        "id": "jDesUAWAJ1mI"
      }
    },
    {
      "cell_type": "markdown",
      "source": [
        "### **Sequence to Sequence Function**"
      ],
      "metadata": {
        "id": "x0uOSodzve8p"
      }
    },
    {
      "cell_type": "code",
      "execution_count": null,
      "metadata": {
        "id": "uvd4NBW_iSlU"
      },
      "outputs": [],
      "source": [
        "# ---------------------------------------------------------------------------------------------------\n",
        "# Sequence to Sequence Function\n",
        "# ---------------------------------------------------------------------------------------------------\n",
        "class Seq2Seq(nn.Module):\n",
        "    # --------------------------------------------------------------------------\n",
        "    # Initialization Function \n",
        "    # --------------------------------------------------------------------------\n",
        "    # Number of Channels \n",
        "    # Number of Kernals\n",
        "    # Kernal Size\n",
        "    # Padding\n",
        "    # Activation Function\n",
        "    # Frame Size\n",
        "    # Number of ConvLSTM Layers\n",
        "\n",
        "    def __init__(self, num_channels, num_kernels, kernel_size, padding, \n",
        "    activation, frame_size, num_layers):\n",
        "        # Supercharge the Model\n",
        "        super(Seq2Seq, self).__init__()\n",
        "        # Define the sequential function for the network\n",
        "        self.sequential = nn.Sequential()\n",
        "\n",
        "        # -----------------------------------------------------------------------------\n",
        "        # SECTION 1 : Define First layer (Different in_channels than the rest)\n",
        "        self.sequential.add_module(\n",
        "            \"convlstm1\", ConvLSTM(\n",
        "                in_channels=num_channels, out_channels=num_kernels,\n",
        "                kernel_size=kernel_size, padding=padding, \n",
        "                activation=activation, frame_size=frame_size)\n",
        "        )\n",
        "        # Add Consequitive Batch Normaliation for Regularization of the Data\n",
        "        self.sequential.add_module(\n",
        "            \"batchnorm1\", nn.BatchNorm3d(num_features=num_kernels)\n",
        "        ) \n",
        "\n",
        "        # -----------------------------------------------------------------------------\n",
        "        # SECTION 2 : Define the rest of the layers using a loop for ease\n",
        "        for l in range(2, num_layers+1):\n",
        "\n",
        "            self.sequential.add_module(\n",
        "                f\"convlstm{l}\", ConvLSTM(\n",
        "                    in_channels=num_kernels, out_channels=num_kernels,\n",
        "                    kernel_size=kernel_size, padding=padding, \n",
        "                    activation=activation, frame_size=frame_size)\n",
        "                )\n",
        "            # Add Batch Normaliation for Regularization of the Data    \n",
        "            self.sequential.add_module(\n",
        "                f\"batchnorm{l}\", nn.BatchNorm3d(num_features=num_kernels)\n",
        "                ) \n",
        "            \n",
        "        # -----------------------------------------------------------------------------\n",
        "        # SECTION 3 : Define Final Convolutional Layer to predict output frame\n",
        "        self.conv = nn.Conv2d(\n",
        "            in_channels=num_kernels, out_channels=num_channels,\n",
        "            kernel_size=kernel_size, padding=padding)\n",
        "\n",
        "    def forward(self, X):\n",
        "\n",
        "        # Define the forward pass through all the layers\n",
        "        output = self.sequential(X)\n",
        "\n",
        "        # Return only the last output frame of the predicted set\n",
        "        output = self.conv(output[:,:,-1])\n",
        "\n",
        "        return output"
      ]
    },
    {
      "cell_type": "markdown",
      "source": [
        "### **Convolutional LSTM Cell**"
      ],
      "metadata": {
        "id": "MdjP-FBrwKaq"
      }
    },
    {
      "cell_type": "code",
      "execution_count": null,
      "metadata": {
        "id": "ja6kxni1P0Ui"
      },
      "outputs": [],
      "source": [
        "class ConvLSTMCell(nn.Module):\n",
        "    # --------------------------------------------------------------------------\n",
        "    # Initialization Function \n",
        "    # --------------------------------------------------------------------------\n",
        "    # Number of  input channels \n",
        "    # Number of  output channels s\n",
        "    # Kernal Size\n",
        "    # Padding\n",
        "    # Activation Function\n",
        "    # Frame Size\n",
        "    def __init__(self, in_channels, out_channels, \n",
        "    kernel_size, padding, activation, frame_size):\n",
        "        # Supercharge the Model\n",
        "        super(ConvLSTMCell, self).__init__()  \n",
        "\n",
        "        # Depending on the selected activation function- define the input\n",
        "        if activation == \"tanh\":\n",
        "            self.activation = torch.tanh \n",
        "        elif activation == \"relu\":\n",
        "            self.activation = torch.relu\n",
        "        \n",
        "        # Adapted from Reference[2]\n",
        "        self.conv = nn.Conv2d(\n",
        "            in_channels=in_channels + out_channels, \n",
        "            out_channels=4 * out_channels, \n",
        "            kernel_size=kernel_size, \n",
        "            padding=padding)           \n",
        "        # --------------------------------------------------------------------------\n",
        "        # Initialize weights for Hadamard Products \n",
        "        # --------------------------------------------------------------------------\n",
        "        # Initialize Input weights\n",
        "        self.W_ci = nn.Parameter(torch.Tensor(out_channels, *frame_size))\n",
        "        # Initialize Output weights\n",
        "        self.W_co = nn.Parameter(torch.Tensor(out_channels, *frame_size))\n",
        "        # Initialize forget weights\n",
        "        self.W_cf = nn.Parameter(torch.Tensor(out_channels, *frame_size))\n",
        "\n",
        "    def forward(self, X, H_prev, C_prev):\n",
        "        # --------------------------------------------------------------------------\n",
        "        # Forward Function \n",
        "        # --------------------------------------------------------------------------\n",
        "        # Adapted from Reference[2]\n",
        "        conv_output = self.conv(torch.cat([X, H_prev], dim=1))\n",
        "\n",
        "        # Adapted from Reference[2]\n",
        "        i_conv, f_conv, C_conv, o_conv = torch.chunk(conv_output, chunks=4, dim=1)\n",
        "\n",
        "        # Actiavte the input and forget gate with a sigmoid function (a leaky switch)\n",
        "        input_gate = torch.sigmoid(i_conv + self.W_ci * C_prev )\n",
        "        forget_gate = torch.sigmoid(f_conv + self.W_cf * C_prev )\n",
        "\n",
        "        # Current Cell output is added to the input gate\n",
        "        C = forget_gate*C_prev + input_gate * self.activation(C_conv)\n",
        "\n",
        "        # Activate the output gate using the sigmoid function\n",
        "        output_gate = torch.sigmoid(o_conv + self.W_co * C )\n",
        "\n",
        "        # Initialize the Current Hidden State\n",
        "        H = output_gate * self.activation(C)\n",
        "\n",
        "        return H, C"
      ]
    },
    {
      "cell_type": "markdown",
      "source": [
        "### **Convolutional LSTM Network**"
      ],
      "metadata": {
        "id": "Ul145bBJv81K"
      }
    },
    {
      "cell_type": "code",
      "execution_count": null,
      "metadata": {
        "id": "1zgYJH5IPxeK"
      },
      "outputs": [],
      "source": [
        "\n",
        "class ConvLSTM(nn.Module):\n",
        "    # --------------------------------------------------------------------------\n",
        "    # Initialization Function \n",
        "    # --------------------------------------------------------------------------\n",
        "    # Number of  input channels \n",
        "    # Number of  output channels\n",
        "    # Kernal Size\n",
        "    # Padding\n",
        "    # Activation Function\n",
        "    # Frame Size\n",
        "    def __init__(self, in_channels, out_channels, \n",
        "    kernel_size, padding, activation, frame_size):\n",
        "\n",
        "        # SuperCharge the Model\n",
        "        super(ConvLSTM, self).__init__()\n",
        "        # Define the number of output channels\n",
        "        self.out_channels = out_channels\n",
        "\n",
        "        # Single LSTM Cell - to be rolled over time\n",
        "        self.convLSTMcell = ConvLSTMCell(in_channels, out_channels, \n",
        "        kernel_size, padding, activation, frame_size)\n",
        "\n",
        "    def forward(self, X):\n",
        "        # --------------------------------------------------------------------------\n",
        "        # Forward Function \n",
        "        # --------------------------------------------------------------------------\n",
        "        # X is a frame sequence \n",
        "        # X is defined in the order - batch_size, num_channels, seq_len, height, width \n",
        "\n",
        "        # Unravel the required parameters\n",
        "        batch_size, _, seq_len, height, width = X.size()\n",
        "\n",
        "        # Initialize a tensor output with zeros \n",
        "        output = torch.zeros(batch_size, self.out_channels, seq_len, \n",
        "        height, width, device=device)\n",
        "        \n",
        "        # Initialize a tensor Hidden State with zeros\n",
        "        H = torch.zeros(batch_size, self.out_channels, \n",
        "        height, width, device=device)\n",
        "\n",
        "        # Initialize tensor Cell Input with zeros\n",
        "        C = torch.zeros(batch_size,self.out_channels, \n",
        "        height, width, device=device)\n",
        "\n",
        "        # Load over the time sequence of the model - is the number of frames\n",
        "        for time_step in range(seq_len):\n",
        "            H, C = self.convLSTMcell(X[:,:,time_step], H, C)\n",
        "            output[:,:,time_step] = H\n",
        "\n",
        "        return output"
      ]
    },
    {
      "cell_type": "markdown",
      "source": [
        "## **Loading the Data in DataLoaders**"
      ],
      "metadata": {
        "id": "K1xz6VZ5wrLS"
      }
    },
    {
      "cell_type": "code",
      "execution_count": null,
      "metadata": {
        "id": "V-Eo9D2HrhlG"
      },
      "outputs": [],
      "source": [
        "# Training Data Loader\n",
        "train_loader = DataLoader(np.asarray(x_train), shuffle=False, batch_size=8, collate_fn=collate)\n",
        "\n",
        "# Validation Data Loader\n",
        "val_loader = DataLoader(np.asarray(x_val), shuffle=False, batch_size=8, collate_fn=collate)"
      ]
    },
    {
      "cell_type": "code",
      "execution_count": null,
      "metadata": {
        "id": "XZD839SysTBY"
      },
      "outputs": [],
      "source": [
        "# --------------------------------------------------------------------------\n",
        "# Get a batch from the vadiation loader to verify correct inputs\n",
        "# --------------------------------------------------------------------------\n",
        "input, _ = next(iter(val_loader))"
      ]
    },
    {
      "cell_type": "markdown",
      "source": [
        "## **Initialize the Model with the Chosen Hyperparameters**"
      ],
      "metadata": {
        "id": "NxmHFeBm52Yc"
      }
    },
    {
      "cell_type": "markdown",
      "source": [
        "We found that while the convolutional lstm is a sensible choice for this case, it was a difficult task to tune the hyperparamters sensibly.\n",
        "\n",
        "Finally the parameters selectd include:\n",
        "\n",
        "Learning Rate : 0.0001 \\\n",
        "Batch Size (for Data Loader) : 8 \\\n",
        "Number of Kernals for the Convoltuional Layers : 64 \\\n",
        "Number of Convoltuional LSTM Layers : 6 (or 10!) \\\n",
        "Number of Training Epochs : \n",
        "\n",
        "Further the optimizer chosen was Adam and the loss criterion was the MSE loss which is suitable for our model"
      ],
      "metadata": {
        "id": "EXb2DR3VD-4g"
      }
    },
    {
      "cell_type": "code",
      "source": [
        "# --------------------------------------------------------------------------------------------------\n",
        "#                             !!  UPDATE VALUES HERE  !!                                       \n",
        "# --------------------------------------------------------------------------------------------------"
      ],
      "metadata": {
        "id": "IBgP04qHWBiq"
      },
      "execution_count": null,
      "outputs": []
    },
    {
      "cell_type": "code",
      "source": [
        "# -------------------------------------------------------------------------------\n",
        "# Selection of Hyper Parameters\n",
        "# -------------------------------------------------------------------------------\n",
        "\n",
        "# Number of kernals \n",
        "n_k = 64\n",
        "\n",
        "# Actiavtion function\n",
        "act = \"relu\"\n",
        "\n",
        "# Number of Convolutional LSTM layers\n",
        "conv_lstm_layers = 6\n",
        "\n",
        "# Define the number of Epochs\n",
        "num_epochs = 30\n"
      ],
      "metadata": {
        "id": "1PgRD5cILbZq"
      },
      "execution_count": null,
      "outputs": []
    },
    {
      "cell_type": "code",
      "execution_count": null,
      "metadata": {
        "id": "m6bDGPhIsZw_"
      },
      "outputs": [],
      "source": [
        "# -------------------------------------------------------------------------------\n",
        "# Instantiate the model and send the model to the device\n",
        "# -------------------------------------------------------------------------------\n",
        "model = Seq2Seq(num_channels=1, num_kernels=n_k, \n",
        "kernel_size=(3, 3), padding=(1, 1), activation=act, \n",
        "frame_size=(resize_value, resize_value), num_layers=conv_lstm_layers).to(device)\n"
      ]
    },
    {
      "cell_type": "code",
      "execution_count": null,
      "metadata": {
        "id": "40bQJXZEwlju"
      },
      "outputs": [],
      "source": [
        "# -------------------------------------------------------------------------------\n",
        "# Define the Model HyperParameters\n",
        "# -------------------------------------------------------------------------------\n",
        "\n",
        "# Define the optimize\n",
        "optim = torch.optim.Adam(model.parameters(), lr=1e-4)\n",
        "\n",
        "# Define the Criterion as the Mean Squared Error Loss\n",
        "criterion = nn.MSELoss()\n"
      ]
    },
    {
      "cell_type": "code",
      "source": [
        "def scale2range(x, range):\n",
        "    # Scale x into a range, both expected to be floats\n",
        "    return (x - x.min()) * (max(range) - min(range)) / (x.max() - x.min()) + min(range)"
      ],
      "metadata": {
        "id": "xxLBk42VsEgC"
      },
      "execution_count": null,
      "outputs": []
    },
    {
      "cell_type": "markdown",
      "source": [
        "## **Train the Model**"
      ],
      "metadata": {
        "id": "yjelRD4eM1ME"
      }
    },
    {
      "cell_type": "code",
      "execution_count": null,
      "metadata": {
        "id": "I2uiQcN6wybt",
        "colab": {
          "base_uri": "https://localhost:8080/"
        },
        "outputId": "f0ad1740-0aa7-4042-e69b-02459604122e"
      },
      "outputs": [
        {
          "output_type": "stream",
          "name": "stdout",
          "text": [
            "Epoch:1 Training Loss:0.060873 Validation Loss:0.002661\n",
            "\n",
            "Epoch:2 Training Loss:0.019723 Validation Loss:0.003435\n",
            "\n",
            "Epoch:3 Training Loss:0.008858 Validation Loss:0.004572\n",
            "\n",
            "Epoch:4 Training Loss:0.004595 Validation Loss:0.006374\n",
            "\n",
            "Epoch:5 Training Loss:0.003188 Validation Loss:0.007546\n",
            "\n",
            "Epoch:6 Training Loss:0.002531 Validation Loss:0.006187\n",
            "\n",
            "Epoch:7 Training Loss:0.001956 Validation Loss:0.002797\n",
            "\n",
            "Epoch:8 Training Loss:0.001801 Validation Loss:0.001282\n",
            "\n",
            "Epoch:9 Training Loss:0.001584 Validation Loss:0.001545\n",
            "\n",
            "Epoch:10 Training Loss:0.001467 Validation Loss:0.001411\n",
            "\n",
            "Epoch:11 Training Loss:0.001368 Validation Loss:0.002618\n",
            "\n",
            "Epoch:12 Training Loss:0.001305 Validation Loss:0.005361\n",
            "\n",
            "Epoch:13 Training Loss:0.001241 Validation Loss:0.002624\n",
            "\n",
            "Epoch:14 Training Loss:0.001191 Validation Loss:0.000840\n",
            "\n",
            "Epoch:15 Training Loss:0.001149 Validation Loss:0.000484\n",
            "\n",
            "Epoch:16 Training Loss:0.001117 Validation Loss:0.000368\n",
            "\n",
            "Epoch:17 Training Loss:0.001085 Validation Loss:0.000331\n",
            "\n",
            "Epoch:18 Training Loss:0.001048 Validation Loss:0.000323\n",
            "\n",
            "Epoch:19 Training Loss:0.001024 Validation Loss:0.000323\n",
            "\n",
            "Epoch:20 Training Loss:0.001001 Validation Loss:0.000321\n",
            "\n",
            "Epoch:21 Training Loss:0.000978 Validation Loss:0.000316\n",
            "\n",
            "Epoch:22 Training Loss:0.000988 Validation Loss:0.000313\n",
            "\n",
            "Epoch:23 Training Loss:0.000995 Validation Loss:0.000308\n",
            "\n",
            "Epoch:24 Training Loss:0.000950 Validation Loss:0.000294\n",
            "\n",
            "Epoch:25 Training Loss:0.000972 Validation Loss:0.000312\n",
            "\n",
            "Epoch:26 Training Loss:0.001106 Validation Loss:0.000366\n",
            "\n",
            "Epoch:27 Training Loss:0.001082 Validation Loss:0.000346\n",
            "\n",
            "Epoch:28 Training Loss:0.001118 Validation Loss:0.000347\n",
            "\n",
            "Epoch:29 Training Loss:0.001667 Validation Loss:0.000534\n",
            "\n",
            "Epoch:30 Training Loss:0.001070 Validation Loss:0.000419\n",
            "\n"
          ]
        }
      ],
      "source": [
        "# Arrays to save the training and validation losses\n",
        "train_loss_list = []\n",
        "val_loss_list = []\n",
        "\n",
        "\n",
        "\n",
        "for epoch in range(1, num_epochs+1):\n",
        "    # ------------------------------------------------------------------------------\n",
        "    #  TRAINING \n",
        "    # ------------------------------------------------------------------------------\n",
        "\n",
        "    # Rest the train loss for the new epoch\n",
        "    train_loss = 0      \n",
        "\n",
        "    # Set the model to train                                             \n",
        "    model.train()  \n",
        "\n",
        "    # Train the model for each input batch\n",
        "    # Each input batch consists of 10 sequences\n",
        "    # 5 input images are used to predict the next 5 image                                                \n",
        "    for batch_num, (input, target) in enumerate(train_loader, 1):\n",
        "\n",
        "        # Forward propogate the model on the input data \n",
        "        # for each of the batches  \n",
        "        output = model(input) \n",
        "\n",
        "        # Calcualte the losses for each layer\n",
        "        loss = criterion(output.flatten(), target.flatten()) \n",
        "        # Backward propogate the gradients   \n",
        "        loss.backward()       \n",
        "        # Updates the weights in each layer                                     \n",
        "        optim.step()     \n",
        "        # Set the computational gradient grid to zero                                          \n",
        "        optim.zero_grad()   \n",
        "        # Update the training losses for the current batch                                        \n",
        "        train_loss += loss.item() \n",
        "    # Find the average training loss over the whole batch                                \n",
        "    train_loss /= len(train_loader.dataset)   \n",
        "\n",
        "    # -------------------------------------------------------------------------------\n",
        "    #  VALIDATION \n",
        "    # -------------------------------------------------------------------------------\n",
        "    # Rest the validation loss for the new epoch\n",
        "    val_loss = 0    \n",
        "    # Set the model to evaluate                                              \n",
        "    model.eval() \n",
        "\n",
        "    # Prevet the calulation/updates of gradients/weights during evalution                                                  \n",
        "    with torch.no_grad(): \n",
        "      # Run the model for each input batch                                         \n",
        "        for input, target in val_loader:   \n",
        "           # Forward propogate the model on the input data \n",
        "            # for each of the batches                       \n",
        "            output = model(input)  \n",
        "            # Backward propogate the gradients                      \n",
        "            loss = criterion(output.flatten(), target.flatten())  \n",
        "            # Update the validaation losses for the current batch \n",
        "            val_loss += loss.item()  \n",
        "\n",
        "    # Find the average validation loss over the whole batch \n",
        "    val_loss /= len(val_loader.dataset) \n",
        "\n",
        "    # Save the training and validation losses\n",
        "    train_loss_list.append(train_loss)\n",
        "    val_loss_list.append(val_loss)\n",
        "\n",
        "    # Display the training and validation loss for each epoch\n",
        "    # Display the SSIM and MSE Loss for Each epoch\n",
        "   \n",
        "    print(\"Epoch:{} Training Loss:{:.6f} Validation Loss:{:.6f}\\n\".format(\n",
        "        epoch, train_loss, val_loss))\n",
        "\n"
      ]
    },
    {
      "cell_type": "code",
      "source": [
        "# The evoltuion of the Loss over the epochs - Training Data\n",
        "fig, axs = plt.subplots(1,1)\n",
        "axs.set_title(\"Loss function for Conv LSTM\")\n",
        "axs.plot(train_loss_list,)"
      ],
      "metadata": {
        "colab": {
          "base_uri": "https://localhost:8080/",
          "height": 299
        },
        "id": "s7VSquHrv34L",
        "outputId": "fe493f16-5a6d-4863-c954-9ca752f4cd84"
      },
      "execution_count": null,
      "outputs": [
        {
          "output_type": "execute_result",
          "data": {
            "text/plain": [
              "[<matplotlib.lines.Line2D at 0x7f5d0f1a8ed0>]"
            ]
          },
          "metadata": {},
          "execution_count": 83
        },
        {
          "output_type": "display_data",
          "data": {
            "text/plain": [
              "<Figure size 432x288 with 1 Axes>"
            ],
            "image/png": "[encoded data removed]"
          },
          "metadata": {
            "needs_background": "light"
          }
        }
      ]
    },
    {
      "cell_type": "markdown",
      "source": [
        "We observe that the training loss is steadily low after the first 6-10 epochs"
      ],
      "metadata": {
        "id": "iuOnhrwUHK4C"
      }
    },
    {
      "cell_type": "code",
      "source": [
        "# The evoltuion of the Loss over the epochs - Validation Data\n",
        "plt.plot(val_loss_list)"
      ],
      "metadata": {
        "colab": {
          "base_uri": "https://localhost:8080/",
          "height": 282
        },
        "id": "3AT0qiBYGyCJ",
        "outputId": "256140ee-0c23-435d-f5db-46bda612e839"
      },
      "execution_count": null,
      "outputs": [
        {
          "output_type": "execute_result",
          "data": {
            "text/plain": [
              "[<matplotlib.lines.Line2D at 0x7f5d040f1e10>]"
            ]
          },
          "metadata": {},
          "execution_count": 56
        },
        {
          "output_type": "display_data",
          "data": {
            "text/plain": [
              "<Figure size 432x288 with 1 Axes>"
            ],
            "image/png": "[encoded data removed]"
          },
          "metadata": {
            "needs_background": "light"
          }
        }
      ]
    },
    {
      "cell_type": "markdown",
      "source": [
        "We observe that after the 15th epoch the validation loss stops being erratic and settles into a steady value"
      ],
      "metadata": {
        "id": "o8cNARdPG-DK"
      }
    },
    {
      "cell_type": "markdown",
      "source": [
        "## **Preparing Test Data**"
      ],
      "metadata": {
        "id": "5jC6khqDqzpz"
      }
    },
    {
      "cell_type": "code",
      "source": [
        "# -------------------------------------------------------------------------------\n",
        "#  COLLATE DATA INTO BATCHS FOR TESTING \n",
        "# -------------------------------------------------------------------------------\n",
        "def collate_test(batch):\n",
        "\n",
        "    # Last 5 frames are te target\n",
        "    target = np.array(batch)[:,images_to_predict:]                     \n",
        "\n",
        "    # Add channel dim\n",
        "    batch = torch.tensor(batch).unsqueeze(1)       \n",
        "\n",
        "    # Send batch to the GPU                            \n",
        "    batch = batch.to(device)                          \n",
        "    return batch, target\n",
        "\n",
        "# -------------------------------------------------------------------------------\n",
        "# Test Data Loader\n",
        "# -------------------------------------------------------------------------------\n",
        "test_loader = DataLoader(np.asarray(x_test),shuffle=False, \n",
        "                         batch_size=1, collate_fn=collate_test)\n"
      ],
      "metadata": {
        "id": "hjq3EQr9DKM4"
      },
      "execution_count": null,
      "outputs": []
    },
    {
      "cell_type": "code",
      "source": [
        "# -------------------------------------------------------------------------------\n",
        "# Verify correct loading by getting a batch of data\n",
        "# -------------------------------------------------------------------------------\n",
        "batch, target = next(iter(test_loader))\n",
        "\n"
      ],
      "metadata": {
        "id": "mg8JqcuQCddu"
      },
      "execution_count": null,
      "outputs": []
    },
    {
      "cell_type": "markdown",
      "source": [
        "## **Preparing and Calculating Output**"
      ],
      "metadata": {
        "id": "zAelTZQFrgrK"
      }
    },
    {
      "cell_type": "code",
      "source": [
        "# -------------------------------------------------------------------------------\n",
        "# Initialize output sequence\n",
        "# -------------------------------------------------------------------------------\n",
        "output = np.zeros(target.shape, dtype=np.float64)\n"
      ],
      "metadata": {
        "id": "ERVwo3x7W4PO"
      },
      "execution_count": null,
      "outputs": []
    },
    {
      "cell_type": "code",
      "source": [
        "# -------------------------------------------------------------------------------\n",
        "# TEST OUTPUT CALCULATION\n",
        "# -------------------------------------------------------------------------------\n",
        "\n",
        "# Loop over timesteps\n",
        "for timestep in range(target.shape[1]):\n",
        "  input = batch[:,:,timestep:timestep+images_to_predict]  \n",
        "  output[:,timestep]=model(input).squeeze(1).cpu().detach()"
      ],
      "metadata": {
        "id": "qETFGSUwW-bw"
      },
      "execution_count": null,
      "outputs": []
    },
    {
      "cell_type": "markdown",
      "source": [
        "## **Plot Image Predictions**"
      ],
      "metadata": {
        "id": "Qaspu63Hrue_"
      }
    },
    {
      "cell_type": "markdown",
      "source": [
        "### **First Prediction**"
      ],
      "metadata": {
        "id": "rUYtelHLtPUr"
      }
    },
    {
      "cell_type": "markdown",
      "source": [
        " Input :"
      ],
      "metadata": {
        "id": "23GemnCptaYD"
      }
    },
    {
      "cell_type": "code",
      "source": [
        "plt.imshow(input[0][0][0], cmap = 'gray')"
      ],
      "metadata": {
        "colab": {
          "base_uri": "https://localhost:8080/",
          "height": 285
        },
        "id": "sOEVw4EDXabU",
        "outputId": "7ed954cd-07e7-4eb1-e7ee-bd3e2d40e375"
      },
      "execution_count": null,
      "outputs": [
        {
          "output_type": "execute_result",
          "data": {
            "text/plain": [
              "<matplotlib.image.AxesImage at 0x7f5d04213210>"
            ]
          },
          "metadata": {},
          "execution_count": 63
        },
        {
          "output_type": "display_data",
          "data": {
            "text/plain": [
              "<Figure size 432x288 with 1 Axes>"
            ],
            "image/png": "[encoded data removed]"
          },
          "metadata": {
            "needs_background": "light"
          }
        }
      ]
    },
    {
      "cell_type": "markdown",
      "source": [
        "Output :"
      ],
      "metadata": {
        "id": "ZWCa5pbPteXn"
      }
    },
    {
      "cell_type": "code",
      "source": [
        "plt.imshow(output[0][0], cmap = 'gray')"
      ],
      "metadata": {
        "colab": {
          "base_uri": "https://localhost:8080/",
          "height": 285
        },
        "id": "G7zVURdZtuzW",
        "outputId": "6285f62f-af51-4d65-8c3d-1146def155cf"
      },
      "execution_count": null,
      "outputs": [
        {
          "output_type": "execute_result",
          "data": {
            "text/plain": [
              "<matplotlib.image.AxesImage at 0x7f5d043047d0>"
            ]
          },
          "metadata": {},
          "execution_count": 64
        },
        {
          "output_type": "display_data",
          "data": {
            "text/plain": [
              "<Figure size 432x288 with 1 Axes>"
            ],
            "image/png": "[encoded data removed]"
          },
          "metadata": {
            "needs_background": "light"
          }
        }
      ]
    },
    {
      "cell_type": "markdown",
      "source": [
        "### **Second Prediction**"
      ],
      "metadata": {
        "id": "IEzOWNmNthvb"
      }
    },
    {
      "cell_type": "markdown",
      "source": [
        "Input:"
      ],
      "metadata": {
        "id": "tAFMIzh1tnJf"
      }
    },
    {
      "cell_type": "code",
      "source": [
        "plt.imshow(input[0][0][1], cmap = 'gray')"
      ],
      "metadata": {
        "colab": {
          "base_uri": "https://localhost:8080/",
          "height": 285
        },
        "id": "CKG0wLDAZc1k",
        "outputId": "056527c2-b029-4b0f-bff2-045b51cf2256"
      },
      "execution_count": null,
      "outputs": [
        {
          "output_type": "execute_result",
          "data": {
            "text/plain": [
              "<matplotlib.image.AxesImage at 0x7f5d08030690>"
            ]
          },
          "metadata": {},
          "execution_count": 35
        },
        {
          "output_type": "display_data",
          "data": {
            "text/plain": [
              "<Figure size 432x288 with 1 Axes>"
            ],
            "image/png": "[encoded data removed]"
          },
          "metadata": {
            "needs_background": "light"
          }
        }
      ]
    },
    {
      "cell_type": "markdown",
      "source": [
        "Output:\n"
      ],
      "metadata": {
        "id": "DBIMuKZQtqCf"
      }
    },
    {
      "cell_type": "code",
      "source": [
        "plt.imshow(output[0][1], cmap = 'gray')"
      ],
      "metadata": {
        "id": "WsgFUP1W30uA",
        "colab": {
          "base_uri": "https://localhost:8080/",
          "height": 285
        },
        "outputId": "881bd84c-9a07-4c9b-b415-a98ce95700f8"
      },
      "execution_count": null,
      "outputs": [
        {
          "output_type": "execute_result",
          "data": {
            "text/plain": [
              "<matplotlib.image.AxesImage at 0x7f5d07f9fbd0>"
            ]
          },
          "metadata": {},
          "execution_count": 36
        },
        {
          "output_type": "display_data",
          "data": {
            "text/plain": [
              "<Figure size 432x288 with 1 Axes>"
            ],
            "image/png": "[encoded data removed]"
          },
          "metadata": {
            "needs_background": "light"
          }
        }
      ]
    },
    {
      "cell_type": "markdown",
      "source": [
        "### **Third Prediction**"
      ],
      "metadata": {
        "id": "vF6RhnAJt289"
      }
    },
    {
      "cell_type": "markdown",
      "source": [
        "Input:\n"
      ],
      "metadata": {
        "id": "JWSA5msot6T9"
      }
    },
    {
      "cell_type": "code",
      "source": [
        "plt.imshow(input[0][0][2], cmap = 'gray')"
      ],
      "metadata": {
        "colab": {
          "base_uri": "https://localhost:8080/",
          "height": 285
        },
        "id": "91w5g8bIt4Bw",
        "outputId": "fa85d488-fbd8-41ab-b40a-0d33bb4af022"
      },
      "execution_count": null,
      "outputs": [
        {
          "output_type": "execute_result",
          "data": {
            "text/plain": [
              "<matplotlib.image.AxesImage at 0x7f5d07f10f50>"
            ]
          },
          "metadata": {},
          "execution_count": 37
        },
        {
          "output_type": "display_data",
          "data": {
            "text/plain": [
              "<Figure size 432x288 with 1 Axes>"
            ],
            "image/png": "[encoded data removed]"
          },
          "metadata": {
            "needs_background": "light"
          }
        }
      ]
    },
    {
      "cell_type": "markdown",
      "source": [
        "Output:"
      ],
      "metadata": {
        "id": "eU1KeSBxt-6_"
      }
    },
    {
      "cell_type": "code",
      "source": [
        "plt.imshow(output[0][2], cmap = 'gray')"
      ],
      "metadata": {
        "id": "SGJkrc66ufCF",
        "colab": {
          "base_uri": "https://localhost:8080/",
          "height": 285
        },
        "outputId": "c115a3dd-689c-4140-9a3f-9169b3ad7760"
      },
      "execution_count": null,
      "outputs": [
        {
          "output_type": "execute_result",
          "data": {
            "text/plain": [
              "<matplotlib.image.AxesImage at 0x7f5d07e88390>"
            ]
          },
          "metadata": {},
          "execution_count": 38
        },
        {
          "output_type": "display_data",
          "data": {
            "text/plain": [
              "<Figure size 432x288 with 1 Axes>"
            ],
            "image/png": "[encoded data removed]"
          },
          "metadata": {
            "needs_background": "light"
          }
        }
      ]
    },
    {
      "cell_type": "markdown",
      "source": [
        "### **Fourth Prediction**"
      ],
      "metadata": {
        "id": "CQXw1q1IuhRX"
      }
    },
    {
      "cell_type": "markdown",
      "source": [
        "Input:"
      ],
      "metadata": {
        "id": "Szb6B5JAulFf"
      }
    },
    {
      "cell_type": "code",
      "source": [
        "plt.imshow(input[0][0][3], cmap = 'gray')"
      ],
      "metadata": {
        "colab": {
          "base_uri": "https://localhost:8080/",
          "height": 285
        },
        "id": "EHMBOZIFukc1",
        "outputId": "8e7fd3cd-78b7-443f-ec81-4f51f4919558"
      },
      "execution_count": null,
      "outputs": [
        {
          "output_type": "execute_result",
          "data": {
            "text/plain": [
              "<matplotlib.image.AxesImage at 0x7f5d07df4910>"
            ]
          },
          "metadata": {},
          "execution_count": 39
        },
        {
          "output_type": "display_data",
          "data": {
            "text/plain": [
              "<Figure size 432x288 with 1 Axes>"
            ],
            "image/png": "[encoded data removed]"
          },
          "metadata": {
            "needs_background": "light"
          }
        }
      ]
    },
    {
      "cell_type": "markdown",
      "source": [
        "Output:"
      ],
      "metadata": {
        "id": "bVACfFvzumkA"
      }
    },
    {
      "cell_type": "code",
      "source": [
        "plt.imshow(output[0][3], cmap = 'gray')"
      ],
      "metadata": {
        "colab": {
          "base_uri": "https://localhost:8080/",
          "height": 285
        },
        "id": "pWEtzMoXunos",
        "outputId": "99d6e600-3ec5-4c8a-b6a0-4a84f1a8daf1"
      },
      "execution_count": null,
      "outputs": [
        {
          "output_type": "execute_result",
          "data": {
            "text/plain": [
              "<matplotlib.image.AxesImage at 0x7f5d07de4d10>"
            ]
          },
          "metadata": {},
          "execution_count": 40
        },
        {
          "output_type": "display_data",
          "data": {
            "text/plain": [
              "<Figure size 432x288 with 1 Axes>"
            ],
            "image/png": "[encoded data removed]"
          },
          "metadata": {
            "needs_background": "light"
          }
        }
      ]
    },
    {
      "cell_type": "markdown",
      "source": [
        "### **Fifth Prediction**"
      ],
      "metadata": {
        "id": "shp8_sKcuoLp"
      }
    },
    {
      "cell_type": "markdown",
      "source": [
        "Input :"
      ],
      "metadata": {
        "id": "kN62RF4Duq8W"
      }
    },
    {
      "cell_type": "code",
      "source": [
        "plt.imshow(input[0][0][4], cmap = 'gray')"
      ],
      "metadata": {
        "colab": {
          "base_uri": "https://localhost:8080/",
          "height": 285
        },
        "id": "zJbKNVLfusOb",
        "outputId": "143ec12c-8c66-45ea-a70d-9a7f911f4a9c"
      },
      "execution_count": null,
      "outputs": [
        {
          "output_type": "execute_result",
          "data": {
            "text/plain": [
              "<matplotlib.image.AxesImage at 0x7f5d07d5b610>"
            ]
          },
          "metadata": {},
          "execution_count": 41
        },
        {
          "output_type": "display_data",
          "data": {
            "text/plain": [
              "<Figure size 432x288 with 1 Axes>"
            ],
            "image/png": "[encoded data removed]"
          },
          "metadata": {
            "needs_background": "light"
          }
        }
      ]
    },
    {
      "cell_type": "markdown",
      "source": [
        "Output:"
      ],
      "metadata": {
        "id": "TR6RmkCmusmE"
      }
    },
    {
      "cell_type": "code",
      "source": [
        "plt.imshow(output[0][4], cmap = 'gray')"
      ],
      "metadata": {
        "colab": {
          "base_uri": "https://localhost:8080/",
          "height": 285
        },
        "id": "KinYTRITutxO",
        "outputId": "b27eecec-b26b-4d2a-b87a-180de7922fe4"
      },
      "execution_count": null,
      "outputs": [
        {
          "output_type": "execute_result",
          "data": {
            "text/plain": [
              "<matplotlib.image.AxesImage at 0x7f5d07ccc990>"
            ]
          },
          "metadata": {},
          "execution_count": 42
        },
        {
          "output_type": "display_data",
          "data": {
            "text/plain": [
              "<Figure size 432x288 with 1 Axes>"
            ],
            "image/png": "[encoded data removed]"
          },
          "metadata": {
            "needs_background": "light"
          }
        }
      ]
    },
    {
      "cell_type": "markdown",
      "source": [
        "## **Calculation of Final Metrics**"
      ],
      "metadata": {
        "id": "FvsfIRcDu79H"
      }
    },
    {
      "cell_type": "code",
      "source": [
        "# ------------------------------------------------------------------------------\n",
        "# Load target images for comparison\n",
        "# ------------------------------------------------------------------------------\n",
        "\n",
        "target_1 = input[0][0][-5].cpu().detach().numpy()*255\n",
        "target_2 = input[0][0][-4].cpu().detach().numpy()*255\n",
        "target_3 = input[0][0][-3].cpu().detach().numpy()*255\n",
        "target_4 = input[0][0][-2].cpu().detach().numpy()*255\n",
        "target_5 = input[0][0][-1].cpu().detach().numpy()*255\n",
        "\n",
        "predic_1 = output[0][-5]*255\n",
        "predic_2 = output[0][-4]*255\n",
        "predic_3 = output[0][-3]*255\n",
        "predic_4 = output[0][-2]*255\n",
        "predic_5 = output[0][-1]*255\n",
        "\n",
        "# ------------------------------------------------------------------------------\n",
        "# Scale predicted image to target range\n",
        "# ------------------------------------------------------------------------------\n",
        "predic_1 = scale2range(predic_1, [target_1.min(), target_1.max()])\n",
        "predic_2 = scale2range(predic_2, [target_2.min(), target_2.max()])\n",
        "predic_3 = scale2range(predic_3, [target_3.min(), target_3.max()])\n",
        "predic_4 = scale2range(predic_4, [target_4.min(), target_4.max()])\n",
        "predic_5 = scale2range(predic_5, [target_5.min(), target_5.max()])\n",
        "\n",
        "# ------------------------------------------------------------------------------\n",
        "# Cast to uint8 to accommodate for consistent SSIM and MSE results\n",
        "# ------------------------------------------------------------------------------\n",
        "target_1, predic_1 = target_1.astype(np.uint8), predic_1.astype(np.uint8)\n",
        "target_2, predic_2 = target_2.astype(np.uint8), predic_2.astype(np.uint8)\n",
        "target_3, predic_3 = target_3.astype(np.uint8), predic_3.astype(np.uint8)\n",
        "target_4, predic_4 = target_4.astype(np.uint8), predic_4.astype(np.uint8)\n",
        "target_5, predic_5 = target_5.astype(np.uint8), predic_5.astype(np.uint8)\n",
        "\n",
        "# ------------------------------------------------------------------------------\n",
        "# Sanity check\n",
        "# ------------------------------------------------------------------------------\n",
        "print(target_1.dtype, target_1.max(), target_1.min())\n",
        "print(predic_1.dtype, predic_1.max(), predic_1.min())\n",
        "\n",
        "# ------------------------------------------------------------------------------\n",
        "# Compute metrics\n",
        "# ------------------------------------------------------------------------------\n",
        "print('\\n ---------- SSIM and MSE values -------------- \\n')\n",
        "s_1, m_1 = ssim(target_1, predic_1), mse(target_1, predic_1)\n",
        "s_2, m_2 = ssim(target_2, predic_2), mse(target_2, predic_2)\n",
        "s_3, m_3 = ssim(target_3, predic_3), mse(target_3, predic_3)\n",
        "s_4, m_4 = ssim(target_4, predic_4), mse(target_4, predic_4)\n",
        "s_5, m_5 = ssim(target_5, predic_5), mse(target_5, predic_5)\n",
        "\n",
        "# ------------------------------------------------------------------------------\n",
        "print(\"First Prdiction : SSIM : \",s_1,\" MSE : \",m_5)\n",
        "print(\"Second Prdiction : SSIM : \",s_2,\" MSE : \",m_4)\n",
        "print(\"Third Prdiction : SSIM : \",s_3,\" MSE : \",m_3)\n",
        "print(\"Fourth Prdiction : SSIM : \",s_4,\" MSE : \",m_2)\n",
        "print(\"Fifth Prdiction : SSIM : \",s_5,\" MSE : \",m_1)"
      ],
      "metadata": {
        "colab": {
          "base_uri": "https://localhost:8080/"
        },
        "id": "tlGaHY3KvAiG",
        "outputId": "8c7a8f31-5539-44e7-b305-425a5d96cc93"
      },
      "execution_count": null,
      "outputs": [
        {
          "output_type": "stream",
          "name": "stdout",
          "text": [
            "uint8 209 4\n",
            "uint8 209 4\n",
            "\n",
            " ---------- SSIM and MSE values -------------- \n",
            "\n",
            "First Prdiction : SSIM :  0.5827536298329827  MSE :  1128.365478515625\n",
            "Second Prdiction : SSIM :  0.3140424828366407  MSE :  1139.0517578125\n",
            "Third Prdiction : SSIM :  0.4949727294815224  MSE :  726.66259765625\n",
            "Fourth Prdiction : SSIM :  0.4600275734313387  MSE :  2010.955078125\n",
            "Fifth Prdiction : SSIM :  0.5177025544355225  MSE :  562.16943359375\n"
          ]
        }
      ]
    },
    {
      "cell_type": "markdown",
      "source": [
        "\n",
        "\n",
        "---\n",
        "\n",
        "\n",
        "\n",
        "---\n",
        "\n",
        "# **PART 2 : Hurricane Prediction for Surprise Storm**\n",
        "\n",
        "\n",
        "\n",
        "---\n",
        "\n",
        "\n",
        "\n",
        "---\n",
        "\n"
      ],
      "metadata": {
        "id": "EXGuVuF5SWJ_"
      }
    },
    {
      "cell_type": "markdown",
      "source": [
        "### **Index and HyperParameter Update Links**\n",
        "\n",
        "- [Imports and Installations](#Imports-and-Installations)\n",
        "    - Update API Key\n",
        "    - Update Download Directory\n",
        "    - Update Initialize download labels to the data\n",
        "\n",
        "- [Downloding the Data and Extracting the Files](#Downloding-the-Data-and-Extracting-the-Files)\n",
        "\n",
        "- [Selecting the Storm](#Selecting-the-Storm)\n",
        "\n",
        "- [Training and Validation Split](#Training-and-Validation-Split)\n",
        "\n",
        "- [Data Transformations and Preprocessing](#Data-Transformations-and-Preprocessing)\n",
        "    - Update the number of frames\n",
        "    - Update Images to predict\n",
        "\n",
        "- [Exploratory Data Analysis](#Exploratory-Data-Analysis)\n",
        "\n",
        "- [The Convolutional LSTM Model](#The-Convolutional-LSTM-Model)\n",
        "\n",
        "\n",
        "- [Loading the Data in DataLoaders](#Loading-the-Data-in-DataLoaders)\n",
        "\n",
        "- [Train the Model](#Train-the-Model)\n",
        "\n",
        "- [Initialize the Model with the Chosen Hyperparameters](#Initialize-the-Model-with-the-Chosen-Hyperparameters)\n",
        "\n",
        "- [Preparing Test Data](#Preparing-Test-Data)\n",
        "\n",
        "- [Preparing and Calculating Output](#Preparing-and-Calculating-Output)\n",
        "\n",
        "- [Calculation of Final Metrics](#Calculation-of-Final-Metrics)\n",
        "\n",
        "\n",
        "** Note the parameters you need to update will be marked with an !! UPDATE HERE !!"
      ],
      "metadata": {
        "id": "a2iJno0mZyfQ"
      }
    },
    {
      "cell_type": "code",
      "execution_count": null,
      "metadata": {
        "colab": {
          "base_uri": "https://localhost:8080/",
          "height": 1000
        },
        "outputId": "ac16abb0-4cba-46c8-86c6-d1475b2825e9",
        "id": "MbWPAiX1TxO7"
      },
      "outputs": [
        {
          "output_type": "stream",
          "name": "stdout",
          "text": [
            "Looking in indexes: https://pypi.org/simple, https://us-python.pkg.dev/colab-wheels/public/simple/\n",
            "Collecting livelossplot\n",
            "  Downloading livelossplot-0.5.5-py3-none-any.whl (22 kB)\n",
            "Collecting pycm\n",
            "  Downloading pycm-3.5-py2.py3-none-any.whl (66 kB)\n",
            "\u001b[K     |████████████████████████████████| 66 kB 4.6 MB/s \n",
            "\u001b[?25hCollecting radiant_mlhub\n",
            "  Downloading radiant_mlhub-0.4.1-py3-none-any.whl (36 kB)\n",
            "Collecting torchmetrics\n",
            "  Downloading torchmetrics-0.8.2-py3-none-any.whl (409 kB)\n",
            "\u001b[K     |████████████████████████████████| 409 kB 40.2 MB/s \n",
            "\u001b[?25hRequirement already satisfied: scikit-image in /usr/local/lib/python3.7/dist-packages (0.18.3)\n",
            "Requirement already satisfied: numpy<1.22 in /usr/local/lib/python3.7/dist-packages (from livelossplot) (1.21.6)\n",
            "Requirement already satisfied: matplotlib in /usr/local/lib/python3.7/dist-packages (from livelossplot) (3.2.2)\n",
            "Requirement already satisfied: bokeh in /usr/local/lib/python3.7/dist-packages (from livelossplot) (2.3.3)\n",
            "Collecting ipython==7.*\n",
            "  Downloading ipython-7.33.0-py3-none-any.whl (793 kB)\n",
            "\u001b[K     |████████████████████████████████| 793 kB 67.9 MB/s \n",
            "\u001b[?25hRequirement already satisfied: backcall in /usr/local/lib/python3.7/dist-packages (from ipython==7.*->livelossplot) (0.2.0)\n",
            "Requirement already satisfied: pygments in /usr/local/lib/python3.7/dist-packages (from ipython==7.*->livelossplot) (2.6.1)\n",
            "Requirement already satisfied: decorator in /usr/local/lib/python3.7/dist-packages (from ipython==7.*->livelossplot) (4.4.2)\n",
            "Requirement already satisfied: jedi>=0.16 in /usr/local/lib/python3.7/dist-packages (from ipython==7.*->livelossplot) (0.18.1)\n",
            "Collecting prompt-toolkit!=3.0.0,!=3.0.1,<3.1.0,>=2.0.0\n",
            "  Downloading prompt_toolkit-3.0.29-py3-none-any.whl (381 kB)\n",
            "\u001b[K     |████████████████████████████████| 381 kB 98.1 MB/s \n",
            "\u001b[?25hRequirement already satisfied: traitlets>=4.2 in /usr/local/lib/python3.7/dist-packages (from ipython==7.*->livelossplot) (5.1.1)\n",
            "Requirement already satisfied: matplotlib-inline in /usr/local/lib/python3.7/dist-packages (from ipython==7.*->livelossplot) (0.1.3)\n",
            "Requirement already satisfied: pickleshare in /usr/local/lib/python3.7/dist-packages (from ipython==7.*->livelossplot) (0.7.5)\n",
            "Requirement already satisfied: pexpect>4.3 in /usr/local/lib/python3.7/dist-packages (from ipython==7.*->livelossplot) (4.8.0)\n",
            "Requirement already satisfied: setuptools>=18.5 in /usr/local/lib/python3.7/dist-packages (from ipython==7.*->livelossplot) (57.4.0)\n",
            "Requirement already satisfied: parso<0.9.0,>=0.8.0 in /usr/local/lib/python3.7/dist-packages (from jedi>=0.16->ipython==7.*->livelossplot) (0.8.3)\n",
            "Requirement already satisfied: ptyprocess>=0.5 in /usr/local/lib/python3.7/dist-packages (from pexpect>4.3->ipython==7.*->livelossplot) (0.7.0)\n",
            "Requirement already satisfied: wcwidth in /usr/local/lib/python3.7/dist-packages (from prompt-toolkit!=3.0.0,!=3.0.1,<3.1.0,>=2.0.0->ipython==7.*->livelossplot) (0.2.5)\n",
            "Collecting art>=1.8\n",
            "  Downloading art-5.6-py2.py3-none-any.whl (590 kB)\n",
            "\u001b[K     |████████████████████████████████| 590 kB 57.8 MB/s \n",
            "\u001b[?25hCollecting requests~=2.25\n",
            "  Downloading requests-2.27.1-py2.py3-none-any.whl (63 kB)\n",
            "\u001b[K     |████████████████████████████████| 63 kB 1.7 MB/s \n",
            "\u001b[?25hRequirement already satisfied: click<9.0.0,>=7.1.2 in /usr/local/lib/python3.7/dist-packages (from radiant_mlhub) (7.1.2)\n",
            "Requirement already satisfied: tqdm~=4.56 in /usr/local/lib/python3.7/dist-packages (from radiant_mlhub) (4.64.0)\n",
            "Collecting pystac~=1.1\n",
            "  Downloading pystac-1.4.0-py3-none-any.whl (137 kB)\n",
            "\u001b[K     |████████████████████████████████| 137 kB 93.2 MB/s \n",
            "\u001b[?25hRequirement already satisfied: typing-extensions>=3.7 in /usr/local/lib/python3.7/dist-packages (from radiant_mlhub) (4.2.0)\n",
            "Requirement already satisfied: python-dateutil>=2.7.0 in /usr/local/lib/python3.7/dist-packages (from pystac~=1.1->radiant_mlhub) (2.8.2)\n",
            "Requirement already satisfied: six>=1.5 in /usr/local/lib/python3.7/dist-packages (from python-dateutil>=2.7.0->pystac~=1.1->radiant_mlhub) (1.15.0)\n",
            "Requirement already satisfied: charset-normalizer~=2.0.0 in /usr/local/lib/python3.7/dist-packages (from requests~=2.25->radiant_mlhub) (2.0.12)\n",
            "Requirement already satisfied: certifi>=2017.4.17 in /usr/local/lib/python3.7/dist-packages (from requests~=2.25->radiant_mlhub) (2022.5.18.1)\n",
            "Requirement already satisfied: idna<4,>=2.5 in /usr/local/lib/python3.7/dist-packages (from requests~=2.25->radiant_mlhub) (2.10)\n",
            "Requirement already satisfied: urllib3<1.27,>=1.21.1 in /usr/local/lib/python3.7/dist-packages (from requests~=2.25->radiant_mlhub) (1.24.3)\n",
            "Collecting pyDeprecate==0.3.*\n",
            "  Downloading pyDeprecate-0.3.2-py3-none-any.whl (10 kB)\n",
            "Requirement already satisfied: torch>=1.3.1 in /usr/local/lib/python3.7/dist-packages (from torchmetrics) (1.11.0+cu113)\n",
            "Requirement already satisfied: packaging in /usr/local/lib/python3.7/dist-packages (from torchmetrics) (21.3)\n",
            "Requirement already satisfied: imageio>=2.3.0 in /usr/local/lib/python3.7/dist-packages (from scikit-image) (2.4.1)\n",
            "Requirement already satisfied: pillow!=7.1.0,!=7.1.1,>=4.3.0 in /usr/local/lib/python3.7/dist-packages (from scikit-image) (7.1.2)\n",
            "Requirement already satisfied: networkx>=2.0 in /usr/local/lib/python3.7/dist-packages (from scikit-image) (2.6.3)\n",
            "Requirement already satisfied: tifffile>=2019.7.26 in /usr/local/lib/python3.7/dist-packages (from scikit-image) (2021.11.2)\n",
            "Requirement already satisfied: scipy>=1.0.1 in /usr/local/lib/python3.7/dist-packages (from scikit-image) (1.4.1)\n",
            "Requirement already satisfied: PyWavelets>=1.1.1 in /usr/local/lib/python3.7/dist-packages (from scikit-image) (1.3.0)\n",
            "Requirement already satisfied: kiwisolver>=1.0.1 in /usr/local/lib/python3.7/dist-packages (from matplotlib->livelossplot) (1.4.2)\n",
            "Requirement already satisfied: pyparsing!=2.0.4,!=2.1.2,!=2.1.6,>=2.0.1 in /usr/local/lib/python3.7/dist-packages (from matplotlib->livelossplot) (3.0.9)\n",
            "Requirement already satisfied: cycler>=0.10 in /usr/local/lib/python3.7/dist-packages (from matplotlib->livelossplot) (0.11.0)\n",
            "Requirement already satisfied: PyYAML>=3.10 in /usr/local/lib/python3.7/dist-packages (from bokeh->livelossplot) (3.13)\n",
            "Requirement already satisfied: tornado>=5.1 in /usr/local/lib/python3.7/dist-packages (from bokeh->livelossplot) (5.1.1)\n",
            "Requirement already satisfied: Jinja2>=2.9 in /usr/local/lib/python3.7/dist-packages (from bokeh->livelossplot) (2.11.3)\n",
            "Requirement already satisfied: MarkupSafe>=0.23 in /usr/local/lib/python3.7/dist-packages (from Jinja2>=2.9->bokeh->livelossplot) (2.0.1)\n",
            "Installing collected packages: prompt-toolkit, requests, pystac, pyDeprecate, ipython, art, torchmetrics, radiant-mlhub, pycm, livelossplot\n",
            "  Attempting uninstall: prompt-toolkit\n",
            "    Found existing installation: prompt-toolkit 1.0.18\n",
            "    Uninstalling prompt-toolkit-1.0.18:\n",
            "      Successfully uninstalled prompt-toolkit-1.0.18\n",
            "  Attempting uninstall: requests\n",
            "    Found existing installation: requests 2.23.0\n",
            "    Uninstalling requests-2.23.0:\n",
            "      Successfully uninstalled requests-2.23.0\n",
            "  Attempting uninstall: ipython\n",
            "    Found existing installation: ipython 5.5.0\n",
            "    Uninstalling ipython-5.5.0:\n",
            "      Successfully uninstalled ipython-5.5.0\n",
            "\u001b[31mERROR: pip's dependency resolver does not currently take into account all the packages that are installed. This behaviour is the source of the following dependency conflicts.\n",
            "jupyter-console 5.2.0 requires prompt-toolkit<2.0.0,>=1.0.0, but you have prompt-toolkit 3.0.29 which is incompatible.\n",
            "google-colab 1.0.0 requires ipython~=5.5.0, but you have ipython 7.33.0 which is incompatible.\n",
            "google-colab 1.0.0 requires requests~=2.23.0, but you have requests 2.27.1 which is incompatible.\n",
            "datascience 0.10.6 requires folium==0.2.1, but you have folium 0.8.3 which is incompatible.\u001b[0m\n",
            "Successfully installed art-5.6 ipython-7.33.0 livelossplot-0.5.5 prompt-toolkit-3.0.29 pyDeprecate-0.3.2 pycm-3.5 pystac-1.4.0 radiant-mlhub-0.4.1 requests-2.27.1 torchmetrics-0.8.2\n"
          ]
        },
        {
          "output_type": "display_data",
          "data": {
            "application/vnd.colab-display-data+json": {
              "pip_warning": {
                "packages": [
                  "IPython",
                  "prompt_toolkit"
                ]
              }
            }
          },
          "metadata": {}
        }
      ],
      "source": [
        "!pip install livelossplot pycm radiant_mlhub torchmetrics scikit-image"
      ]
    },
    {
      "cell_type": "code",
      "execution_count": null,
      "metadata": {
        "colab": {
          "base_uri": "https://localhost:8080/"
        },
        "outputId": "aa4b342d-5174-4586-841b-1aab2613373c",
        "id": "NMspP2C9TxO7"
      },
      "outputs": [
        {
          "output_type": "stream",
          "name": "stdout",
          "text": [
            "Mounted at /content/drive\n"
          ]
        }
      ],
      "source": [
        "from google.colab import drive\n",
        "drive.mount('/content/drive')"
      ]
    },
    {
      "cell_type": "code",
      "execution_count": null,
      "metadata": {
        "id": "eVAkd-SUTxO7"
      },
      "outputs": [],
      "source": [
        "# Importing required modules and packages\n",
        "from sklearn.metrics import accuracy_score\n",
        "from sklearn.model_selection import StratifiedShuffleSplit\n",
        "\n",
        "# Import Plotting packages \n",
        "from livelossplot import PlotLosses\n",
        "from pycm import *\n",
        "import seaborn as sns\n",
        "import matplotlib.pyplot as plt\n",
        "\n",
        "\n",
        "# Import torch packages that help us define our network\n",
        "\n",
        "import torch\n",
        "import torch.nn as nn\n",
        "import torch.nn.functional as F\n",
        "from torch.utils.data import TensorDataset, DataLoader, Dataset\n",
        "import torchvision.transforms as transforms\n",
        "from torchvision.transforms.transforms import Normalize\n",
        "from torchvision import datasets, transforms, models\n",
        "from torch.autograd import Variable\n",
        "from torchvision.datasets import ImageFolder\n",
        "\n",
        "# Package that allows us to summarize our network\n",
        "from torchsummary import summary\n",
        "\n",
        "# Import image manipulation package \n",
        "from PIL import Image\n",
        "\n",
        "# Importting numerical and dataframe management packages\n",
        "import numpy as np\n",
        "import pandas as pd\n",
        "import random\n",
        "\n",
        "# Packages to make a deep copy of our model \n",
        "from copy import deepcopy\n",
        "\n",
        "\n",
        "# File Manipulation Imports\n",
        "import os\n",
        "import json\n",
        "import re\n",
        "from glob import glob\n",
        "import tarfile\n",
        "from pathlib import Path\n",
        "import matplotlib.pyplot as plt\n",
        "from radiant_mlhub import Dataset, Collection, client\n",
        "from torchmetrics import StructuralSimilarityIndexMeasure\n",
        "\n",
        "# Packages for the metrics for the image\n",
        "from skimage.metrics import structural_similarity as ssim\n",
        "from skimage.metrics import mean_squared_error as mse\n",
        "from pathlib import Path\n",
        "from PIL import Image\n",
        "import numpy as np\n",
        "\n"
      ]
    },
    {
      "cell_type": "code",
      "execution_count": null,
      "metadata": {
        "colab": {
          "base_uri": "https://localhost:8080/"
        },
        "outputId": "c8c60949-c99c-4faa-c2ea-d0383ca1354d",
        "id": "PUzTo_68TxO7"
      },
      "outputs": [
        {
          "output_type": "stream",
          "name": "stdout",
          "text": [
            "Cuda installed! Running on GPU!\n"
          ]
        }
      ],
      "source": [
        "# ---------------------------------------------------------------------------------------------------\n",
        "# Selecting the devide to train on\n",
        "# ---------------------------------------------------------------------------------------------------\n",
        "\n",
        "device = 'gpu'\n",
        "if torch.cuda.device_count() > 0 and torch.cuda.is_available():\n",
        "    print(\"Cuda installed! Running on GPU!\")\n",
        "    device = 'cpu'\n",
        "else:\n",
        "    print(\"No GPU available!\")"
      ]
    },
    {
      "cell_type": "markdown",
      "source": [
        "### **Downloding the Data and Extracting the Files**"
      ],
      "metadata": {
        "id": "YmH_oQGE4thH"
      }
    },
    {
      "cell_type": "code",
      "execution_count": null,
      "metadata": {
        "id": "5qL5_BzETxO8"
      },
      "outputs": [],
      "source": [
        "# ---------------------------------------------------------------------------------------\n",
        "#                             !!  UPDATE VALUES HERE  !!                                       \n",
        "# ---------------------------------------------------------------------------------------\n",
        "# Set path sources in the folders\n",
        "path_source = \"/content/nasa_tropical_storm_competition_surprise_storm_source.tar.gz\"\n",
        "path_labels = \"/content/nasa_tropical_storm_competition_surprise_storm_labels.tar.gz\"\n",
        "\n",
        "# Set the archive paths to the downlaod path\n",
        "archive_paths = [path_source, path_labels, path_metrics]"
      ]
    },
    {
      "cell_type": "code",
      "execution_count": null,
      "metadata": {
        "colab": {
          "base_uri": "https://localhost:8080/"
        },
        "outputId": "cb0bdff6-ce8d-4645-9771-b0d4324786ab",
        "id": "fq-kWZ0hTxO8"
      },
      "outputs": [
        {
          "output_type": "stream",
          "name": "stdout",
          "text": [
            "Extracting /content/nasa_tropical_storm_competition_surprise_storm_source.tar.gz...\n",
            "Extracting /content/nasa_tropical_storm_competition_surprise_storm_labels.tar.gz...\n",
            "Extracting /content/nasa_tropical_storm_competition_surprise_storm_metrics.tar.gz...\n",
            "Done\n"
          ]
        }
      ],
      "source": [
        "download_dir = Path(\"/content\").expanduser().resolve()\n",
        "# ---------------------------------------------------------------------------------------------------\n",
        "# EXTRACT TAR FILES AND SAVE THE PATH\n",
        "# ---------------------------------------------------------------------------------------------------\n",
        "for archive_path in archive_paths:\n",
        "    print(f'Extracting {archive_path}...')\n",
        "    with tarfile.open(archive_path) as tfile:\n",
        "        tfile.extractall(path=download_dir)\n",
        "print('Done')"
      ]
    },
    {
      "cell_type": "code",
      "source": [
        "# ---------------------------------------------------------------------------------------\n",
        "#                             !!  UPDATE VALUES HERE  !!                                       \n",
        "# ---------------------------------------------------------------------------------------\n",
        "train_source = 'nasa_tropical_storm_competition_surprise_storm_source'\n",
        "train_labels = 'nasa_tropical_storm_competition_surprise_storm_labels'"
      ],
      "metadata": {
        "id": "fWiZ_oqXTsOJ"
      },
      "execution_count": null,
      "outputs": []
    },
    {
      "cell_type": "code",
      "source": [
        "\n",
        "train_data = []\n",
        "\n",
        "\n",
        "# ---------------------------------------------------------------------------------------------------\n",
        "\n",
        "jpg_names = glob(str(download_dir / train_source / '**' / '*.jpg'))\n",
        "# ---------------------------------------------------------------------------------------------------\n",
        "\n",
        "for jpg_path in jpg_names:\n",
        "  jpg_path = Path(jpg_path)\n",
        "  # Get the IDs and file paths\n",
        "  features_path = jpg_path.parent / 'features.json'\n",
        "  image_id = '_'.join(jpg_path.parent.stem.rsplit('_', 3)[-2:])\n",
        "  storm_id = image_id.split('_')[0]\n",
        "  labels_path = str(jpg_path.parent / 'labels.json').replace(train_source, train_labels)\n",
        "  file_name = jpg_path\n",
        "\n",
        "  # Load the features data\n",
        "  with open(features_path) as src:\n",
        "    features_data = json.load(src)\n",
        "  # Load the labels data\n",
        "  with open(labels_path) as src:\n",
        "    labels_data = json.load(src)\n",
        "\n",
        "  train_data.append([\n",
        "  image_id,\n",
        "  storm_id,\n",
        "  int(features_data['relative_time']),\n",
        "  int(features_data['ocean']),\n",
        "  int(labels_data['wind_speed']),\n",
        "\n",
        "  file_name\n",
        "  ])\n",
        "\n",
        "# ---------------------------------------------------------------------------------------------------\n",
        "# Save the test dataframe\n",
        "train_df = pd.DataFrame(\n",
        "np.array(train_data),\n",
        "columns=['Image_ID', 'Storm_ID', 'Relative_Time', 'Ocean', 'Wind_Speed', 'image_paths']\n",
        ").sort_values(by=['Image_ID']).reset_index(drop=True)\n",
        "\n",
        "\n"
      ],
      "metadata": {
        "id": "8kGxSRSiWi_Z"
      },
      "execution_count": null,
      "outputs": []
    },
    {
      "cell_type": "code",
      "source": [
        "# ---------------------------------------------------------------------------------------------------\n",
        "# Disply the loaded Data\n",
        "# ---------------------------------------------------------------------------------------------------\n",
        "\n",
        "train_df.head()"
      ],
      "metadata": {
        "colab": {
          "base_uri": "https://localhost:8080/",
          "height": 206
        },
        "id": "f1EAD_4f4Xtd",
        "outputId": "9e5adb2a-ceae-4f63-ecf3-49c8526848db"
      },
      "execution_count": null,
      "outputs": [
        {
          "output_type": "execute_result",
          "data": {
            "text/plain": [
              "  Image_ID Storm_ID Relative_Time Ocean Wind_Speed  \\\n",
              "0  sss_001      sss        437401     1        120   \n",
              "1  sss_002      sss        439200     1        121   \n",
              "2  sss_003      sss        442800     1        124   \n",
              "3  sss_004      sss        448200     1        128   \n",
              "4  sss_005      sss        453600     1        130   \n",
              "\n",
              "                                         image_paths  \n",
              "0  /content/nasa_tropical_storm_competition_surpr...  \n",
              "1  /content/nasa_tropical_storm_competition_surpr...  \n",
              "2  /content/nasa_tropical_storm_competition_surpr...  \n",
              "3  /content/nasa_tropical_storm_competition_surpr...  \n",
              "4  /content/nasa_tropical_storm_competition_surpr...  "
            ],
            "text/html": [
              "\n",
              "  <div id=\"df-8bf3ba8b-f944-462a-863b-332ef2bd531d\">\n",
              "    <div class=\"colab-df-container\">\n",
              "      <div>\n",
              "<style scoped>\n",
              "    .dataframe tbody tr th:only-of-type {\n",
              "        vertical-align: middle;\n",
              "    }\n",
              "\n",
              "    .dataframe tbody tr th {\n",
              "        vertical-align: top;\n",
              "    }\n",
              "\n",
              "    .dataframe thead th {\n",
              "        text-align: right;\n",
              "    }\n",
              "</style>\n",
              "<table border=\"1\" class=\"dataframe\">\n",
              "  <thead>\n",
              "    <tr style=\"text-align: right;\">\n",
              "      <th></th>\n",
              "      <th>Image_ID</th>\n",
              "      <th>Storm_ID</th>\n",
              "      <th>Relative_Time</th>\n",
              "      <th>Ocean</th>\n",
              "      <th>Wind_Speed</th>\n",
              "      <th>image_paths</th>\n",
              "    </tr>\n",
              "  </thead>\n",
              "  <tbody>\n",
              "    <tr>\n",
              "      <th>0</th>\n",
              "      <td>sss_001</td>\n",
              "      <td>sss</td>\n",
              "      <td>437401</td>\n",
              "      <td>1</td>\n",
              "      <td>120</td>\n",
              "      <td>/content/nasa_tropical_storm_competition_surpr...</td>\n",
              "    </tr>\n",
              "    <tr>\n",
              "      <th>1</th>\n",
              "      <td>sss_002</td>\n",
              "      <td>sss</td>\n",
              "      <td>439200</td>\n",
              "      <td>1</td>\n",
              "      <td>121</td>\n",
              "      <td>/content/nasa_tropical_storm_competition_surpr...</td>\n",
              "    </tr>\n",
              "    <tr>\n",
              "      <th>2</th>\n",
              "      <td>sss_003</td>\n",
              "      <td>sss</td>\n",
              "      <td>442800</td>\n",
              "      <td>1</td>\n",
              "      <td>124</td>\n",
              "      <td>/content/nasa_tropical_storm_competition_surpr...</td>\n",
              "    </tr>\n",
              "    <tr>\n",
              "      <th>3</th>\n",
              "      <td>sss_004</td>\n",
              "      <td>sss</td>\n",
              "      <td>448200</td>\n",
              "      <td>1</td>\n",
              "      <td>128</td>\n",
              "      <td>/content/nasa_tropical_storm_competition_surpr...</td>\n",
              "    </tr>\n",
              "    <tr>\n",
              "      <th>4</th>\n",
              "      <td>sss_005</td>\n",
              "      <td>sss</td>\n",
              "      <td>453600</td>\n",
              "      <td>1</td>\n",
              "      <td>130</td>\n",
              "      <td>/content/nasa_tropical_storm_competition_surpr...</td>\n",
              "    </tr>\n",
              "  </tbody>\n",
              "</table>\n",
              "</div>\n",
              "      <button class=\"colab-df-convert\" onclick=\"convertToInteractive('df-8bf3ba8b-f944-462a-863b-332ef2bd531d')\"\n",
              "              title=\"Convert this dataframe to an interactive table.\"\n",
              "              style=\"display:none;\">\n",
              "        \n",
              "  <svg xmlns=\"http://www.w3.org/2000/svg\" height=\"24px\"viewBox=\"0 0 24 24\"\n",
              "       width=\"24px\">\n",
              "    <path d=\"M0 0h24v24H0V0z\" fill=\"none\"/>\n",
              "    <path d=\"M18.56 5.44l.94 2.06.94-2.06 2.06-.94-2.06-.94-.94-2.06-.94 2.06-2.06.94zm-11 1L8.5 8.5l.94-2.06 2.06-.94-2.06-.94L8.5 2.5l-.94 2.06-2.06.94zm10 10l.94 2.06.94-2.06 2.06-.94-2.06-.94-.94-2.06-.94 2.06-2.06.94z\"/><path d=\"M17.41 7.96l-1.37-1.37c-.4-.4-.92-.59-1.43-.59-.52 0-1.04.2-1.43.59L10.3 9.45l-7.72 7.72c-.78.78-.78 2.05 0 2.83L4 21.41c.39.39.9.59 1.41.59.51 0 1.02-.2 1.41-.59l7.78-7.78 2.81-2.81c.8-.78.8-2.07 0-2.86zM5.41 20L4 18.59l7.72-7.72 1.47 1.35L5.41 20z\"/>\n",
              "  </svg>\n",
              "      </button>\n",
              "      \n",
              "  <style>\n",
              "    .colab-df-container {\n",
              "      display:flex;\n",
              "      flex-wrap:wrap;\n",
              "      gap: 12px;\n",
              "    }\n",
              "\n",
              "    .colab-df-convert {\n",
              "      background-color: #E8F0FE;\n",
              "      border: none;\n",
              "      border-radius: 50%;\n",
              "      cursor: pointer;\n",
              "      display: none;\n",
              "      fill: #1967D2;\n",
              "      height: 32px;\n",
              "      padding: 0 0 0 0;\n",
              "      width: 32px;\n",
              "    }\n",
              "\n",
              "    .colab-df-convert:hover {\n",
              "      background-color: #E2EBFA;\n",
              "      box-shadow: 0px 1px 2px rgba(60, 64, 67, 0.3), 0px 1px 3px 1px rgba(60, 64, 67, 0.15);\n",
              "      fill: #174EA6;\n",
              "    }\n",
              "\n",
              "    [theme=dark] .colab-df-convert {\n",
              "      background-color: #3B4455;\n",
              "      fill: #D2E3FC;\n",
              "    }\n",
              "\n",
              "    [theme=dark] .colab-df-convert:hover {\n",
              "      background-color: #434B5C;\n",
              "      box-shadow: 0px 1px 3px 1px rgba(0, 0, 0, 0.15);\n",
              "      filter: drop-shadow(0px 1px 2px rgba(0, 0, 0, 0.3));\n",
              "      fill: #FFFFFF;\n",
              "    }\n",
              "  </style>\n",
              "\n",
              "      <script>\n",
              "        const buttonEl =\n",
              "          document.querySelector('#df-8bf3ba8b-f944-462a-863b-332ef2bd531d button.colab-df-convert');\n",
              "        buttonEl.style.display =\n",
              "          google.colab.kernel.accessAllowed ? 'block' : 'none';\n",
              "\n",
              "        async function convertToInteractive(key) {\n",
              "          const element = document.querySelector('#df-8bf3ba8b-f944-462a-863b-332ef2bd531d');\n",
              "          const dataTable =\n",
              "            await google.colab.kernel.invokeFunction('convertToInteractive',\n",
              "                                                     [key], {});\n",
              "          if (!dataTable) return;\n",
              "\n",
              "          const docLinkHtml = 'Like what you see? Visit the ' +\n",
              "            '<a target=\"_blank\" href=https://colab.research.google.com/notebooks/data_table.ipynb>data table notebook</a>'\n",
              "            + ' to learn more about interactive tables.';\n",
              "          element.innerHTML = '';\n",
              "          dataTable['output_type'] = 'display_data';\n",
              "          await google.colab.output.renderOutput(dataTable, element);\n",
              "          const docLink = document.createElement('div');\n",
              "          docLink.innerHTML = docLinkHtml;\n",
              "          element.appendChild(docLink);\n",
              "        }\n",
              "      </script>\n",
              "    </div>\n",
              "  </div>\n",
              "  "
            ]
          },
          "metadata": {},
          "execution_count": 9
        }
      ]
    },
    {
      "cell_type": "code",
      "execution_count": null,
      "metadata": {
        "id": "F6iUz_BdTxO8"
      },
      "outputs": [],
      "source": [
        "train_df[\"image_paths\"] = glob(str(download_dir / train_source / '**' / '*.jpg'))\n",
        "test_df = train_df\n",
        "test_df[\"image_paths\"] = glob(str(download_dir / train_source / '**' / '*.jpg'))\n"
      ]
    },
    {
      "cell_type": "markdown",
      "source": [
        "### **Edploratory Data Analysis**"
      ],
      "metadata": {
        "id": "3TklFldq5Imz"
      }
    },
    {
      "cell_type": "code",
      "source": [
        "# gauge the Length of the Data\n",
        "len(train_df)"
      ],
      "metadata": {
        "colab": {
          "base_uri": "https://localhost:8080/"
        },
        "id": "40ZjPJmMYxsu",
        "outputId": "207a4186-96ee-4489-f6d7-89f397126ee5"
      },
      "execution_count": null,
      "outputs": [
        {
          "output_type": "execute_result",
          "data": {
            "text/plain": [
              "100"
            ]
          },
          "metadata": {},
          "execution_count": 11
        }
      ]
    },
    {
      "cell_type": "code",
      "execution_count": null,
      "metadata": {
        "colab": {
          "base_uri": "https://localhost:8080/"
        },
        "outputId": "c1d6a1ef-d80a-44a2-fe46-0d049bb702d3",
        "id": "mwIW4TgATxO8"
      },
      "outputs": [
        {
          "output_type": "execute_result",
          "data": {
            "text/plain": [
              "95"
            ]
          },
          "metadata": {},
          "execution_count": 12
        }
      ],
      "source": [
        "# Excluding the last 5 storms  - this is the test Data\n",
        "train_df = train_df[:-5]\n",
        "# Print the new length of the data\n",
        "len(train_df)"
      ]
    },
    {
      "cell_type": "markdown",
      "source": [
        "## **Training and Validation Split**"
      ],
      "metadata": {
        "id": "Ai8tzGJu3hqI"
      }
    },
    {
      "cell_type": "code",
      "execution_count": null,
      "metadata": {
        "id": "POlMkgaMTxO9"
      },
      "outputs": [],
      "source": [
        "# ---------------------------------------------------------------------------------------------------\n",
        "# Find the Training and Validation Split for the FCR Storm : Splitting the Data 80:20 \n",
        "# 80% - Training Data and 20% - Validation Data\n",
        "train_count = int(np.floor(len(train_df)*.8))\n",
        "val_count = len(train_df) - train_count"
      ]
    },
    {
      "cell_type": "markdown",
      "source": [
        "## **Data Transformations and Preprocessing**"
      ],
      "metadata": {
        "id": "NT6eE3dZ4EXo"
      }
    },
    {
      "cell_type": "code",
      "source": [
        "# --------------------------------------------------------------------------------------------------\n",
        "#                             !!  UPDATE VALUES HERE  !!                                       \n",
        "# --------------------------------------------------------------------------------------------------\n",
        "# Define the resizing value\n",
        "resize_value = 64"
      ],
      "metadata": {
        "id": "NerrOsR9UR2j"
      },
      "execution_count": null,
      "outputs": []
    },
    {
      "cell_type": "code",
      "execution_count": null,
      "metadata": {
        "id": "U034doiYTxO9"
      },
      "outputs": [],
      "source": [
        "# ---------------------------------------------------------------------------------------------------\n",
        "# DATA TRANSFORMATIONS : Creating the transforms for the Data\n",
        "# ---------------------------------------------------------------------------------------------------\n",
        "#   The Transforms Include :\n",
        "# - Converting the Data to Grayscale with 1 channel ( from 3 RGB channels to 1 channel )\n",
        "# - Resizing the data to 64x64 for training purposes\n",
        "# - Transform the data to a list of tensors for future ease of manipulations\n",
        "\n",
        "# Define the transform\n",
        "transform_data = transforms.Compose([transforms.Grayscale(1),transforms.ToTensor(),transforms.Resize(resize_value)])\n"
      ]
    },
    {
      "cell_type": "code",
      "source": [
        "# --------------------------------------------------------------------------------------------------\n",
        "#                             !!  UPDATE VALUES HERE  !!                                       \n",
        "# --------------------------------------------------------------------------------------------------\n",
        "data_path = '/content/nasa_tropical_storm_competition_surprise_storm_source'\n",
        "\n",
        "def loader(path):\n",
        "  return open(path)\n",
        "\n",
        "# ---------------------------------------------------------------------------------------------------\n",
        "# Immport the Images using ImageFolder Dataset and apply the defined transforms\n",
        "train_set_folder = ImageFolder(data_path, transform=transform_data)"
      ],
      "metadata": {
        "id": "D8tsSO3mUOSc"
      },
      "execution_count": null,
      "outputs": []
    },
    {
      "cell_type": "code",
      "execution_count": null,
      "metadata": {
        "id": "pTk9AJHYTxO9"
      },
      "outputs": [],
      "source": [
        "# ---------------------------------------------------------------------------------------------------\n",
        "# Save the Training Data\n",
        "# ---------------------------------------------------------------------------------------------------\n",
        "x_train = torch.asarray([train_set_folder[a][0].numpy() for a in list(train_df.index)[:train_count]])\n",
        "# ---------------------------------------------------------------------------------------------------\n",
        "# Save the Validtion Data\n",
        "# ---------------------------------------------------------------------------------------------------\n",
        "x_val  = torch.asarray([train_set_folder[a][0].numpy() for a in list(train_df.index)[train_count:]])\n",
        "# ---------------------------------------------------------------------------------------------------\n",
        "# Save the Testing Data\n",
        "# ---------------------------------------------------------------------------------------------------\n",
        "x_test  = torch.asarray([train_set_folder[a][0].numpy() for a in list(train_df.index)])\n"
      ]
    },
    {
      "cell_type": "code",
      "source": [
        "\n",
        "# --------------------------------------------------------------------------------------------------\n",
        "#                             !!  UPDATE VALUES HERE  !!                                       \n",
        "# --------------------------------------------------------------------------------------------------\n",
        "# Define the number of frames to consider at a time\n",
        "frames = 10"
      ],
      "metadata": {
        "id": "GV0kFDrx1cIg"
      },
      "execution_count": null,
      "outputs": []
    },
    {
      "cell_type": "code",
      "source": [
        "# --------------------------------------------------------------------------\n",
        "# DATA PREPROCESSING : NUMBER OF SEQUENCES/FRAMES TO CONSIDER AT A TIME\n",
        "# --------------------------------------------------------------------------\n",
        "# Reshaping parameter\n",
        "x1 = int(x_train.shape[0]/frames)\n",
        "x2 = int(x_val.shape[0]/frames)\n",
        "x3 = int(x_test.shape[0]/frames)\n",
        "\n",
        "\n",
        "# Reshape the training, test and validation data\n",
        "x1_reshaped = x_train[:x1*frames]\n",
        "x2_reshaped = x_val[:x2*frames]\n",
        "x3_reshaped = x_test[:x3*frames]\n",
        "\n",
        "# Print the intermediate reshaped sizes to verify that the images are reaized as required\n",
        "# print(x1_reshaped.shape)\n",
        "# print(x2_reshaped.shape)\n",
        "# print(x3_reshaped.shape)\n",
        "\n",
        "# Final reshaping of the data to fit the number of frames\n",
        "x_train = x1_reshaped.reshape(-1, frames, x_train.shape[2], x_train.shape[3])\n",
        "x_val = x2_reshaped.reshape(-1, frames, x_val.shape[2], x_val.shape[3])\n",
        "x_test = x3_reshaped.reshape(-1, frames, x_test.shape[2], x_test.shape[3])\n",
        "\n",
        "# Print final reshaped sizes to verify that the images are resized as required\n",
        "print(x_train.shape)\n",
        "print(x_test.shape)\n",
        "print(x_val.shape)\n"
      ],
      "metadata": {
        "colab": {
          "base_uri": "https://localhost:8080/"
        },
        "id": "sa0q5LAdK50Q",
        "outputId": "f1a238bf-c190-4a88-bdee-8461c0fc8614"
      },
      "execution_count": null,
      "outputs": [
        {
          "output_type": "stream",
          "name": "stdout",
          "text": [
            "torch.Size([0, 10, 64, 64])\n",
            "torch.Size([0, 10, 64, 64])\n",
            "torch.Size([0, 10, 64, 64])\n"
          ]
        }
      ]
    },
    {
      "cell_type": "code",
      "source": [
        "# --------------------------------------------------------------------------------------------------\n",
        "#                             !!  UPDATE VALUES HERE  !!                                       \n",
        "# --------------------------------------------------------------------------------------------------\n",
        "# The number of Images you want to predict\n",
        "images_to_predict = int(5)"
      ],
      "metadata": {
        "id": "8k3PN0WTLTl1"
      },
      "execution_count": null,
      "outputs": []
    },
    {
      "cell_type": "code",
      "execution_count": null,
      "metadata": {
        "id": "tl8JymYlTxO-"
      },
      "outputs": [],
      "source": [
        "# --------------------------------------------------------------------------\n",
        "# DATA PREPROCESSING : CREATE BATCHES FOR EACH SET OF FRAMES\n",
        "# --------------------------------------------------------------------------\n",
        "# We use the collate function to create input and target batches \n",
        "# The input batch selects first five inputs of each sequence to predict the \n",
        "# next 5 sequences in the data.\n",
        "\n",
        "def collate(batch):\n",
        "    # Add channel dimension\n",
        "    batch = torch.tensor(batch).unsqueeze(1)     \n",
        "    # Send the input and targets from the batch to the GPU                  \n",
        "    batch = batch.to(device)                     \n",
        "\n",
        "    # Pick the first 5 frames as input and the predict the next 5 frames                   \n",
        "    return batch[:,:,0:images_to_predict], batch[:,:,images_to_predict]  "
      ]
    },
    {
      "cell_type": "markdown",
      "source": [
        "## **Data Augmentation : Special Preprocessing Considering the Limited Size of the Images Dataset**\n",
        "\n",
        "Here, Since all the samples of the images are in sequence, we can see that if we revisit the batch window by overlapping over the previous sequence, we can iterate over/ use samples multiple times for better outputs.\n",
        "\n",
        "This is done using the preprocessing file `preprocesssing.ipynb` in the folder.\n",
        "\n",
        "Further the preprocessing file also standardizes and shapes the data in the required format for the model.\n",
        "\n",
        "The output of this file is a `.npy` called enlarged_data and we can use this to run our model."
      ],
      "metadata": {
        "id": "_YRLNNtC0xRM"
      }
    },
    {
      "cell_type": "code",
      "source": [
        "# ------------------------------------------------------------\n",
        "# Load the preprocessed images file\n",
        "# ------------------------------------------------------------\n",
        "train_data= np.load( \"enlarge_data2.npy\" )"
      ],
      "metadata": {
        "id": "JpwM9gnY0Rhc"
      },
      "execution_count": null,
      "outputs": []
    },
    {
      "cell_type": "markdown",
      "source": [
        "## **Training and Validation Split**"
      ],
      "metadata": {
        "id": "cc22ny0l152v"
      }
    },
    {
      "cell_type": "markdown",
      "source": [
        "Split the Training and validation data into a 90:10 split"
      ],
      "metadata": {
        "id": "ALRw2HOVJyhv"
      }
    },
    {
      "cell_type": "code",
      "source": [
        "# Count the number of training samples\n",
        "training_count = int(len(train_data)*.9)"
      ],
      "metadata": {
        "id": "iWeDFPjSJdim"
      },
      "execution_count": null,
      "outputs": []
    },
    {
      "cell_type": "code",
      "source": [
        "# Split the data into training and Validation Data\n",
        "training_data = train_data[:training_count,:,:,:]\n",
        "validation_data = train_data[training_count:,:,:,:]"
      ],
      "metadata": {
        "id": "fDw3DdqFsbRZ"
      },
      "execution_count": null,
      "outputs": []
    },
    {
      "cell_type": "markdown",
      "source": [
        "## **The Convolutional LSTM Model**"
      ],
      "metadata": {
        "id": "HR4_K7bP24HN"
      }
    },
    {
      "cell_type": "markdown",
      "source": [
        "#### Functions in the Convolutional LSTM Model\n",
        "\n",
        "- The Convolutional LSTM Cell\n",
        "- The Sequence to Sequence Function\n",
        "- The Convoltuional LSTM function\n",
        "\n",
        "\n",
        "\n",
        "The code for this model is heavily influenced by the following sources ⁉\n",
        "\n",
        "[1] [Video Frame Prediction using ConvLSTM Network in PyTorch, Medium Article](#https://sladewinter.medium.com/video-frame-prediction-using-convlstm-network-in-pytorch-b5210a6ce582)\n",
        "\n",
        "[2] [Convolutional LSTM in Pytorch, Github Repository](#https://github.com/ndrplz/ConvLSTM_pytorch)\n",
        "\n",
        "[3] [ConvLSTM cell, Shi et al.](#https://paperswithcode.com/paper/convolutional-lstm-network-a-machine-learning#code)\n"
      ],
      "metadata": {
        "id": "tQKpkxx82yBG"
      }
    },
    {
      "cell_type": "markdown",
      "source": [
        "### **Sequence to Sequence Function**"
      ],
      "metadata": {
        "id": "625iQpqQ2t5C"
      }
    },
    {
      "cell_type": "code",
      "execution_count": null,
      "metadata": {
        "id": "mcLuvLInTxO_"
      },
      "outputs": [],
      "source": [
        "# ---------------------------------------------------------------------------------------------------\n",
        "# Sequence to Sequence Function\n",
        "# ---------------------------------------------------------------------------------------------------\n",
        "class Seq2Seq(nn.Module):\n",
        "    # --------------------------------------------------------------------------\n",
        "    # Initialization Function \n",
        "    # --------------------------------------------------------------------------\n",
        "    # Number of Channels \n",
        "    # Number of Kernals\n",
        "    # Kernal Size\n",
        "    # Padding\n",
        "    # Activation Function\n",
        "    # Frame Size\n",
        "    # Number of ConvLSTM Layers\n",
        "\n",
        "    def __init__(self, num_channels, num_kernels, kernel_size, padding, \n",
        "    activation, frame_size, num_layers):\n",
        "        # Supercharge the Model\n",
        "        super(Seq2Seq, self).__init__()\n",
        "        # Define the sequential function for the network\n",
        "        self.sequential = nn.Sequential()\n",
        "\n",
        "        # -----------------------------------------------------------------------------\n",
        "        # SECTION 1 : Define First layer (Different in_channels than the rest)\n",
        "        self.sequential.add_module(\n",
        "            \"convlstm1\", ConvLSTM(\n",
        "                in_channels=num_channels, out_channels=num_kernels,\n",
        "                kernel_size=kernel_size, padding=padding, \n",
        "                activation=activation, frame_size=frame_size)\n",
        "        )\n",
        "        # Add Consequitive Batch Normaliation for Regularization of the Data\n",
        "        self.sequential.add_module(\n",
        "            \"batchnorm1\", nn.BatchNorm3d(num_features=num_kernels)\n",
        "        ) \n",
        "\n",
        "        # -----------------------------------------------------------------------------\n",
        "        # SECTION 2 : Define the rest of the layers using a loop for ease\n",
        "        for l in range(2, num_layers+1):\n",
        "\n",
        "            self.sequential.add_module(\n",
        "                f\"convlstm{l}\", ConvLSTM(\n",
        "                    in_channels=num_kernels, out_channels=num_kernels,\n",
        "                    kernel_size=kernel_size, padding=padding, \n",
        "                    activation=activation, frame_size=frame_size)\n",
        "                )\n",
        "            # Add Batch Normaliation for Regularization of the Data    \n",
        "            self.sequential.add_module(\n",
        "                f\"batchnorm{l}\", nn.BatchNorm3d(num_features=num_kernels)\n",
        "                ) \n",
        "            \n",
        "        # -----------------------------------------------------------------------------\n",
        "        # SECTION 3 : Define Final Convolutional Layer to predict output frame\n",
        "        self.conv = nn.Conv2d(\n",
        "            in_channels=num_kernels, out_channels=num_channels,\n",
        "            kernel_size=kernel_size, padding=padding)\n",
        "\n",
        "    def forward(self, X):\n",
        "\n",
        "        # Define the forward pass through all the layers\n",
        "        output = self.sequential(X)\n",
        "\n",
        "        # Return only the last output frame of the predicted set\n",
        "        output = self.conv(output[:,:,-1])\n",
        "\n",
        "        return output"
      ]
    },
    {
      "cell_type": "markdown",
      "source": [
        "### **Convolutional LSTM Cell**"
      ],
      "metadata": {
        "id": "DVgNyZvR2kkn"
      }
    },
    {
      "cell_type": "code",
      "execution_count": null,
      "metadata": {
        "id": "hz6wcQ3LTxO_"
      },
      "outputs": [],
      "source": [
        "class ConvLSTMCell(nn.Module):\n",
        "    # --------------------------------------------------------------------------\n",
        "    # Initialization Function \n",
        "    # --------------------------------------------------------------------------\n",
        "    # Number of  input channels \n",
        "    # Number of  output channels s\n",
        "    # Kernal Size\n",
        "    # Padding\n",
        "    # Activation Function\n",
        "    # Frame Size\n",
        "    def __init__(self, in_channels, out_channels, \n",
        "    kernel_size, padding, activation, frame_size):\n",
        "        # Supercharge the Model\n",
        "        super(ConvLSTMCell, self).__init__()  \n",
        "\n",
        "        # Depending on the selected activation function- define the input\n",
        "        if activation == \"tanh\":\n",
        "            self.activation = torch.tanh \n",
        "        elif activation == \"relu\":\n",
        "            self.activation = torch.relu\n",
        "        \n",
        "        # Adapted from Reference[2]\n",
        "        self.conv = nn.Conv2d(\n",
        "            in_channels=in_channels + out_channels, \n",
        "            out_channels=4 * out_channels, \n",
        "            kernel_size=kernel_size, \n",
        "            padding=padding)           \n",
        "        # --------------------------------------------------------------------------\n",
        "        # Initialize weights for Hadamard Products \n",
        "        # --------------------------------------------------------------------------\n",
        "        # Initialize Input weights\n",
        "        self.W_ci = nn.Parameter(torch.Tensor(out_channels, *frame_size))\n",
        "        # Initialize Output weights\n",
        "        self.W_co = nn.Parameter(torch.Tensor(out_channels, *frame_size))\n",
        "        # Initialize forget weights\n",
        "        self.W_cf = nn.Parameter(torch.Tensor(out_channels, *frame_size))\n",
        "\n",
        "    def forward(self, X, H_prev, C_prev):\n",
        "        # --------------------------------------------------------------------------\n",
        "        # Forward Function \n",
        "        # --------------------------------------------------------------------------\n",
        "        # Adapted from Reference[2]\n",
        "        conv_output = self.conv(torch.cat([X, H_prev], dim=1))\n",
        "\n",
        "        # Adapted from Reference[2]\n",
        "        i_conv, f_conv, C_conv, o_conv = torch.chunk(conv_output, chunks=4, dim=1)\n",
        "\n",
        "        # Actiavte the input and forget gate with a sigmoid function (a leaky switch)\n",
        "        input_gate = torch.sigmoid(i_conv + self.W_ci * C_prev )\n",
        "        forget_gate = torch.sigmoid(f_conv + self.W_cf * C_prev )\n",
        "\n",
        "        # Current Cell output is added to the input gate\n",
        "        C = forget_gate*C_prev + input_gate * self.activation(C_conv)\n",
        "\n",
        "        # Activate the output gate using the sigmoid function\n",
        "        output_gate = torch.sigmoid(o_conv + self.W_co * C )\n",
        "\n",
        "        # Initialize the Current Hidden State\n",
        "        H = output_gate * self.activation(C)\n",
        "\n",
        "        return H, C"
      ]
    },
    {
      "cell_type": "markdown",
      "source": [
        "### **Convolutional LSTM Network**"
      ],
      "metadata": {
        "id": "BN7LiXWG2eSj"
      }
    },
    {
      "cell_type": "code",
      "execution_count": null,
      "metadata": {
        "id": "iZlDvRSGTxPA"
      },
      "outputs": [],
      "source": [
        "\n",
        "class ConvLSTM(nn.Module):\n",
        "    # --------------------------------------------------------------------------\n",
        "    # Initialization Function \n",
        "    # --------------------------------------------------------------------------\n",
        "    # Number of  input channels \n",
        "    # Number of  output channels\n",
        "    # Kernal Size\n",
        "    # Padding\n",
        "    # Activation Function\n",
        "    # Frame Size\n",
        "    def __init__(self, in_channels, out_channels, \n",
        "    kernel_size, padding, activation, frame_size):\n",
        "\n",
        "        # SuperCharge the Model\n",
        "        super(ConvLSTM, self).__init__()\n",
        "        # Define the number of output channels\n",
        "        self.out_channels = out_channels\n",
        "\n",
        "        # Single LSTM Cell - to be rolled over time\n",
        "        self.convLSTMcell = ConvLSTMCell(in_channels, out_channels, \n",
        "        kernel_size, padding, activation, frame_size)\n",
        "\n",
        "    def forward(self, X):\n",
        "        # --------------------------------------------------------------------------\n",
        "        # Forward Function \n",
        "        # --------------------------------------------------------------------------\n",
        "        # X is a frame sequence \n",
        "        # X is defined in the order - batch_size, num_channels, seq_len, height, width \n",
        "\n",
        "        # Unravel the required parameters\n",
        "        batch_size, _, seq_len, height, width = X.size()\n",
        "\n",
        "        # Initialize a tensor output with zeros \n",
        "        output = torch.zeros(batch_size, self.out_channels, seq_len, \n",
        "        height, width, device=device)\n",
        "        \n",
        "        # Initialize a tensor Hidden State with zeros\n",
        "        H = torch.zeros(batch_size, self.out_channels, \n",
        "        height, width, device=device)\n",
        "\n",
        "        # Initialize tensor Cell Input with zeros\n",
        "        C = torch.zeros(batch_size,self.out_channels, \n",
        "        height, width, device=device)\n",
        "\n",
        "        # Load over the time sequence of the model - is the number of frames\n",
        "        for time_step in range(seq_len):\n",
        "            H, C = self.convLSTMcell(X[:,:,time_step], H, C)\n",
        "            output[:,:,time_step] = H\n",
        "\n",
        "        return output"
      ]
    },
    {
      "cell_type": "markdown",
      "source": [
        "## **Loading the Data in DataLoaders**"
      ],
      "metadata": {
        "id": "jdmh7Y_gzw28"
      }
    },
    {
      "cell_type": "code",
      "execution_count": null,
      "metadata": {
        "id": "zfd7Hy6qTxPA"
      },
      "outputs": [],
      "source": [
        "# Training Data Loader\n",
        "train_loader = DataLoader(training_data, shuffle=False, \n",
        "                        batch_size=8, collate_fn=collate)\n",
        "\n",
        "# Validation Data Loader\n",
        "val_loader = DataLoader(validation_data, shuffle=False, \n",
        "                        batch_size=8, collate_fn=collate)"
      ]
    },
    {
      "cell_type": "code",
      "execution_count": null,
      "metadata": {
        "id": "O7vLeK3WTxPA"
      },
      "outputs": [],
      "source": [
        "# --------------------------------------------------------------------------\n",
        "# Get a batch from the vadiation loader to verify correct inputs\n",
        "# --------------------------------------------------------------------------\n",
        "input, _ = next(iter(val_loader))"
      ]
    },
    {
      "cell_type": "markdown",
      "source": [
        "## **Initialize the Model with the Chosen Hyperparameters**"
      ],
      "metadata": {
        "id": "upfklnpWzt1w"
      }
    },
    {
      "cell_type": "code",
      "source": [
        "# -------------------------------------------------------------------------------\n",
        "# Selection of Hyper Parameters\n",
        "# -------------------------------------------------------------------------------\n",
        "\n",
        "# Number of kernals \n",
        "n_k = 100\n",
        "\n",
        "# Actiavtion function\n",
        "act = \"relu\"\n",
        "\n",
        "# Number of Convolutional LSTM layers\n",
        "conv_lstm_layers = 6\n",
        "\n",
        "# Define the number of Epochs\n",
        "num_epochs = 25\n"
      ],
      "metadata": {
        "id": "MeXFdS9hzPW1"
      },
      "execution_count": null,
      "outputs": []
    },
    {
      "cell_type": "code",
      "execution_count": null,
      "metadata": {
        "id": "UzT4CnpgTxPA"
      },
      "outputs": [],
      "source": [
        "# -------------------------------------------------------------------------------\n",
        "# Instantiate the model and send the model to the device\n",
        "# -------------------------------------------------------------------------------\n",
        "model = Seq2Seq(num_channels=1, num_kernels=n_k, \n",
        "kernel_size=(3, 3), padding=(1, 1), activation=act, \n",
        "frame_size=(resize_value, resize_value), num_layers=conv_lstm_layers).to(device)\n"
      ]
    },
    {
      "cell_type": "code",
      "execution_count": null,
      "metadata": {
        "id": "uvv442TJTxPB"
      },
      "outputs": [],
      "source": [
        "# -------------------------------------------------------------------------------\n",
        "# Define the Model HyperParameters\n",
        "# -------------------------------------------------------------------------------\n",
        "\n",
        "# Define the optimize\n",
        "optim = torch.optim.Adam(model.parameters(), lr=1e-4)\n",
        "\n",
        "# Define the Criterion as the Mean Squared Error Loss\n",
        "criterion = nn.MSELoss()\n"
      ]
    },
    {
      "cell_type": "code",
      "source": [
        "def scale2range(x, range):\n",
        "    # Scale x into a range, both expected to be floats\n",
        "    return (x - x.min()) * (max(range) - min(range)) / (x.max() - x.min()) + min(range)"
      ],
      "metadata": {
        "id": "LePGk4YwzKnv"
      },
      "execution_count": null,
      "outputs": []
    },
    {
      "cell_type": "markdown",
      "source": [
        "## **Train the Model**"
      ],
      "metadata": {
        "id": "lVtus2JZzoja"
      }
    },
    {
      "cell_type": "code",
      "execution_count": null,
      "metadata": {
        "colab": {
          "base_uri": "https://localhost:8080/"
        },
        "outputId": "29efdb6d-80df-4161-c446-c1a03eebc0cc",
        "id": "ecuHkFHWTxPB"
      },
      "outputs": [
        {
          "output_type": "stream",
          "name": "stdout",
          "text": [
            "Epoch:1 Training Loss:0.096123 Validation Loss:0.041769\n",
            "\n",
            "Epoch:2 Training Loss:0.026311 Validation Loss:0.040255\n",
            "\n",
            "Epoch:3 Training Loss:0.012185 Validation Loss:0.038943\n",
            "\n",
            "Epoch:4 Training Loss:0.007311 Validation Loss:0.038342\n",
            "\n",
            "Epoch:5 Training Loss:0.005196 Validation Loss:0.038187\n",
            "\n",
            "Epoch:6 Training Loss:0.004031 Validation Loss:0.036595\n",
            "\n",
            "Epoch:7 Training Loss:0.003352 Validation Loss:0.030541\n",
            "\n",
            "Epoch:8 Training Loss:0.002915 Validation Loss:0.020259\n",
            "\n",
            "Epoch:9 Training Loss:0.002624 Validation Loss:0.011316\n",
            "\n",
            "Epoch:10 Training Loss:0.002430 Validation Loss:0.008706\n",
            "\n",
            "Epoch:11 Training Loss:0.002284 Validation Loss:0.009587\n",
            "\n",
            "Epoch:12 Training Loss:0.002191 Validation Loss:0.010788\n",
            "\n",
            "Epoch:13 Training Loss:0.002100 Validation Loss:0.011397\n",
            "\n",
            "Epoch:14 Training Loss:0.002040 Validation Loss:0.011874\n",
            "\n",
            "Epoch:15 Training Loss:0.001978 Validation Loss:0.011488\n",
            "\n",
            "Epoch:16 Training Loss:0.001933 Validation Loss:0.011134\n",
            "\n",
            "Epoch:17 Training Loss:0.001890 Validation Loss:0.010157\n",
            "\n",
            "Epoch:18 Training Loss:0.001853 Validation Loss:0.009066\n",
            "\n",
            "Epoch:19 Training Loss:0.001816 Validation Loss:0.007698\n",
            "\n",
            "Epoch:20 Training Loss:0.001786 Validation Loss:0.006346\n",
            "\n",
            "Epoch:21 Training Loss:0.001754 Validation Loss:0.004869\n",
            "\n",
            "Epoch:22 Training Loss:0.001728 Validation Loss:0.003724\n",
            "\n",
            "Epoch:23 Training Loss:0.001701 Validation Loss:0.003041\n",
            "\n",
            "Epoch:24 Training Loss:0.001678 Validation Loss:0.002729\n",
            "\n",
            "Epoch:25 Training Loss:0.001655 Validation Loss:0.002606\n",
            "\n"
          ]
        }
      ],
      "source": [
        "# Arrays to save the training and validation losses\n",
        "train_loss_list = []\n",
        "val_loss_list = []\n",
        "\n",
        "\n",
        "\n",
        "for epoch in range(1, num_epochs+1):\n",
        "    # ------------------------------------------------------------------------------\n",
        "    #  TRAINING \n",
        "    # ------------------------------------------------------------------------------\n",
        "\n",
        "    # Rest the train loss for the new epoch\n",
        "    train_loss = 0      \n",
        "\n",
        "    # Set the model to train                                             \n",
        "    model.train()  \n",
        "\n",
        "    # Train the model for each input batch\n",
        "    # Each input batch consists of 10 sequences\n",
        "    # 5 input images are used to predict the next 5 image                                                \n",
        "    for batch_num, (input, target) in enumerate(train_loader, 1):\n",
        "\n",
        "        # Forward propogate the model on the input data \n",
        "        # for each of the batches  \n",
        "        output = model(input) \n",
        "\n",
        "        # Calcualte the losses for each layer\n",
        "        loss = criterion(output.flatten(), target.flatten()) \n",
        "        # Backward propogate the gradients   \n",
        "        loss.backward()       \n",
        "        # Updates the weights in each layer                                     \n",
        "        optim.step()     \n",
        "        # Set the computational gradient grid to zero                                          \n",
        "        optim.zero_grad()   \n",
        "        # Update the training losses for the current batch                                        \n",
        "        train_loss += loss.item() \n",
        "    # Find the average training loss over the whole batch                                \n",
        "    train_loss /= len(train_loader.dataset)   \n",
        "\n",
        "    # -------------------------------------------------------------------------------\n",
        "    #  VALIDATION \n",
        "    # -------------------------------------------------------------------------------\n",
        "    # Rest the validation loss for the new epoch\n",
        "    val_loss = 0    \n",
        "    # Set the model to evaluate                                              \n",
        "    model.eval() \n",
        "\n",
        "    # Prevet the calulation/updates of gradients/weights during evalution                                                  \n",
        "    with torch.no_grad(): \n",
        "      # Run the model for each input batch                                         \n",
        "        for input, target in val_loader:   \n",
        "           # Forward propogate the model on the input data \n",
        "            # for each of the batches                       \n",
        "            output = model(input)  \n",
        "            # Backward propogate the gradients                      \n",
        "            loss = criterion(output.flatten(), target.flatten())  \n",
        "            # Update the validaation losses for the current batch \n",
        "            val_loss += loss.item()  \n",
        "\n",
        "    # Find the average validation loss over the whole batch \n",
        "    val_loss /= len(val_loader.dataset) \n",
        "\n",
        "    # Save the training and validation losses\n",
        "    train_loss_list.append(train_loss)\n",
        "    val_loss_list.append(val_loss)\n",
        "\n",
        "    # Display the training and validation loss for each epoch\n",
        "    # Display the SSIM and MSE Loss for Each epoch\n",
        "   \n",
        "    print(\"Epoch:{} Training Loss:{:.6f} Validation Loss:{:.6f}\\n\".format(\n",
        "        epoch, train_loss, val_loss))\n",
        "\n"
      ]
    },
    {
      "cell_type": "markdown",
      "source": [
        "## **Preparing Test Data**"
      ],
      "metadata": {
        "id": "4wl026P5y9_m"
      }
    },
    {
      "cell_type": "code",
      "source": [
        "# -------------------------------------------------------------------------------\n",
        "#  COLLATE DATA INTO BATCHS FOR TESTING \n",
        "# -------------------------------------------------------------------------------\n",
        "def collate_test(batch):\n",
        "\n",
        "    # Last 5 frames are te target\n",
        "    target = np.array(batch)[:,5:]                     \n",
        "\n",
        "    # Add channel dim\n",
        "    batch = torch.tensor(batch).unsqueeze(1)       \n",
        "\n",
        "    # Send batch to the GPU                            \n",
        "    batch = batch.to(device)                          \n",
        "    return batch, target\n",
        "\n",
        "# -------------------------------------------------------------------------------\n",
        "# Test Data Loader\n",
        "# -------------------------------------------------------------------------------\n",
        "test_loader = DataLoader(np.asarray(x_test),shuffle=False, \n",
        "                         batch_size=1, collate_fn=collate_test)\n"
      ],
      "metadata": {
        "id": "bjxd_YzATxPB"
      },
      "execution_count": null,
      "outputs": []
    },
    {
      "cell_type": "code",
      "source": [
        "# -------------------------------------------------------------------------------\n",
        "# Verify correct loading by getting a batch of data\n",
        "# -------------------------------------------------------------------------------\n",
        "batch, target = next(iter(test_loader))\n",
        "\n"
      ],
      "metadata": {
        "id": "3xjcw2QFTxPB"
      },
      "execution_count": null,
      "outputs": []
    },
    {
      "cell_type": "markdown",
      "source": [
        "## **Preparing and Calculating Output**"
      ],
      "metadata": {
        "id": "KSMhrniCyyp8"
      }
    },
    {
      "cell_type": "code",
      "source": [
        "# -------------------------------------------------------------------------------\n",
        "# Initialize output sequence\n",
        "# -------------------------------------------------------------------------------\n",
        "\n",
        "output = np.zeros(target.shape, dtype=np.float64)\n"
      ],
      "metadata": {
        "id": "RLBR8AzjTxPC"
      },
      "execution_count": null,
      "outputs": []
    },
    {
      "cell_type": "code",
      "source": [
        "# -------------------------------------------------------------------------------\n",
        "# TEST OUTPUT CALCULATION\n",
        "# -------------------------------------------------------------------------------\n",
        "\n",
        "# Loop over timesteps\n",
        "for timestep in range(target.shape[1]):\n",
        "  input = batch[:,:,timestep:timestep+5]  \n",
        "  # print(output.shape) \n",
        "  output[:,timestep]=model(input).squeeze(1).cpu().detach()"
      ],
      "metadata": {
        "id": "obU4k6JpTxPC"
      },
      "execution_count": null,
      "outputs": []
    },
    {
      "cell_type": "markdown",
      "source": [
        "## **Plot Image Predictions**"
      ],
      "metadata": {
        "id": "5CBsTEfExjEQ"
      }
    },
    {
      "cell_type": "markdown",
      "source": [
        "### **First Prediction**"
      ],
      "metadata": {
        "id": "Q4fojsQKxydH"
      }
    },
    {
      "cell_type": "markdown",
      "source": [
        "Input:"
      ],
      "metadata": {
        "id": "3goXAIC5xihQ"
      }
    },
    {
      "cell_type": "code",
      "source": [
        "plt.imshow(input[0][0][-1], cmap = \"gray\")"
      ],
      "metadata": {
        "colab": {
          "base_uri": "https://localhost:8080/",
          "height": 285
        },
        "outputId": "c0efdf3a-9a47-4ac0-b6fb-f5ec4452914d",
        "id": "RBBsjupgTxPC"
      },
      "execution_count": null,
      "outputs": [
        {
          "output_type": "execute_result",
          "data": {
            "text/plain": [
              "<matplotlib.image.AxesImage at 0x7fcca2f417d0>"
            ]
          },
          "metadata": {},
          "execution_count": 39
        },
        {
          "output_type": "display_data",
          "data": {
            "text/plain": [
              "<Figure size 432x288 with 1 Axes>"
            ],
            "image/png": "[encoded data removed]"
          },
          "metadata": {
            "needs_background": "light"
          }
        }
      ]
    },
    {
      "cell_type": "markdown",
      "source": [
        "Output: "
      ],
      "metadata": {
        "id": "h7V8FlYBxtgI"
      }
    },
    {
      "cell_type": "code",
      "source": [
        "plt.imshow(output[0][-1], cmap = 'gray')"
      ],
      "metadata": {
        "colab": {
          "base_uri": "https://localhost:8080/",
          "height": 285
        },
        "id": "U-Gyj0Edxs3g",
        "outputId": "78f3cb76-cd04-4c87-f525-866dbfe89840"
      },
      "execution_count": null,
      "outputs": [
        {
          "output_type": "execute_result",
          "data": {
            "text/plain": [
              "<matplotlib.image.AxesImage at 0x7fcca2fa23d0>"
            ]
          },
          "metadata": {},
          "execution_count": 40
        },
        {
          "output_type": "display_data",
          "data": {
            "text/plain": [
              "<Figure size 432x288 with 1 Axes>"
            ],
            "image/png": "[encoded data removed]"
          },
          "metadata": {
            "needs_background": "light"
          }
        }
      ]
    },
    {
      "cell_type": "markdown",
      "source": [
        "### **Second Prediction**"
      ],
      "metadata": {
        "id": "jCPepnBtxzpx"
      }
    },
    {
      "cell_type": "markdown",
      "source": [
        "Input:"
      ],
      "metadata": {
        "id": "6HJksF8vx8hs"
      }
    },
    {
      "cell_type": "code",
      "source": [
        "plt.imshow(input[0][0][-2], cmap = \"gray\")"
      ],
      "metadata": {
        "colab": {
          "base_uri": "https://localhost:8080/",
          "height": 285
        },
        "id": "cEVVWantx-EI",
        "outputId": "b645899b-b7cc-4785-dea7-faa66309c1b6"
      },
      "execution_count": null,
      "outputs": [
        {
          "output_type": "execute_result",
          "data": {
            "text/plain": [
              "<matplotlib.image.AxesImage at 0x7fcc8f639d90>"
            ]
          },
          "metadata": {},
          "execution_count": 41
        },
        {
          "output_type": "display_data",
          "data": {
            "text/plain": [
              "<Figure size 432x288 with 1 Axes>"
            ],
            "image/png": "[encoded data removed]"
          },
          "metadata": {
            "needs_background": "light"
          }
        }
      ]
    },
    {
      "cell_type": "markdown",
      "source": [
        "Output:"
      ],
      "metadata": {
        "id": "OogdgrjDx-bD"
      }
    },
    {
      "cell_type": "code",
      "source": [
        "plt.imshow(output[0][-2], cmap = 'gray')"
      ],
      "metadata": {
        "colab": {
          "base_uri": "https://localhost:8080/",
          "height": 285
        },
        "id": "ukr8KExzx_wL",
        "outputId": "3ba515e8-012d-4f15-d128-757fc86fd620"
      },
      "execution_count": null,
      "outputs": [
        {
          "output_type": "execute_result",
          "data": {
            "text/plain": [
              "<matplotlib.image.AxesImage at 0x7fcc8f5b51d0>"
            ]
          },
          "metadata": {},
          "execution_count": 42
        },
        {
          "output_type": "display_data",
          "data": {
            "text/plain": [
              "<Figure size 432x288 with 1 Axes>"
            ],
            "image/png": "[encoded data removed]"
          },
          "metadata": {
            "needs_background": "light"
          }
        }
      ]
    },
    {
      "cell_type": "markdown",
      "source": [
        "### **Third Prediction**"
      ],
      "metadata": {
        "id": "6VmkHBfWx1Yw"
      }
    },
    {
      "cell_type": "markdown",
      "source": [
        "Input:"
      ],
      "metadata": {
        "id": "lxYxeFR5yAig"
      }
    },
    {
      "cell_type": "code",
      "source": [
        "plt.imshow(input[0][0][-3], cmap = \"gray\")"
      ],
      "metadata": {
        "colab": {
          "base_uri": "https://localhost:8080/",
          "height": 285
        },
        "id": "ELTxeZDkyBtX",
        "outputId": "2b478e23-7289-4659-84fa-b5737d3d1b31"
      },
      "execution_count": null,
      "outputs": [
        {
          "output_type": "execute_result",
          "data": {
            "text/plain": [
              "<matplotlib.image.AxesImage at 0x7fcc8f5a2750>"
            ]
          },
          "metadata": {},
          "execution_count": 43
        },
        {
          "output_type": "display_data",
          "data": {
            "text/plain": [
              "<Figure size 432x288 with 1 Axes>"
            ],
            "image/png": "[encoded data removed]"
          },
          "metadata": {
            "needs_background": "light"
          }
        }
      ]
    },
    {
      "cell_type": "markdown",
      "source": [
        "Output:"
      ],
      "metadata": {
        "id": "2NvJtIAHyB9y"
      }
    },
    {
      "cell_type": "code",
      "source": [
        "plt.imshow(output[0][-3], cmap = 'gray')"
      ],
      "metadata": {
        "colab": {
          "base_uri": "https://localhost:8080/",
          "height": 285
        },
        "id": "K9ifBq8ZyEcw",
        "outputId": "511a032e-8642-4722-8b0c-971db2362df6"
      },
      "execution_count": null,
      "outputs": [
        {
          "output_type": "execute_result",
          "data": {
            "text/plain": [
              "<matplotlib.image.AxesImage at 0x7fcc8f510b50>"
            ]
          },
          "metadata": {},
          "execution_count": 44
        },
        {
          "output_type": "display_data",
          "data": {
            "text/plain": [
              "<Figure size 432x288 with 1 Axes>"
            ],
            "image/png": "[encoded data removed]"
          },
          "metadata": {
            "needs_background": "light"
          }
        }
      ]
    },
    {
      "cell_type": "markdown",
      "source": [
        "### **Fourth Prediction**"
      ],
      "metadata": {
        "id": "28SV0NCkx35x"
      }
    },
    {
      "cell_type": "markdown",
      "source": [
        "Input:"
      ],
      "metadata": {
        "id": "tx_MZ6a-yFVp"
      }
    },
    {
      "cell_type": "code",
      "source": [
        "plt.imshow(input[0][0][-4], cmap = \"gray\")"
      ],
      "metadata": {
        "colab": {
          "base_uri": "https://localhost:8080/",
          "height": 285
        },
        "id": "OxkjnSZnyHe1",
        "outputId": "5b1f6eb2-2d1f-40bd-e4cb-5b6f065875d6"
      },
      "execution_count": null,
      "outputs": [
        {
          "output_type": "execute_result",
          "data": {
            "text/plain": [
              "<matplotlib.image.AxesImage at 0x7fcc8f48e290>"
            ]
          },
          "metadata": {},
          "execution_count": 45
        },
        {
          "output_type": "display_data",
          "data": {
            "text/plain": [
              "<Figure size 432x288 with 1 Axes>"
            ],
            "image/png": "[encoded data removed]"
          },
          "metadata": {
            "needs_background": "light"
          }
        }
      ]
    },
    {
      "cell_type": "markdown",
      "source": [
        "Output:"
      ],
      "metadata": {
        "id": "H5yLSSHNyH2R"
      }
    },
    {
      "cell_type": "code",
      "source": [
        "plt.imshow(output[0][-4], cmap = 'gray')"
      ],
      "metadata": {
        "colab": {
          "base_uri": "https://localhost:8080/",
          "height": 285
        },
        "id": "VfqPUmZ9yIzE",
        "outputId": "628f8880-d8db-41aa-fdaa-a657944b4de3"
      },
      "execution_count": null,
      "outputs": [
        {
          "output_type": "execute_result",
          "data": {
            "text/plain": [
              "<matplotlib.image.AxesImage at 0x7fcc8f3fc690>"
            ]
          },
          "metadata": {},
          "execution_count": 46
        },
        {
          "output_type": "display_data",
          "data": {
            "text/plain": [
              "<Figure size 432x288 with 1 Axes>"
            ],
            "image/png": "[encoded data removed]"
          },
          "metadata": {
            "needs_background": "light"
          }
        }
      ]
    },
    {
      "cell_type": "markdown",
      "source": [
        "### **Fifth Prediction**"
      ],
      "metadata": {
        "id": "Ha0NNBwQx6Tj"
      }
    },
    {
      "cell_type": "markdown",
      "source": [
        "Input:"
      ],
      "metadata": {
        "id": "wUZPGoOoyJ6x"
      }
    },
    {
      "cell_type": "code",
      "source": [
        "plt.imshow(input[0][0][-5], cmap = \"gray\")"
      ],
      "metadata": {
        "colab": {
          "base_uri": "https://localhost:8080/",
          "height": 285
        },
        "id": "jPqJHpOxyLZ3",
        "outputId": "0cbf5ef6-1e7b-4498-d925-963276220573"
      },
      "execution_count": null,
      "outputs": [
        {
          "output_type": "execute_result",
          "data": {
            "text/plain": [
              "<matplotlib.image.AxesImage at 0x7fcc8f3e7cd0>"
            ]
          },
          "metadata": {},
          "execution_count": 47
        },
        {
          "output_type": "display_data",
          "data": {
            "text/plain": [
              "<Figure size 432x288 with 1 Axes>"
            ],
            "image/png": "[encoded data removed]"
          },
          "metadata": {
            "needs_background": "light"
          }
        }
      ]
    },
    {
      "cell_type": "markdown",
      "source": [
        "Output:"
      ],
      "metadata": {
        "id": "4BrugvQUyMQp"
      }
    },
    {
      "cell_type": "code",
      "source": [
        "plt.imshow(output[0][-5], cmap = 'gray')"
      ],
      "metadata": {
        "colab": {
          "base_uri": "https://localhost:8080/",
          "height": 285
        },
        "outputId": "bce853c9-37ce-433a-d8c2-fd84117a17ee",
        "id": "GHCXbMrxTxPE"
      },
      "execution_count": null,
      "outputs": [
        {
          "output_type": "execute_result",
          "data": {
            "text/plain": [
              "<matplotlib.image.AxesImage at 0x7fcc8f358f50>"
            ]
          },
          "metadata": {},
          "execution_count": 48
        },
        {
          "output_type": "display_data",
          "data": {
            "text/plain": [
              "<Figure size 432x288 with 1 Axes>"
            ],
            "image/png": "[encoded data removed]"
          },
          "metadata": {
            "needs_background": "light"
          }
        }
      ]
    },
    {
      "cell_type": "markdown",
      "source": [
        "## **Calculation of Final Metrics**"
      ],
      "metadata": {
        "id": "xssBQPMlxdl1"
      }
    },
    {
      "cell_type": "code",
      "source": [
        "# ------------------------------------------------------------------------------\n",
        "# Load target images for comparison\n",
        "# ------------------------------------------------------------------------------\n",
        "\n",
        "target_1 = input[0][0][-5].cpu().detach().numpy()*255\n",
        "target_2 = input[0][0][-4].cpu().detach().numpy()*255\n",
        "target_3 = input[0][0][-3].cpu().detach().numpy()*255\n",
        "target_4 = input[0][0][-2].cpu().detach().numpy()*255\n",
        "target_5 = input[0][0][-1].cpu().detach().numpy()*255\n",
        "\n",
        "predic_1 = output[0][-5]*255\n",
        "predic_2 = output[0][-4]*255\n",
        "predic_3 = output[0][-3]*255\n",
        "predic_4 = output[0][-2]*255\n",
        "predic_5 = output[0][-1]*255\n",
        "\n",
        "# ------------------------------------------------------------------------------\n",
        "# Scale predicted image to target range\n",
        "# ------------------------------------------------------------------------------\n",
        "predic_1 = scale2range(predic_1, [target_1.min(), target_1.max()])\n",
        "predic_2 = scale2range(predic_2, [target_2.min(), target_2.max()])\n",
        "predic_3 = scale2range(predic_3, [target_3.min(), target_3.max()])\n",
        "predic_4 = scale2range(predic_4, [target_4.min(), target_4.max()])\n",
        "predic_5 = scale2range(predic_5, [target_5.min(), target_5.max()])\n",
        "\n",
        "# ------------------------------------------------------------------------------\n",
        "# Cast to uint8 to accommodate for consistent SSIM and MSE results\n",
        "# ------------------------------------------------------------------------------\n",
        "target_1, predic_1 = target_1.astype(np.uint8), predic_1.astype(np.uint8)\n",
        "target_2, predic_2 = target_2.astype(np.uint8), predic_2.astype(np.uint8)\n",
        "target_3, predic_3 = target_3.astype(np.uint8), predic_3.astype(np.uint8)\n",
        "target_4, predic_4 = target_4.astype(np.uint8), predic_4.astype(np.uint8)\n",
        "target_5, predic_5 = target_5.astype(np.uint8), predic_5.astype(np.uint8)\n",
        "\n",
        "# ------------------------------------------------------------------------------\n",
        "# Sanity check\n",
        "# ------------------------------------------------------------------------------\n",
        "print(target_1.dtype, target_1.max(), target_1.min())\n",
        "print(predic_1.dtype, predic_1.max(), predic_1.min())\n",
        "\n",
        "# ------------------------------------------------------------------------------\n",
        "# Compute metrics\n",
        "# ------------------------------------------------------------------------------\n",
        "print('\\n ---------- SSIM and MSE values -------------- \\n')\n",
        "s_1, m_1 = ssim(target_1, predic_1), mse(target_1, predic_1)\n",
        "s_2, m_2 = ssim(target_2, predic_2), mse(target_2, predic_2)\n",
        "s_3, m_3 = ssim(target_3, predic_3), mse(target_3, predic_3)\n",
        "s_4, m_4 = ssim(target_4, predic_4), mse(target_4, predic_4)\n",
        "s_5, m_5 = ssim(target_5, predic_5), mse(target_5, predic_5)\n",
        "\n",
        "# ------------------------------------------------------------------------------\n",
        "print(\"First Prdiction : SSIM : \",s_5,\" MSE : \",m_5)\n",
        "print(\"Second Prdiction : SSIM : \",s_4,\" MSE : \",m_4)\n",
        "print(\"Third Prdiction : SSIM : \",s_3,\" MSE : \",m_3)\n",
        "print(\"Fourth Prdiction : SSIM : \",s_2,\" MSE : \",m_2)\n",
        "print(\"Fifth Prdiction : SSIM : \",s_1,\" MSE : \",m_1)"
      ],
      "metadata": {
        "colab": {
          "base_uri": "https://localhost:8080/"
        },
        "id": "bcGj3yP2Us2p",
        "outputId": "a828870e-358c-40fd-d068-d77e952f867c"
      },
      "execution_count": null,
      "outputs": [
        {
          "output_type": "stream",
          "name": "stdout",
          "text": [
            "uint8 228 7\n",
            "uint8 228 7\n",
            "\n",
            " ---------- SSIM and MSE values -------------- \n",
            "\n",
            "First Prdiction : SSIM :  0.2439177197073255  MSE :  1780.0048828125\n",
            "Second Prdiction : SSIM :  0.23626908122418966  MSE :  1736.27587890625\n",
            "Third Prdiction : SSIM :  0.18204864252112637  MSE :  1629.751708984375\n",
            "Fourth Prdiction : SSIM :  0.16362045459587532  MSE :  1387.049072265625\n",
            "Fifth Prdiction : SSIM :  0.15629322448560995  MSE :  1255.83251953125\n"
          ]
        }
      ]
    },
    {
      "cell_type": "code",
      "source": [
        ""
      ],
      "metadata": {
        "id": "bZpBo8qyVpXf"
      },
      "execution_count": null,
      "outputs": []
    },
    {
      "cell_type": "code",
      "source": [
        ""
      ],
      "metadata": {
        "id": "SLXwa6Pm5brm"
      },
      "execution_count": null,
      "outputs": []
    }
  ],
  "metadata": {
    "accelerator": "GPU",
    "colab": {
      "machine_shape": "hm",
      "name": "Conv_LSTM_Hurricane_Prediction.ipynb",
      "provenance": [],
      "collapsed_sections": [],
      "include_colab_link": true
    },
    "kernelspec": {
      "display_name": "Python 3",
      "name": "python3"
    },
    "language_info": {
      "name": "python"
    }
  },
  "nbformat": 4,
  "nbformat_minor": 0
}