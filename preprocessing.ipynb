{
 "cells": [
  {
   "cell_type": "markdown",
   "metadata": {
    "id": "4mSWClw3zmaZ"
   },
   "source": [
    "# **Preprocessing File** \n",
    "**For Specific Storms with Smaller Datasets**"
   ]
  },
  {
   "cell_type": "markdown",
   "metadata": {},
   "source": [
    "Installtion of required packages"
   ]
  },
  {
   "cell_type": "code",
   "execution_count": null,
   "metadata": {
    "colab": {
     "base_uri": "https://localhost:8080/",
     "height": 1000
    },
    "executionInfo": {
     "elapsed": 42061,
     "status": "ok",
     "timestamp": 1653568729476,
     "user": {
      "displayName": "Caili Zhong",
      "userId": "02954861531754358342"
     },
     "user_tz": -60
    },
    "id": "2pK7IwK7zlXs",
    "outputId": "d1274775-db1b-4140-ca4f-b13321ed2fd9"
   },
   "outputs": [
    {
     "name": "stdout",
     "output_type": "stream",
     "text": [
      "Looking in indexes: https://pypi.org/simple, https://us-python.pkg.dev/colab-wheels/public/simple/\n",
      "Collecting radiant_mlhub\n",
      "  Downloading radiant_mlhub-0.4.1-py3-none-any.whl (36 kB)\n",
      "Requirement already satisfied: typing-extensions>=3.7 in /usr/local/lib/python3.7/dist-packages (from radiant_mlhub) (4.2.0)\n",
      "Requirement already satisfied: click<9.0.0,>=7.1.2 in /usr/local/lib/python3.7/dist-packages (from radiant_mlhub) (7.1.2)\n",
      "Collecting requests~=2.25\n",
      "  Downloading requests-2.27.1-py2.py3-none-any.whl (63 kB)\n",
      "\u001b[K     |████████████████████████████████| 63 kB 321 kB/s \n",
      "\u001b[?25hRequirement already satisfied: tqdm~=4.56 in /usr/local/lib/python3.7/dist-packages (from radiant_mlhub) (4.64.0)\n",
      "Collecting pystac~=1.1\n",
      "  Downloading pystac-1.4.0-py3-none-any.whl (137 kB)\n",
      "\u001b[K     |████████████████████████████████| 137 kB 10.1 MB/s \n",
      "\u001b[?25hRequirement already satisfied: python-dateutil>=2.7.0 in /usr/local/lib/python3.7/dist-packages (from pystac~=1.1->radiant_mlhub) (2.8.2)\n",
      "Requirement already satisfied: six>=1.5 in /usr/local/lib/python3.7/dist-packages (from python-dateutil>=2.7.0->pystac~=1.1->radiant_mlhub) (1.15.0)\n",
      "Requirement already satisfied: idna<4,>=2.5 in /usr/local/lib/python3.7/dist-packages (from requests~=2.25->radiant_mlhub) (2.10)\n",
      "Requirement already satisfied: urllib3<1.27,>=1.21.1 in /usr/local/lib/python3.7/dist-packages (from requests~=2.25->radiant_mlhub) (1.24.3)\n",
      "Requirement already satisfied: charset-normalizer~=2.0.0 in /usr/local/lib/python3.7/dist-packages (from requests~=2.25->radiant_mlhub) (2.0.12)\n",
      "Requirement already satisfied: certifi>=2017.4.17 in /usr/local/lib/python3.7/dist-packages (from requests~=2.25->radiant_mlhub) (2022.5.18.1)\n",
      "Installing collected packages: requests, pystac, radiant-mlhub\n",
      "  Attempting uninstall: requests\n",
      "    Found existing installation: requests 2.23.0\n",
      "    Uninstalling requests-2.23.0:\n",
      "      Successfully uninstalled requests-2.23.0\n",
      "\u001b[31mERROR: pip's dependency resolver does not currently take into account all the packages that are installed. This behaviour is the source of the following dependency conflicts.\n",
      "google-colab 1.0.0 requires requests~=2.23.0, but you have requests 2.27.1 which is incompatible.\n",
      "datascience 0.10.6 requires folium==0.2.1, but you have folium 0.8.3 which is incompatible.\u001b[0m\n",
      "Successfully installed pystac-1.4.0 radiant-mlhub-0.4.1 requests-2.27.1\n",
      "\u001b[K     |████████████████████████████████| 793 kB 5.4 MB/s \n",
      "\u001b[K     |████████████████████████████████| 381 kB 9.8 MB/s \n",
      "\u001b[31mERROR: pip's dependency resolver does not currently take into account all the packages that are installed. This behaviour is the source of the following dependency conflicts.\n",
      "jupyter-console 5.2.0 requires prompt-toolkit<2.0.0,>=1.0.0, but you have prompt-toolkit 3.0.29 which is incompatible.\n",
      "google-colab 1.0.0 requires ipython~=5.5.0, but you have ipython 7.33.0 which is incompatible.\n",
      "google-colab 1.0.0 requires requests~=2.23.0, but you have requests 2.27.1 which is incompatible.\u001b[0m\n",
      "\u001b[?25hLooking in indexes: https://pypi.org/simple, https://us-python.pkg.dev/colab-wheels/public/simple/\n",
      "Collecting wandb\n",
      "  Downloading wandb-0.12.17-py2.py3-none-any.whl (1.8 MB)\n",
      "\u001b[K     |████████████████████████████████| 1.8 MB 5.2 MB/s \n",
      "\u001b[?25hRequirement already satisfied: promise<3,>=2.0 in /usr/local/lib/python3.7/dist-packages (from wandb) (2.3)\n",
      "Collecting pathtools\n",
      "  Downloading pathtools-0.1.2.tar.gz (11 kB)\n",
      "Requirement already satisfied: Click!=8.0.0,>=7.0 in /usr/local/lib/python3.7/dist-packages (from wandb) (7.1.2)\n",
      "Collecting sentry-sdk>=1.0.0\n",
      "  Downloading sentry_sdk-1.5.12-py2.py3-none-any.whl (145 kB)\n",
      "\u001b[K     |████████████████████████████████| 145 kB 56.5 MB/s \n",
      "\u001b[?25hRequirement already satisfied: six>=1.13.0 in /usr/local/lib/python3.7/dist-packages (from wandb) (1.15.0)\n",
      "Requirement already satisfied: python-dateutil>=2.6.1 in /usr/local/lib/python3.7/dist-packages (from wandb) (2.8.2)\n",
      "Requirement already satisfied: requests<3,>=2.0.0 in /usr/local/lib/python3.7/dist-packages (from wandb) (2.27.1)\n",
      "Collecting shortuuid>=0.5.0\n",
      "  Downloading shortuuid-1.0.9-py3-none-any.whl (9.4 kB)\n",
      "Collecting docker-pycreds>=0.4.0\n",
      "  Downloading docker_pycreds-0.4.0-py2.py3-none-any.whl (9.0 kB)\n",
      "Requirement already satisfied: protobuf<4.0dev,>=3.12.0 in /usr/local/lib/python3.7/dist-packages (from wandb) (3.17.3)\n",
      "Collecting setproctitle\n",
      "  Downloading setproctitle-1.2.3-cp37-cp37m-manylinux_2_5_x86_64.manylinux1_x86_64.manylinux_2_17_x86_64.manylinux2014_x86_64.whl (29 kB)\n",
      "Requirement already satisfied: PyYAML in /usr/local/lib/python3.7/dist-packages (from wandb) (3.13)\n",
      "Requirement already satisfied: setuptools in /usr/local/lib/python3.7/dist-packages (from wandb) (57.4.0)\n",
      "Requirement already satisfied: psutil>=5.0.0 in /usr/local/lib/python3.7/dist-packages (from wandb) (5.4.8)\n",
      "Collecting GitPython>=1.0.0\n",
      "  Downloading GitPython-3.1.27-py3-none-any.whl (181 kB)\n",
      "\u001b[K     |████████████████████████████████| 181 kB 53.6 MB/s \n",
      "\u001b[?25hRequirement already satisfied: typing-extensions>=3.7.4.3 in /usr/local/lib/python3.7/dist-packages (from GitPython>=1.0.0->wandb) (4.2.0)\n",
      "Collecting gitdb<5,>=4.0.1\n",
      "  Downloading gitdb-4.0.9-py3-none-any.whl (63 kB)\n",
      "\u001b[K     |████████████████████████████████| 63 kB 1.4 MB/s \n",
      "\u001b[?25hCollecting smmap<6,>=3.0.1\n",
      "  Downloading smmap-5.0.0-py3-none-any.whl (24 kB)\n",
      "Requirement already satisfied: charset-normalizer~=2.0.0 in /usr/local/lib/python3.7/dist-packages (from requests<3,>=2.0.0->wandb) (2.0.12)\n",
      "Requirement already satisfied: idna<4,>=2.5 in /usr/local/lib/python3.7/dist-packages (from requests<3,>=2.0.0->wandb) (2.10)\n",
      "Requirement already satisfied: urllib3<1.27,>=1.21.1 in /usr/local/lib/python3.7/dist-packages (from requests<3,>=2.0.0->wandb) (1.24.3)\n",
      "Requirement already satisfied: certifi>=2017.4.17 in /usr/local/lib/python3.7/dist-packages (from requests<3,>=2.0.0->wandb) (2022.5.18.1)\n",
      "Building wheels for collected packages: pathtools\n",
      "  Building wheel for pathtools (setup.py) ... \u001b[?25l\u001b[?25hdone\n",
      "  Created wheel for pathtools: filename=pathtools-0.1.2-py3-none-any.whl size=8806 sha256=9c0a2a404c36b0b638ef00ae44408158f10b0055331db1194102027f0811dfc5\n",
      "  Stored in directory: /root/.cache/pip/wheels/3e/31/09/fa59cef12cdcfecc627b3d24273699f390e71828921b2cbba2\n",
      "Successfully built pathtools\n",
      "Installing collected packages: smmap, gitdb, shortuuid, setproctitle, sentry-sdk, pathtools, GitPython, docker-pycreds, wandb\n",
      "Successfully installed GitPython-3.1.27 docker-pycreds-0.4.0 gitdb-4.0.9 pathtools-0.1.2 sentry-sdk-1.5.12 setproctitle-1.2.3 shortuuid-1.0.9 smmap-5.0.0 wandb-0.12.17\n",
      "Looking in indexes: https://pypi.org/simple, https://us-python.pkg.dev/colab-wheels/public/simple/\n",
      "Collecting pycm\n",
      "  Downloading pycm-3.5-py2.py3-none-any.whl (66 kB)\n",
      "\u001b[K     |████████████████████████████████| 66 kB 2.6 MB/s \n",
      "\u001b[?25hCollecting art>=1.8\n",
      "  Downloading art-5.6-py2.py3-none-any.whl (590 kB)\n",
      "\u001b[K     |████████████████████████████████| 590 kB 11.4 MB/s \n",
      "\u001b[?25hRequirement already satisfied: numpy>=1.9.0 in /usr/local/lib/python3.7/dist-packages (from pycm) (1.21.6)\n",
      "Installing collected packages: art, pycm\n",
      "Successfully installed art-5.6 pycm-3.5\n",
      "Looking in indexes: https://pypi.org/simple, https://us-python.pkg.dev/colab-wheels/public/simple/\n",
      "Collecting nb-black\n",
      "  Downloading nb_black-1.0.7.tar.gz (4.8 kB)\n",
      "Requirement already satisfied: ipython in /usr/local/lib/python3.7/dist-packages (from nb-black) (7.33.0)\n",
      "Collecting black>='19.3'\n",
      "  Downloading black-22.3.0-cp37-cp37m-manylinux_2_17_x86_64.manylinux2014_x86_64.whl (1.4 MB)\n",
      "\u001b[K     |████████████████████████████████| 1.4 MB 5.3 MB/s \n",
      "\u001b[?25hRequirement already satisfied: tomli>=1.1.0 in /usr/local/lib/python3.7/dist-packages (from black>='19.3'->nb-black) (2.0.1)\n",
      "Collecting pathspec>=0.9.0\n",
      "  Downloading pathspec-0.9.0-py2.py3-none-any.whl (31 kB)\n",
      "Collecting click>=8.0.0\n",
      "  Downloading click-8.1.3-py3-none-any.whl (96 kB)\n",
      "\u001b[K     |████████████████████████████████| 96 kB 6.0 MB/s \n",
      "\u001b[?25hRequirement already satisfied: typing-extensions>=3.10.0.0 in /usr/local/lib/python3.7/dist-packages (from black>='19.3'->nb-black) (4.2.0)\n",
      "Collecting platformdirs>=2\n",
      "  Downloading platformdirs-2.5.2-py3-none-any.whl (14 kB)\n",
      "Collecting mypy-extensions>=0.4.3\n",
      "  Downloading mypy_extensions-0.4.3-py2.py3-none-any.whl (4.5 kB)\n",
      "Collecting typed-ast>=1.4.2\n",
      "  Downloading typed_ast-1.5.4-cp37-cp37m-manylinux_2_5_x86_64.manylinux1_x86_64.manylinux_2_12_x86_64.manylinux2010_x86_64.whl (843 kB)\n",
      "\u001b[K     |████████████████████████████████| 843 kB 48.2 MB/s \n",
      "\u001b[?25hRequirement already satisfied: importlib-metadata in /usr/local/lib/python3.7/dist-packages (from click>=8.0.0->black>='19.3'->nb-black) (4.11.3)\n",
      "Requirement already satisfied: zipp>=0.5 in /usr/local/lib/python3.7/dist-packages (from importlib-metadata->click>=8.0.0->black>='19.3'->nb-black) (3.8.0)\n",
      "Requirement already satisfied: setuptools>=18.5 in /usr/local/lib/python3.7/dist-packages (from ipython->nb-black) (57.4.0)\n",
      "Requirement already satisfied: jedi>=0.16 in /usr/local/lib/python3.7/dist-packages (from ipython->nb-black) (0.18.1)\n",
      "Requirement already satisfied: traitlets>=4.2 in /usr/local/lib/python3.7/dist-packages (from ipython->nb-black) (5.1.1)\n",
      "Requirement already satisfied: matplotlib-inline in /usr/local/lib/python3.7/dist-packages (from ipython->nb-black) (0.1.3)\n",
      "Requirement already satisfied: pickleshare in /usr/local/lib/python3.7/dist-packages (from ipython->nb-black) (0.7.5)\n",
      "Requirement already satisfied: decorator in /usr/local/lib/python3.7/dist-packages (from ipython->nb-black) (4.4.2)\n",
      "Requirement already satisfied: prompt-toolkit!=3.0.0,!=3.0.1,<3.1.0,>=2.0.0 in /usr/local/lib/python3.7/dist-packages (from ipython->nb-black) (3.0.29)\n",
      "Requirement already satisfied: pygments in /usr/local/lib/python3.7/dist-packages (from ipython->nb-black) (2.6.1)\n",
      "Requirement already satisfied: pexpect>4.3 in /usr/local/lib/python3.7/dist-packages (from ipython->nb-black) (4.8.0)\n",
      "Requirement already satisfied: backcall in /usr/local/lib/python3.7/dist-packages (from ipython->nb-black) (0.2.0)\n",
      "Requirement already satisfied: parso<0.9.0,>=0.8.0 in /usr/local/lib/python3.7/dist-packages (from jedi>=0.16->ipython->nb-black) (0.8.3)\n",
      "Requirement already satisfied: ptyprocess>=0.5 in /usr/local/lib/python3.7/dist-packages (from pexpect>4.3->ipython->nb-black) (0.7.0)\n",
      "Requirement already satisfied: wcwidth in /usr/local/lib/python3.7/dist-packages (from prompt-toolkit!=3.0.0,!=3.0.1,<3.1.0,>=2.0.0->ipython->nb-black) (0.2.5)\n",
      "Building wheels for collected packages: nb-black\n",
      "  Building wheel for nb-black (setup.py) ... \u001b[?25l\u001b[?25hdone\n",
      "  Created wheel for nb-black: filename=nb_black-1.0.7-py3-none-any.whl size=5297 sha256=5381f02195934e413b05d6619dfc52b3755b36b6eedaf924a0bbde4c6428c579\n",
      "  Stored in directory: /root/.cache/pip/wheels/1e/b2/88/51c66d23ea5fd0d40ed50997555e15d981d92671376a9a412a\n",
      "Successfully built nb-black\n",
      "Installing collected packages: typed-ast, platformdirs, pathspec, mypy-extensions, click, black, nb-black\n",
      "  Attempting uninstall: click\n",
      "    Found existing installation: click 7.1.2\n",
      "    Uninstalling click-7.1.2:\n",
      "      Successfully uninstalled click-7.1.2\n",
      "\u001b[31mERROR: pip's dependency resolver does not currently take into account all the packages that are installed. This behaviour is the source of the following dependency conflicts.\n",
      "flask 1.1.4 requires click<8.0,>=5.1, but you have click 8.1.3 which is incompatible.\u001b[0m\n",
      "Successfully installed black-22.3.0 click-8.1.3 mypy-extensions-0.4.3 nb-black-1.0.7 pathspec-0.9.0 platformdirs-2.5.2 typed-ast-1.5.4\n",
      "0\n"
     ]
    },
    {
     "data": {
      "application/javascript": "\n            setTimeout(function() {\n                var nbb_cell_id = 1;\n                var nbb_unformatted_code = \"! pip install radiant_mlhub\\n! pip install -q livelossplot\\n! pip install wandb\\n! pip install pycm\\n! pip install nb-black\\n! echo $?\\n\\n%load_ext nb_black\";\n                var nbb_formatted_code = \"! pip install radiant_mlhub\\n! pip install -q livelossplot\\n! pip install wandb\\n! pip install pycm\\n! pip install nb-black\\n! echo $?\\n\\n%load_ext nb_black\";\n                var nbb_cells = Jupyter.notebook.get_cells();\n                for (var i = 0; i < nbb_cells.length; ++i) {\n                    if (nbb_cells[i].input_prompt_number == nbb_cell_id) {\n                        if (nbb_cells[i].get_text() == nbb_unformatted_code) {\n                             nbb_cells[i].set_text(nbb_formatted_code);\n                        }\n                        break;\n                    }\n                }\n            }, 500);\n            ",
      "text/plain": [
       "<IPython.core.display.Javascript object>"
      ]
     },
     "metadata": {},
     "output_type": "display_data"
    }
   ],
   "source": [
    "! pip install radiant_mlhub\n",
    "! pip install -q livelossplot\n",
    "! pip install wandb\n",
    "! pip install pycm\n",
    "! pip install nb-black\n",
    "! echo $?\n",
    "\n",
    "%load_ext nb_black"
   ]
  },
  {
   "cell_type": "markdown",
   "metadata": {},
   "source": [
    "Import Packages"
   ]
  },
  {
   "cell_type": "code",
   "execution_count": null,
   "metadata": {
    "colab": {
     "base_uri": "https://localhost:8080/",
     "height": 17
    },
    "executionInfo": {
     "elapsed": 6664,
     "status": "ok",
     "timestamp": 1653568738980,
     "user": {
      "displayName": "Caili Zhong",
      "userId": "02954861531754358342"
     },
     "user_tz": -60
    },
    "id": "Jlh7xtxYzlXv",
    "outputId": "f69c039f-9635-48a9-84c9-663ad113c232"
   },
   "outputs": [
    {
     "data": {
      "application/javascript": "\n            setTimeout(function() {\n                var nbb_cell_id = 2;\n                var nbb_unformatted_code = \"import os\\n\\nos.environ['MLHUB_API_KEY'] = 'c0557d3a6fcffba37ad3002563d2de88e7a32f8e77dc62b4d11c7c12b437152f'\\n\\nimport json\\nimport re\\nfrom glob import glob\\nimport tarfile\\n\\nimport numpy as np\\nimport pandas as pd\\nfrom pathlib import Path\\nfrom radiant_mlhub import Dataset, Collection, client\\n\\nfrom pathlib import Path\\n\\nimport matplotlib.pyplot as plt\\nimport matplotlib.image as mpimage\\nimport numpy as np\\nimport pandas as pd\\nimport seaborn as sns\\nimport math\\n\\nimport torch\\nimport torch.nn as nn\\nimport torch.nn.functional as F\\nimport torch.optim as optim\\nfrom torch.utils.data import TensorDataset, DataLoader\\nimport torchvision.transforms as transforms\\n\\n\\nimport tkinter as tk\\nfrom tkinter import *\\nfrom tkinter import filedialog\\n\\ntry:\\n    from PIL import Image\\nexcept ImportError:\\n    import Image\\nfrom PIL import Image as imim\\n\\nimport shutil\\n\\npd.set_option(\\\"max_colwidth\\\", 80)\";\n                var nbb_formatted_code = \"import os\\n\\nos.environ[\\n    \\\"MLHUB_API_KEY\\\"\\n] = \\\"c0557d3a6fcffba37ad3002563d2de88e7a32f8e77dc62b4d11c7c12b437152f\\\"\\n\\nimport json\\nimport re\\nfrom glob import glob\\nimport tarfile\\n\\nimport numpy as np\\nimport pandas as pd\\nfrom pathlib import Path\\nfrom radiant_mlhub import Dataset, Collection, client\\n\\nfrom pathlib import Path\\n\\nimport matplotlib.pyplot as plt\\nimport matplotlib.image as mpimage\\nimport numpy as np\\nimport pandas as pd\\nimport seaborn as sns\\nimport math\\n\\nimport torch\\nimport torch.nn as nn\\nimport torch.nn.functional as F\\nimport torch.optim as optim\\nfrom torch.utils.data import TensorDataset, DataLoader\\nimport torchvision.transforms as transforms\\n\\n\\nimport tkinter as tk\\nfrom tkinter import *\\nfrom tkinter import filedialog\\n\\ntry:\\n    from PIL import Image\\nexcept ImportError:\\n    import Image\\nfrom PIL import Image as imim\\n\\nimport shutil\\n\\npd.set_option(\\\"max_colwidth\\\", 80)\";\n                var nbb_cells = Jupyter.notebook.get_cells();\n                for (var i = 0; i < nbb_cells.length; ++i) {\n                    if (nbb_cells[i].input_prompt_number == nbb_cell_id) {\n                        if (nbb_cells[i].get_text() == nbb_unformatted_code) {\n                             nbb_cells[i].set_text(nbb_formatted_code);\n                        }\n                        break;\n                    }\n                }\n            }, 500);\n            ",
      "text/plain": [
       "<IPython.core.display.Javascript object>"
      ]
     },
     "metadata": {},
     "output_type": "display_data"
    }
   ],
   "source": [
    "import os\n",
    "\n",
    "# import the api key for the ML Radient Package\n",
    "os.environ['MLHUB_API_KEY'] = 'c0557d3a6fcffba37ad3002563d2de88e7a32f8e77dc62b4d11c7c12b437152f'\n",
    "\n",
    "# Import Packages\n",
    "import json\n",
    "import re\n",
    "from glob import glob\n",
    "import tarfile\n",
    "\n",
    "import numpy as np\n",
    "import pandas as pd\n",
    "from pathlib import Path\n",
    "from radiant_mlhub import Dataset, Collection, client\n",
    "\n",
    "from pathlib import Path\n",
    "\n",
    "import matplotlib.pyplot as plt\n",
    "import matplotlib.image as mpimage\n",
    "import numpy as np\n",
    "import pandas as pd\n",
    "import seaborn as sns\n",
    "import math\n",
    "\n",
    "import torch\n",
    "import torch.nn as nn\n",
    "import torch.nn.functional as F\n",
    "import torch.optim as optim\n",
    "from torch.utils.data import TensorDataset, DataLoader\n",
    "import torchvision.transforms as transforms\n",
    "\n",
    "\n",
    "import tkinter as tk\n",
    "from tkinter import *\n",
    "from tkinter import filedialog\n",
    "\n",
    "try:\n",
    "    from PIL import Image\n",
    "except ImportError:\n",
    "    import Image\n",
    "from PIL import Image as imim\n",
    "\n",
    "import shutil\n",
    "\n",
    "pd.set_option(\"max_colwidth\", 80)"
   ]
  },
  {
   "cell_type": "markdown",
   "metadata": {},
   "source": [
    "Extracting Files"
   ]
  },
  {
   "cell_type": "code",
   "execution_count": null,
   "metadata": {
    "colab": {
     "base_uri": "https://localhost:8080/",
     "height": 85
    },
    "executionInfo": {
     "elapsed": 474,
     "status": "ok",
     "timestamp": 1653569477808,
     "user": {
      "displayName": "Caili Zhong",
      "userId": "02954861531754358342"
     },
     "user_tz": -60
    },
    "id": "wWLshi7VaC-f",
    "outputId": "a2f84098-b115-4243-c95e-acfc9e8c38b5"
   },
   "outputs": [
    {
     "name": "stdout",
     "output_type": "stream",
     "text": [
      "Extracting /root/Downloads/nasa_tropical_storm_competition_surprise_storm_source.tar.gz...\n",
      "Extracting /root/Downloads/nasa_tropical_storm_competition_surprise_storm_labels.tar.gz...\n",
      "Extracting /root/Downloads/nasa_tropical_storm_competition_surprise_storm_metrics.tar.gz...\n",
      "Done\n"
     ]
    },
    {
     "data": {
      "application/javascript": "\n            setTimeout(function() {\n                var nbb_cell_id = 11;\n                var nbb_unformatted_code = \"sup_paths = [\\\"/root/Downloads/nasa_tropical_storm_competition_surprise_storm_source.tar.gz\\\", \\\"/root/Downloads/nasa_tropical_storm_competition_surprise_storm_labels.tar.gz\\\", \\\"/root/Downloads/nasa_tropical_storm_competition_surprise_storm_metrics.tar.gz\\\"]\\nfor archive_path in sup_paths:\\n    print(f'Extracting {archive_path}...')\\n    with tarfile.open(archive_path) as tfile:\\n        tfile.extractall(path=download_dir)\\nprint('Done')\";\n                var nbb_formatted_code = \"sup_paths = [\\n    \\\"/root/Downloads/nasa_tropical_storm_competition_surprise_storm_source.tar.gz\\\",\\n    \\\"/root/Downloads/nasa_tropical_storm_competition_surprise_storm_labels.tar.gz\\\",\\n    \\\"/root/Downloads/nasa_tropical_storm_competition_surprise_storm_metrics.tar.gz\\\",\\n]\\nfor archive_path in sup_paths:\\n    print(f\\\"Extracting {archive_path}...\\\")\\n    with tarfile.open(archive_path) as tfile:\\n        tfile.extractall(path=download_dir)\\nprint(\\\"Done\\\")\";\n                var nbb_cells = Jupyter.notebook.get_cells();\n                for (var i = 0; i < nbb_cells.length; ++i) {\n                    if (nbb_cells[i].input_prompt_number == nbb_cell_id) {\n                        if (nbb_cells[i].get_text() == nbb_unformatted_code) {\n                             nbb_cells[i].set_text(nbb_formatted_code);\n                        }\n                        break;\n                    }\n                }\n            }, 500);\n            ",
      "text/plain": [
       "<IPython.core.display.Javascript object>"
      ]
     },
     "metadata": {},
     "output_type": "display_data"
    }
   ],
   "source": [
    "sup_paths = [\"/root/Downloads/nasa_tropical_storm_competition_surprise_storm_source.tar.gz\", \"/root/Downloads/nasa_tropical_storm_competition_surprise_storm_labels.tar.gz\", \"/root/Downloads/nasa_tropical_storm_competition_surprise_storm_metrics.tar.gz\"]\n",
    "for archive_path in sup_paths:\n",
    "    print(f'Extracting {archive_path}...')\n",
    "    with tarfile.open(archive_path) as tfile:\n",
    "        tfile.extractall(path=download_dir)\n",
    "print('Done')"
   ]
  },
  {
   "cell_type": "markdown",
   "metadata": {},
   "source": [
    "Creating Correct Directories"
   ]
  },
  {
   "cell_type": "code",
   "execution_count": null,
   "metadata": {
    "colab": {
     "base_uri": "https://localhost:8080/",
     "height": 17
    },
    "executionInfo": {
     "elapsed": 282,
     "status": "ok",
     "timestamp": 1653570144306,
     "user": {
      "displayName": "Caili Zhong",
      "userId": "02954861531754358342"
     },
     "user_tz": -60
    },
    "id": "MBLQCVE0df5x",
    "outputId": "ab64a95c-88ed-494b-e40f-8bb1e385e04d"
   },
   "outputs": [
    {
     "data": {
      "application/javascript": "\n            setTimeout(function() {\n                var nbb_cell_id = 13;\n                var nbb_unformatted_code = \"def refresh_folder(path):\\n  if os.path.exists(path):\\n    shutil.rmtree(path)\\n    os.mkdir(path)\\n  else:\\n    os.mkdir(path)\";\n                var nbb_formatted_code = \"def refresh_folder(path):\\n    if os.path.exists(path):\\n        shutil.rmtree(path)\\n        os.mkdir(path)\\n    else:\\n        os.mkdir(path)\";\n                var nbb_cells = Jupyter.notebook.get_cells();\n                for (var i = 0; i < nbb_cells.length; ++i) {\n                    if (nbb_cells[i].input_prompt_number == nbb_cell_id) {\n                        if (nbb_cells[i].get_text() == nbb_unformatted_code) {\n                             nbb_cells[i].set_text(nbb_formatted_code);\n                        }\n                        break;\n                    }\n                }\n            }, 500);\n            ",
      "text/plain": [
       "<IPython.core.display.Javascript object>"
      ]
     },
     "metadata": {},
     "output_type": "display_data"
    }
   ],
   "source": [
    "def refresh_folder(path):\n",
    "  if os.path.exists(path):\n",
    "    shutil.rmtree(path)\n",
    "    os.mkdir(path)\n",
    "  else:\n",
    "    os.mkdir(path)"
   ]
  },
  {
   "cell_type": "markdown",
   "metadata": {},
   "source": [
    "Extract Images to the Directory"
   ]
  },
  {
   "cell_type": "code",
   "execution_count": null,
   "metadata": {
    "colab": {
     "base_uri": "https://localhost:8080/",
     "height": 17
    },
    "executionInfo": {
     "elapsed": 304,
     "status": "ok",
     "timestamp": 1653570335801,
     "user": {
      "displayName": "Caili Zhong",
      "userId": "02954861531754358342"
     },
     "user_tz": -60
    },
    "id": "ffuu0fIRd61P",
    "outputId": "b1e7424c-c372-41c2-84f6-7a4180745d07"
   },
   "outputs": [
    {
     "data": {
      "application/javascript": "\n            setTimeout(function() {\n                var nbb_cell_id = 19;\n                var nbb_unformatted_code = \"from operator import length_hint\\ndef copy_jpg(leng, name, bias, old_path):\\n  old_path = old_path+str(name)\\n  new_path = \\\"/root/Downloads/train_source/\\\"\\n  refresh_folder(new_path)\\n  for i in range(bias):\\n    new_path = \\\"/root/Downloads/train_source/\\\"+str(name)+str(i)\\n    if not os.path.exists(new_path):\\n      os.mkdir(new_path)\\n    for j in range(leng-i):\\n      if ((j+i+1) < 10):\\n         old_p = old_path+\\\"_00\\\"+str(j+i+1)+\\\"/image.jpg\\\"\\n      elif ((j+i+1) < 100):\\n        old_p = old_path+\\\"_0\\\"+str(i+j+1)+\\\"/image.jpg\\\"\\n      elif ((j+i+1) < 1000):\\n        old_p = old_path+\\\"_\\\"+str(i+j+1)+\\\"/image.jpg\\\"\\n      new_p = new_path+\\\"/\\\"+str(j)+\\\".jpg\\\"\\n      shutil.copyfile(str(old_p), str(new_p))\";\n                var nbb_formatted_code = \"from operator import length_hint\\n\\n\\ndef copy_jpg(leng, name, bias, old_path):\\n    old_path = old_path + str(name)\\n    new_path = \\\"/root/Downloads/train_source/\\\"\\n    refresh_folder(new_path)\\n    for i in range(bias):\\n        new_path = \\\"/root/Downloads/train_source/\\\" + str(name) + str(i)\\n        if not os.path.exists(new_path):\\n            os.mkdir(new_path)\\n        for j in range(leng - i):\\n            if (j + i + 1) < 10:\\n                old_p = old_path + \\\"_00\\\" + str(j + i + 1) + \\\"/image.jpg\\\"\\n            elif (j + i + 1) < 100:\\n                old_p = old_path + \\\"_0\\\" + str(i + j + 1) + \\\"/image.jpg\\\"\\n            elif (j + i + 1) < 1000:\\n                old_p = old_path + \\\"_\\\" + str(i + j + 1) + \\\"/image.jpg\\\"\\n            new_p = new_path + \\\"/\\\" + str(j) + \\\".jpg\\\"\\n            shutil.copyfile(str(old_p), str(new_p))\";\n                var nbb_cells = Jupyter.notebook.get_cells();\n                for (var i = 0; i < nbb_cells.length; ++i) {\n                    if (nbb_cells[i].input_prompt_number == nbb_cell_id) {\n                        if (nbb_cells[i].get_text() == nbb_unformatted_code) {\n                             nbb_cells[i].set_text(nbb_formatted_code);\n                        }\n                        break;\n                    }\n                }\n            }, 500);\n            ",
      "text/plain": [
       "<IPython.core.display.Javascript object>"
      ]
     },
     "metadata": {},
     "output_type": "display_data"
    }
   ],
   "source": [
    "from operator import length_hint\n",
    "def copy_jpg(leng, name, bias, old_path):\n",
    "  old_path = old_path+str(name)\n",
    "  new_path = \"/root/Downloads/train_source/\"\n",
    "  refresh_folder(new_path)\n",
    "  for i in range(bias):\n",
    "    new_path = \"/root/Downloads/train_source/\"+str(name)+str(i)\n",
    "    if not os.path.exists(new_path):\n",
    "      os.mkdir(new_path)\n",
    "    for j in range(leng-i):\n",
    "      if ((j+i+1) < 10):\n",
    "         old_p = old_path+\"_00\"+str(j+i+1)+\"/image.jpg\"\n",
    "      elif ((j+i+1) < 100):\n",
    "        old_p = old_path+\"_0\"+str(i+j+1)+\"/image.jpg\"\n",
    "      elif ((j+i+1) < 1000):\n",
    "        old_p = old_path+\"_\"+str(i+j+1)+\"/image.jpg\"\n",
    "      new_p = new_path+\"/\"+str(j)+\".jpg\"\n",
    "      shutil.copyfile(str(old_p), str(new_p))"
   ]
  },
  {
   "cell_type": "code",
   "execution_count": null,
   "metadata": {
    "colab": {
     "base_uri": "https://localhost:8080/",
     "height": 17
    },
    "executionInfo": {
     "elapsed": 304,
     "status": "ok",
     "timestamp": 1653578050355,
     "user": {
      "displayName": "Caili Zhong",
      "userId": "02954861531754358342"
     },
     "user_tz": -60
    },
    "id": "rLDilLd3cIR-",
    "outputId": "7b5b0ef6-6274-4a76-b713-033206a9ee7f"
   },
   "outputs": [
    {
     "data": {
      "application/javascript": "\n            setTimeout(function() {\n                var nbb_cell_id = 51;\n                var nbb_unformatted_code = \"old_sup=\\\"/root/Downloads/nasa_tropical_storm_competition_surprise_storm_source/nasa_tropical_storm_competition_surprise_storm_source_\\\"\\ncopy_jpg(95, \\\"sss\\\", 5,old_sup)\";\n                var nbb_formatted_code = \"old_sup = \\\"/root/Downloads/nasa_tropical_storm_competition_surprise_storm_source/nasa_tropical_storm_competition_surprise_storm_source_\\\"\\ncopy_jpg(95, \\\"sss\\\", 5, old_sup)\";\n                var nbb_cells = Jupyter.notebook.get_cells();\n                for (var i = 0; i < nbb_cells.length; ++i) {\n                    if (nbb_cells[i].input_prompt_number == nbb_cell_id) {\n                        if (nbb_cells[i].get_text() == nbb_unformatted_code) {\n                             nbb_cells[i].set_text(nbb_formatted_code);\n                        }\n                        break;\n                    }\n                }\n            }, 500);\n            ",
      "text/plain": [
       "<IPython.core.display.Javascript object>"
      ]
     },
     "metadata": {},
     "output_type": "display_data"
    }
   ],
   "source": [
    "old_sup=\"/root/Downloads/nasa_tropical_storm_competition_surprise_storm_source/nasa_tropical_storm_competition_surprise_storm_source_\"\n",
    "copy_jpg(95, \"sss\", 5,old_sup)"
   ]
  },
  {
   "cell_type": "markdown",
   "metadata": {},
   "source": [
    "Function to Convert Images to JPG"
   ]
  },
  {
   "cell_type": "code",
   "execution_count": null,
   "metadata": {
    "colab": {
     "base_uri": "https://localhost:8080/",
     "height": 17
    },
    "executionInfo": {
     "elapsed": 254,
     "status": "ok",
     "timestamp": 1653578068587,
     "user": {
      "displayName": "Caili Zhong",
      "userId": "02954861531754358342"
     },
     "user_tz": -60
    },
    "id": "0MyZkQWWljjc",
    "outputId": "34c1ee6a-5e12-48a8-c20c-6a3546dc3e76"
   },
   "outputs": [
    {
     "data": {
      "application/javascript": "\n            setTimeout(function() {\n                var nbb_cell_id = 52;\n                var nbb_unformatted_code = \"def convertjpg(jpgfile,outdir,width=64,height=64):\\n    img=Image.open(jpgfile)\\n    try:\\n        new_img = img.resize((width, height), Image.BILINEAR)\\n        if new_img.mode == 'P':\\n            new_img = new_img.convert(\\\"RGB\\\")\\n        if new_img.mode == 'RGBA':\\n            new_img = new_img.convert(\\\"RGB\\\")\\n        new_img.save(outdir)\\n    except Exception as e:\\n        print(e)\\n\\ndef read_images(path):\\n    data = []\\n    for img in os.listdir(path):\\n      try:\\n          img_arr = mpimage.imread(os.path.join(path, img))\\n          # resized_arr = np.resize(img_arr, image_size) # Reshaping images to preferred size\\n          data.append(img_arr.tolist())\\n      except Exception as e:\\n        print(e)\\n    return np.array(data, dtype=np.float32)\\n\\n# standardise the data\\ndef apply_standardization(X, max, mean, std): # define an standardisation function\\n    X /= 255.\\n    # X -= mean\\n    # X /= std\\n    return X\\n\\ndef back_standardization(X, max, mean, std): # define a back standardisation function\\n    X *= std\\n    X += mean\\n    X *= max\\n    return X\";\n                var nbb_formatted_code = \"def convertjpg(jpgfile, outdir, width=64, height=64):\\n    img = Image.open(jpgfile)\\n    try:\\n        new_img = img.resize((width, height), Image.BILINEAR)\\n        if new_img.mode == \\\"P\\\":\\n            new_img = new_img.convert(\\\"RGB\\\")\\n        if new_img.mode == \\\"RGBA\\\":\\n            new_img = new_img.convert(\\\"RGB\\\")\\n        new_img.save(outdir)\\n    except Exception as e:\\n        print(e)\\n\\n\\ndef read_images(path):\\n    data = []\\n    for img in os.listdir(path):\\n        try:\\n            img_arr = mpimage.imread(os.path.join(path, img))\\n            # resized_arr = np.resize(img_arr, image_size) # Reshaping images to preferred size\\n            data.append(img_arr.tolist())\\n        except Exception as e:\\n            print(e)\\n    return np.array(data, dtype=np.float32)\\n\\n\\n# standardise the data\\ndef apply_standardization(X, max, mean, std):  # define an standardisation function\\n    X /= 255.0\\n    # X -= mean\\n    # X /= std\\n    return X\\n\\n\\ndef back_standardization(X, max, mean, std):  # define a back standardisation function\\n    X *= std\\n    X += mean\\n    X *= max\\n    return X\";\n                var nbb_cells = Jupyter.notebook.get_cells();\n                for (var i = 0; i < nbb_cells.length; ++i) {\n                    if (nbb_cells[i].input_prompt_number == nbb_cell_id) {\n                        if (nbb_cells[i].get_text() == nbb_unformatted_code) {\n                             nbb_cells[i].set_text(nbb_formatted_code);\n                        }\n                        break;\n                    }\n                }\n            }, 500);\n            ",
      "text/plain": [
       "<IPython.core.display.Javascript object>"
      ]
     },
     "metadata": {},
     "output_type": "display_data"
    }
   ],
   "source": [
    "def convertjpg(jpgfile,outdir,width=64,height=64):\n",
    "    img=Image.open(jpgfile)\n",
    "    try:\n",
    "        new_img = img.resize((width, height), Image.BILINEAR)\n",
    "        if new_img.mode == 'P':\n",
    "            new_img = new_img.convert(\"RGB\")\n",
    "        if new_img.mode == 'RGBA':\n",
    "            new_img = new_img.convert(\"RGB\")\n",
    "        new_img.save(outdir)\n",
    "    except Exception as e:\n",
    "        print(e)\n",
    "\n",
    "def read_images(path):\n",
    "    data = []\n",
    "    for img in os.listdir(path):\n",
    "      try:\n",
    "          img_arr = mpimage.imread(os.path.join(path, img))\n",
    "          # resized_arr = np.resize(img_arr, image_size) # Reshaping images to preferred size\n",
    "          data.append(img_arr.tolist())\n",
    "      except Exception as e:\n",
    "        print(e)\n",
    "    return np.array(data, dtype=np.float32)\n",
    "\n",
    "# standardise the data\n",
    "def apply_standardization(X): # define an standardisation function\n",
    "    X /= 255.\n",
    "    return X\n"
   ]
  },
  {
   "cell_type": "markdown",
   "metadata": {},
   "source": [
    "Function to Split the Data"
   ]
  },
  {
   "cell_type": "code",
   "execution_count": null,
   "metadata": {
    "colab": {
     "base_uri": "https://localhost:8080/",
     "height": 17
    },
    "executionInfo": {
     "elapsed": 499,
     "status": "ok",
     "timestamp": 1653570409037,
     "user": {
      "displayName": "Caili Zhong",
      "userId": "02954861531754358342"
     },
     "user_tz": -60
    },
    "id": "7cQAyyl4lwD1",
    "outputId": "170a14b0-4181-4eda-8c5e-d9fd3e128d36"
   },
   "outputs": [
    {
     "data": {
      "application/javascript": "\n            setTimeout(function() {\n                var nbb_cell_id = 22;\n                var nbb_unformatted_code = \"\\n\\nimport glob\\n\\ndef data_split(storm_name, total_size = 600, input_size = 5, output_size =5, bias = 5, ratio = 0.8):\\n  total_data = []\\n  train_set_path = '/root/Downloads/train_set'\\n  train_label_path = '/root/Downloads/train_label'\\n  test_set_path = '/root/Downloads/test_set'\\n  test_label_path = '/root/Downloads/test_label'\\n  original_path = \\\"/root/Downloads/train_source/\\\"+str(storm_name)\\n  for b in range(bias):\\n    refresh_folder(train_set_path)\\n    refresh_folder(train_label_path)\\n    refresh_folder(test_set_path)\\n    refresh_folder(test_label_path)\\n    original_path = \\\"/root/Downloads/train_source/\\\"+str(storm_name)+str(b)\\n\\n    files = glob.glob(os.path.join(original_path, '*.jpg'))\\n    for file in files:\\n      convertjpg(file,file,width=64,height=64)\\n\\n    train_size = int((total_size * ratio)/(input_size+output_size))\\n\\n    for i in range(train_size):\\n      new_path = train_set_path+\\\"/seq%s\\\"%(i+1)\\n      new_label_path = train_label_path+\\\"/seq%s\\\"%(i+1)\\n      refresh_folder(new_path)\\n      refresh_folder(new_label_path)\\n\\n      for j in range(input_size):\\n        numb = int(i*(input_size+output_size)+j)\\n        old_p = original_path+\\\"/%s.jpg\\\"%(str(numb))\\n        new_p = new_path+\\\"/%s.jpg\\\"%(str(j))\\n        shutil.copyfile(str(old_p), str(new_p))\\n      for k in range(output_size):\\n        numb = int(i*(input_size+output_size)+input_size+k)\\n        old_p = original_path+\\\"/%s.jpg\\\"%(str(numb))\\n        new_p = new_label_path+\\\"/%s.jpg\\\"%(str(input_size+k))\\n        shutil.copyfile(str(old_p), str(new_p))\\n\\n    before = int(total_size*ratio)\\n    test_size = math.ceil((total_size * (1-ratio))/(input_size+output_size))\\n\\n    for i in range(test_size):\\n      new_path = test_set_path+\\\"/ts_seq%s\\\"%(i+1)\\n      new_label_path = test_label_path+\\\"/ts_seq%s\\\"%(i+1)\\n      refresh_folder(new_path)\\n      refresh_folder(new_label_path)\\n      for j in range(input_size):\\n        numb = int(i*(input_size+output_size)+j+before)\\n        old_p = original_path+\\\"/%s.jpg\\\"%(str(numb))\\n        new_p = new_path+\\\"/%s.jpg\\\"%(str(j))\\n        shutil.copyfile(str(old_p), str(new_p))\\n      for k in range(output_size):\\n        numb = int(i*(input_size+output_size)+input_size+k+before)\\n        old_p = original_path+\\\"/%s.jpg\\\"%(str(numb))\\n        new_p = new_label_path+\\\"/%s.jpg\\\"%(str(input_size+k))\\n        shutil.copyfile(str(old_p), str(new_p))\\n    \\n    this_data = []\\n    for i in range(train_size):\\n      dd = read_images('/root/Downloads/train_set/seq%s'%(str(i+1)))\\n      ll = read_images('/root/Downloads/train_label/seq%s'%(str(i+1)))\\n      toget = np.vstack((dd, ll))\\n      this_data.append(toget)\\n    this_data = np.array(this_data, dtype=float)\\n    print(this_data.shape)\\n    if (b==0):\\n      total_data = this_data\\n    else:\\n      total_data = np.vstack((total_data, this_data))\\n  total_data = np.array(total_data, dtype=float)\\n  print(total_data.shape)\\n  return total_data\";\n                var nbb_formatted_code = \"import glob\\n\\n\\ndef data_split(\\n    storm_name, total_size=600, input_size=5, output_size=5, bias=5, ratio=0.8\\n):\\n    total_data = []\\n    train_set_path = \\\"/root/Downloads/train_set\\\"\\n    train_label_path = \\\"/root/Downloads/train_label\\\"\\n    test_set_path = \\\"/root/Downloads/test_set\\\"\\n    test_label_path = \\\"/root/Downloads/test_label\\\"\\n    original_path = \\\"/root/Downloads/train_source/\\\" + str(storm_name)\\n    for b in range(bias):\\n        refresh_folder(train_set_path)\\n        refresh_folder(train_label_path)\\n        refresh_folder(test_set_path)\\n        refresh_folder(test_label_path)\\n        original_path = \\\"/root/Downloads/train_source/\\\" + str(storm_name) + str(b)\\n\\n        files = glob.glob(os.path.join(original_path, \\\"*.jpg\\\"))\\n        for file in files:\\n            convertjpg(file, file, width=64, height=64)\\n\\n        train_size = int((total_size * ratio) / (input_size + output_size))\\n\\n        for i in range(train_size):\\n            new_path = train_set_path + \\\"/seq%s\\\" % (i + 1)\\n            new_label_path = train_label_path + \\\"/seq%s\\\" % (i + 1)\\n            refresh_folder(new_path)\\n            refresh_folder(new_label_path)\\n\\n            for j in range(input_size):\\n                numb = int(i * (input_size + output_size) + j)\\n                old_p = original_path + \\\"/%s.jpg\\\" % (str(numb))\\n                new_p = new_path + \\\"/%s.jpg\\\" % (str(j))\\n                shutil.copyfile(str(old_p), str(new_p))\\n            for k in range(output_size):\\n                numb = int(i * (input_size + output_size) + input_size + k)\\n                old_p = original_path + \\\"/%s.jpg\\\" % (str(numb))\\n                new_p = new_label_path + \\\"/%s.jpg\\\" % (str(input_size + k))\\n                shutil.copyfile(str(old_p), str(new_p))\\n\\n        before = int(total_size * ratio)\\n        test_size = math.ceil((total_size * (1 - ratio)) / (input_size + output_size))\\n\\n        for i in range(test_size):\\n            new_path = test_set_path + \\\"/ts_seq%s\\\" % (i + 1)\\n            new_label_path = test_label_path + \\\"/ts_seq%s\\\" % (i + 1)\\n            refresh_folder(new_path)\\n            refresh_folder(new_label_path)\\n            for j in range(input_size):\\n                numb = int(i * (input_size + output_size) + j + before)\\n                old_p = original_path + \\\"/%s.jpg\\\" % (str(numb))\\n                new_p = new_path + \\\"/%s.jpg\\\" % (str(j))\\n                shutil.copyfile(str(old_p), str(new_p))\\n            for k in range(output_size):\\n                numb = int(i * (input_size + output_size) + input_size + k + before)\\n                old_p = original_path + \\\"/%s.jpg\\\" % (str(numb))\\n                new_p = new_label_path + \\\"/%s.jpg\\\" % (str(input_size + k))\\n                shutil.copyfile(str(old_p), str(new_p))\\n\\n        this_data = []\\n        for i in range(train_size):\\n            dd = read_images(\\\"/root/Downloads/train_set/seq%s\\\" % (str(i + 1)))\\n            ll = read_images(\\\"/root/Downloads/train_label/seq%s\\\" % (str(i + 1)))\\n            toget = np.vstack((dd, ll))\\n            this_data.append(toget)\\n        this_data = np.array(this_data, dtype=float)\\n        print(this_data.shape)\\n        if b == 0:\\n            total_data = this_data\\n        else:\\n            total_data = np.vstack((total_data, this_data))\\n    total_data = np.array(total_data, dtype=float)\\n    print(total_data.shape)\\n    return total_data\";\n                var nbb_cells = Jupyter.notebook.get_cells();\n                for (var i = 0; i < nbb_cells.length; ++i) {\n                    if (nbb_cells[i].input_prompt_number == nbb_cell_id) {\n                        if (nbb_cells[i].get_text() == nbb_unformatted_code) {\n                             nbb_cells[i].set_text(nbb_formatted_code);\n                        }\n                        break;\n                    }\n                }\n            }, 500);\n            ",
      "text/plain": [
       "<IPython.core.display.Javascript object>"
      ]
     },
     "metadata": {},
     "output_type": "display_data"
    }
   ],
   "source": [
    "import glob\n",
    "\n",
    "def data_split(storm_name, total_size = 600, input_size = 5, output_size =5, bias = 5, ratio = 0.8):\n",
    "  total_data = []\n",
    "  train_set_path = '/root/Downloads/train_set'\n",
    "  train_label_path = '/root/Downloads/train_label'\n",
    "  test_set_path = '/root/Downloads/test_set'\n",
    "  test_label_path = '/root/Downloads/test_label'\n",
    "  original_path = \"/root/Downloads/train_source/\"+str(storm_name)\n",
    "  for b in range(bias):\n",
    "    refresh_folder(train_set_path)\n",
    "    refresh_folder(train_label_path)\n",
    "    refresh_folder(test_set_path)\n",
    "    refresh_folder(test_label_path)\n",
    "    original_path = \"/root/Downloads/train_source/\"+str(storm_name)+str(b)\n",
    "\n",
    "    files = glob.glob(os.path.join(original_path, '*.jpg'))\n",
    "    for file in files:\n",
    "      convertjpg(file,file,width=64,height=64)\n",
    "\n",
    "    train_size = int((total_size * ratio)/(input_size+output_size))\n",
    "\n",
    "    for i in range(train_size):\n",
    "      new_path = train_set_path+\"/seq%s\"%(i+1)\n",
    "      new_label_path = train_label_path+\"/seq%s\"%(i+1)\n",
    "      refresh_folder(new_path)\n",
    "      refresh_folder(new_label_path)\n",
    "\n",
    "      for j in range(input_size):\n",
    "        numb = int(i*(input_size+output_size)+j)\n",
    "        old_p = original_path+\"/%s.jpg\"%(str(numb))\n",
    "        new_p = new_path+\"/%s.jpg\"%(str(j))\n",
    "        shutil.copyfile(str(old_p), str(new_p))\n",
    "      for k in range(output_size):\n",
    "        numb = int(i*(input_size+output_size)+input_size+k)\n",
    "        old_p = original_path+\"/%s.jpg\"%(str(numb))\n",
    "        new_p = new_label_path+\"/%s.jpg\"%(str(input_size+k))\n",
    "        shutil.copyfile(str(old_p), str(new_p))\n",
    "\n",
    "    before = int(total_size*ratio)\n",
    "    test_size = math.ceil((total_size * (1-ratio))/(input_size+output_size))\n",
    "\n",
    "    for i in range(test_size):\n",
    "      new_path = test_set_path+\"/ts_seq%s\"%(i+1)\n",
    "      new_label_path = test_label_path+\"/ts_seq%s\"%(i+1)\n",
    "      refresh_folder(new_path)\n",
    "      refresh_folder(new_label_path)\n",
    "      for j in range(input_size):\n",
    "        numb = int(i*(input_size+output_size)+j+before)\n",
    "        old_p = original_path+\"/%s.jpg\"%(str(numb))\n",
    "        new_p = new_path+\"/%s.jpg\"%(str(j))\n",
    "        shutil.copyfile(str(old_p), str(new_p))\n",
    "      for k in range(output_size):\n",
    "        numb = int(i*(input_size+output_size)+input_size+k+before)\n",
    "        old_p = original_path+\"/%s.jpg\"%(str(numb))\n",
    "        new_p = new_label_path+\"/%s.jpg\"%(str(input_size+k))\n",
    "        shutil.copyfile(str(old_p), str(new_p))\n",
    "    \n",
    "    this_data = []\n",
    "    for i in range(train_size):\n",
    "      dd = read_images('/root/Downloads/train_set/seq%s'%(str(i+1)))\n",
    "      ll = read_images('/root/Downloads/train_label/seq%s'%(str(i+1)))\n",
    "      toget = np.vstack((dd, ll))\n",
    "      this_data.append(toget)\n",
    "    this_data = np.array(this_data, dtype=float)\n",
    "    print(this_data.shape)\n",
    "    if (b==0):\n",
    "      total_data = this_data\n",
    "    else:\n",
    "      total_data = np.vstack((total_data, this_data))\n",
    "  total_data = np.array(total_data, dtype=float)\n",
    "  print(total_data.shape)\n",
    "  return total_data"
   ]
  },
  {
   "cell_type": "markdown",
   "metadata": {},
   "source": [
    "Apply the Data_split Function "
   ]
  },
  {
   "cell_type": "code",
   "execution_count": null,
   "metadata": {
    "colab": {
     "base_uri": "https://localhost:8080/",
     "height": 119
    },
    "executionInfo": {
     "elapsed": 1193,
     "status": "ok",
     "timestamp": 1653578077676,
     "user": {
      "displayName": "Caili Zhong",
      "userId": "02954861531754358342"
     },
     "user_tz": -60
    },
    "id": "X4edKvyQelPk",
    "outputId": "1fcf909c-6daa-459a-ebc4-804e60395869"
   },
   "outputs": [
    {
     "name": "stdout",
     "output_type": "stream",
     "text": [
      "(9, 10, 64, 64)\n",
      "(9, 10, 64, 64)\n",
      "(9, 10, 64, 64)\n",
      "(9, 10, 64, 64)\n",
      "(9, 10, 64, 64)\n",
      "(45, 10, 64, 64)\n"
     ]
    },
    {
     "data": {
      "application/javascript": "\n            setTimeout(function() {\n                var nbb_cell_id = 53;\n                var nbb_unformatted_code = \"sup_data = data_split(\\\"sss\\\", total_size = 90, input_size = 5, output_size =5, bias = 5, ratio = 1)\";\n                var nbb_formatted_code = \"sup_data = data_split(\\n    \\\"sss\\\", total_size=90, input_size=5, output_size=5, bias=5, ratio=1\\n)\";\n                var nbb_cells = Jupyter.notebook.get_cells();\n                for (var i = 0; i < nbb_cells.length; ++i) {\n                    if (nbb_cells[i].input_prompt_number == nbb_cell_id) {\n                        if (nbb_cells[i].get_text() == nbb_unformatted_code) {\n                             nbb_cells[i].set_text(nbb_formatted_code);\n                        }\n                        break;\n                    }\n                }\n            }, 500);\n            ",
      "text/plain": [
       "<IPython.core.display.Javascript object>"
      ]
     },
     "metadata": {},
     "output_type": "display_data"
    }
   ],
   "source": [
    "sup_data = data_split(\"sss\", total_size = 90, input_size = 5, output_size =5, bias = 5, ratio = 1)"
   ]
  },
  {
   "cell_type": "code",
   "execution_count": null,
   "metadata": {
    "colab": {
     "base_uri": "https://localhost:8080/",
     "height": 289
    },
    "executionInfo": {
     "elapsed": 231,
     "status": "ok",
     "timestamp": 1653578147458,
     "user": {
      "displayName": "Caili Zhong",
      "userId": "02954861531754358342"
     },
     "user_tz": -60
    },
    "id": "yd26lQZCfXtt",
    "outputId": "4e686a25-07d9-403e-d14d-ef4034beb075"
   },
   "outputs": [
    {
     "name": "stdout",
     "output_type": "stream",
     "text": [
      "[[ 10.   9.   8. ... 108. 103. 102.]\n",
      " [ 10.   9.   8. ... 112. 114. 124.]\n",
      " [ 10.  10.   9. ... 114. 116. 126.]\n",
      " ...\n",
      " [103.  96.  85. ... 139. 128. 121.]\n",
      " [ 85.  86.  86. ... 142. 128. 121.]\n",
      " [ 94.  88.  84. ... 147. 131. 122.]]\n",
      "torch.Size([45, 10, 64, 64])\n",
      "tensor([[0.0392, 0.0353, 0.0314,  ..., 0.4235, 0.4039, 0.4000],\n",
      "        [0.0392, 0.0353, 0.0314,  ..., 0.4392, 0.4471, 0.4863],\n",
      "        [0.0392, 0.0392, 0.0353,  ..., 0.4471, 0.4549, 0.4941],\n",
      "        ...,\n",
      "        [0.4039, 0.3765, 0.3333,  ..., 0.5451, 0.5020, 0.4745],\n",
      "        [0.3333, 0.3373, 0.3373,  ..., 0.5569, 0.5020, 0.4745],\n",
      "        [0.3686, 0.3451, 0.3294,  ..., 0.5765, 0.5137, 0.4784]])\n",
      "torch.Size([45, 1, 10, 64, 64])\n"
     ]
    },
    {
     "data": {
      "application/javascript": "\n            setTimeout(function() {\n                var nbb_cell_id = 56;\n                var nbb_unformatted_code = \"print(sup_data[0][0])\\nmodel_data = torch.tensor(apply_standardization(sup_data, ds_max, ds_mean, ds_std)).float()\\nprint(model_data.shape)\\nprint(model_data[0][0])\\nmodel_data = model_data.unsqueeze(dim=1)\\nprint(model_data.shape)\";\n                var nbb_formatted_code = \"print(sup_data[0][0])\\nmodel_data = torch.tensor(\\n    apply_standardization(sup_data, ds_max, ds_mean, ds_std)\\n).float()\\nprint(model_data.shape)\\nprint(model_data[0][0])\\nmodel_data = model_data.unsqueeze(dim=1)\\nprint(model_data.shape)\";\n                var nbb_cells = Jupyter.notebook.get_cells();\n                for (var i = 0; i < nbb_cells.length; ++i) {\n                    if (nbb_cells[i].input_prompt_number == nbb_cell_id) {\n                        if (nbb_cells[i].get_text() == nbb_unformatted_code) {\n                             nbb_cells[i].set_text(nbb_formatted_code);\n                        }\n                        break;\n                    }\n                }\n            }, 500);\n            ",
      "text/plain": [
       "<IPython.core.display.Javascript object>"
      ]
     },
     "metadata": {},
     "output_type": "display_data"
    }
   ],
   "source": [
    "print(sup_data[0][0])\n",
    "model_data = torch.tensor(apply_standardization(sup_data)).float()\n",
    "print(model_data.shape)\n",
    "print(model_data[0][0])"
   ]
  },
  {
   "cell_type": "code",
   "execution_count": null,
   "metadata": {
    "colab": {
     "base_uri": "https://localhost:8080/",
     "height": 34
    },
    "executionInfo": {
     "elapsed": 270,
     "status": "ok",
     "timestamp": 1653578219108,
     "user": {
      "displayName": "Caili Zhong",
      "userId": "02954861531754358342"
     },
     "user_tz": -60
    },
    "id": "jHwDiFf-8TMn",
    "outputId": "329a2247-1cdd-4e8d-a5d7-9611a1215fc7"
   },
   "outputs": [
    {
     "name": "stdout",
     "output_type": "stream",
     "text": [
      "(45, 10, 64, 64)\n"
     ]
    },
    {
     "data": {
      "application/javascript": "\n            setTimeout(function() {\n                var nbb_cell_id = 58;\n                var nbb_unformatted_code = \"from matplotlib import test\\nvar_path = os.path.join(\\\"/root/Downloads/TEST.npy\\\")\\nnp_var = model_data.data.cpu().numpy()\\nnp.save(var_path, np_var)\\nprint(np_var.shape)\";\n                var nbb_formatted_code = \"from matplotlib import test\\n\\nvar_path = os.path.join(\\\"/root/Downloads/TEST.npy\\\")\\nnp_var = model_data.data.cpu().numpy()\\nnp.save(var_path, np_var)\\nprint(np_var.shape)\";\n                var nbb_cells = Jupyter.notebook.get_cells();\n                for (var i = 0; i < nbb_cells.length; ++i) {\n                    if (nbb_cells[i].input_prompt_number == nbb_cell_id) {\n                        if (nbb_cells[i].get_text() == nbb_unformatted_code) {\n                             nbb_cells[i].set_text(nbb_formatted_code);\n                        }\n                        break;\n                    }\n                }\n            }, 500);\n            ",
      "text/plain": [
       "<IPython.core.display.Javascript object>"
      ]
     },
     "metadata": {},
     "output_type": "display_data"
    }
   ],
   "source": [
    "from matplotlib import test\n",
    "var_path = os.path.join(\"/root/Downloads/TEST.npy\")\n",
    "np_var = model_data.data.cpu().numpy()\n",
    "np.save(var_path, np_var)\n",
    "print(np_var.shape)"
   ]
  },
  {
   "cell_type": "code",
   "execution_count": null,
   "metadata": {
    "id": "HLmP9t9nwc3R"
   },
   "outputs": [],
   "source": []
  }
 ],
 "metadata": {
  "colab": {
   "collapsed_sections": [],
   "name": "STORM.ipynb",
   "provenance": []
  },
  "kernelspec": {
   "display_name": "Python 3",
   "language": "python",
   "name": "python3"
  },
  "language_info": {
   "codemirror_mode": {
    "name": "ipython",
    "version": 3
   },
   "file_extension": ".py",
   "mimetype": "text/x-python",
   "name": "python",
   "nbconvert_exporter": "python",
   "pygments_lexer": "ipython3",
   "version": "3.8.5"
  },
  "widgets": {
   "application/vnd.jupyter.widget-state+json": {
    "0fd6792850f549609a92f0f4633e00b5": {
     "model_module": "@jupyter-widgets/controls",
     "model_module_version": "1.5.0",
     "model_name": "HTMLModel",
     "state": {
      "_dom_classes": [],
      "_model_module": "@jupyter-widgets/controls",
      "_model_module_version": "1.5.0",
      "_model_name": "HTMLModel",
      "_view_count": null,
      "_view_module": "@jupyter-widgets/controls",
      "_view_module_version": "1.5.0",
      "_view_name": "HTMLView",
      "description": "",
      "description_tooltip": null,
      "layout": "IPY_MODEL_4b4ab638496843c782ab6c36602bfd5a",
      "placeholder": "​",
      "style": "IPY_MODEL_56361ee6ea0741c0ae43ac871fa0a08c",
      "value": ""
     }
    },
    "1381ffc3de384147954261e781bfe057": {
     "model_module": "@jupyter-widgets/controls",
     "model_module_version": "1.5.0",
     "model_name": "DescriptionStyleModel",
     "state": {
      "_model_module": "@jupyter-widgets/controls",
      "_model_module_version": "1.5.0",
      "_model_name": "DescriptionStyleModel",
      "_view_count": null,
      "_view_module": "@jupyter-widgets/base",
      "_view_module_version": "1.2.0",
      "_view_name": "StyleView",
      "description_width": ""
     }
    },
    "13c6933dcb3c4cbd9d3f05a8ab4539d2": {
     "model_module": "@jupyter-widgets/base",
     "model_module_version": "1.2.0",
     "model_name": "LayoutModel",
     "state": {
      "_model_module": "@jupyter-widgets/base",
      "_model_module_version": "1.2.0",
      "_model_name": "LayoutModel",
      "_view_count": null,
      "_view_module": "@jupyter-widgets/base",
      "_view_module_version": "1.2.0",
      "_view_name": "LayoutView",
      "align_content": null,
      "align_items": null,
      "align_self": null,
      "border": null,
      "bottom": null,
      "display": null,
      "flex": null,
      "flex_flow": null,
      "grid_area": null,
      "grid_auto_columns": null,
      "grid_auto_flow": null,
      "grid_auto_rows": null,
      "grid_column": null,
      "grid_gap": null,
      "grid_row": null,
      "grid_template_areas": null,
      "grid_template_columns": null,
      "grid_template_rows": null,
      "height": null,
      "justify_content": null,
      "justify_items": null,
      "left": null,
      "margin": null,
      "max_height": null,
      "max_width": null,
      "min_height": null,
      "min_width": null,
      "object_fit": null,
      "object_position": null,
      "order": null,
      "overflow": null,
      "overflow_x": null,
      "overflow_y": null,
      "padding": null,
      "right": null,
      "top": null,
      "visibility": null,
      "width": null
     }
    },
    "1779f18c5dc24eb9acee9bef66500b90": {
     "model_module": "@jupyter-widgets/base",
     "model_module_version": "1.2.0",
     "model_name": "LayoutModel",
     "state": {
      "_model_module": "@jupyter-widgets/base",
      "_model_module_version": "1.2.0",
      "_model_name": "LayoutModel",
      "_view_count": null,
      "_view_module": "@jupyter-widgets/base",
      "_view_module_version": "1.2.0",
      "_view_name": "LayoutView",
      "align_content": null,
      "align_items": null,
      "align_self": null,
      "border": null,
      "bottom": null,
      "display": null,
      "flex": null,
      "flex_flow": null,
      "grid_area": null,
      "grid_auto_columns": null,
      "grid_auto_flow": null,
      "grid_auto_rows": null,
      "grid_column": null,
      "grid_gap": null,
      "grid_row": null,
      "grid_template_areas": null,
      "grid_template_columns": null,
      "grid_template_rows": null,
      "height": null,
      "justify_content": null,
      "justify_items": null,
      "left": null,
      "margin": null,
      "max_height": null,
      "max_width": null,
      "min_height": null,
      "min_width": null,
      "object_fit": null,
      "object_position": null,
      "order": null,
      "overflow": null,
      "overflow_x": null,
      "overflow_y": null,
      "padding": null,
      "right": null,
      "top": null,
      "visibility": null,
      "width": null
     }
    },
    "19771c7e890644bc94aba29fb64d4b53": {
     "model_module": "@jupyter-widgets/controls",
     "model_module_version": "1.5.0",
     "model_name": "HTMLModel",
     "state": {
      "_dom_classes": [],
      "_model_module": "@jupyter-widgets/controls",
      "_model_module_version": "1.5.0",
      "_model_name": "HTMLModel",
      "_view_count": null,
      "_view_module": "@jupyter-widgets/controls",
      "_view_module_version": "1.5.0",
      "_view_name": "HTMLView",
      "description": "",
      "description_tooltip": null,
      "layout": "IPY_MODEL_13c6933dcb3c4cbd9d3f05a8ab4539d2",
      "placeholder": "​",
      "style": "IPY_MODEL_1381ffc3de384147954261e781bfe057",
      "value": ""
     }
    },
    "1fb699ee695e4f93bc309ee5f8d10b88": {
     "model_module": "@jupyter-widgets/base",
     "model_module_version": "1.2.0",
     "model_name": "LayoutModel",
     "state": {
      "_model_module": "@jupyter-widgets/base",
      "_model_module_version": "1.2.0",
      "_model_name": "LayoutModel",
      "_view_count": null,
      "_view_module": "@jupyter-widgets/base",
      "_view_module_version": "1.2.0",
      "_view_name": "LayoutView",
      "align_content": null,
      "align_items": null,
      "align_self": null,
      "border": null,
      "bottom": null,
      "display": null,
      "flex": null,
      "flex_flow": null,
      "grid_area": null,
      "grid_auto_columns": null,
      "grid_auto_flow": null,
      "grid_auto_rows": null,
      "grid_column": null,
      "grid_gap": null,
      "grid_row": null,
      "grid_template_areas": null,
      "grid_template_columns": null,
      "grid_template_rows": null,
      "height": null,
      "justify_content": null,
      "justify_items": null,
      "left": null,
      "margin": null,
      "max_height": null,
      "max_width": null,
      "min_height": null,
      "min_width": null,
      "object_fit": null,
      "object_position": null,
      "order": null,
      "overflow": null,
      "overflow_x": null,
      "overflow_y": null,
      "padding": null,
      "right": null,
      "top": null,
      "visibility": null,
      "width": null
     }
    },
    "2005b3d677c74a9988518d50c1bde657": {
     "model_module": "@jupyter-widgets/controls",
     "model_module_version": "1.5.0",
     "model_name": "HTMLModel",
     "state": {
      "_dom_classes": [],
      "_model_module": "@jupyter-widgets/controls",
      "_model_module_version": "1.5.0",
      "_model_name": "HTMLModel",
      "_view_count": null,
      "_view_module": "@jupyter-widgets/controls",
      "_view_module_version": "1.5.0",
      "_view_name": "HTMLView",
      "description": "",
      "description_tooltip": null,
      "layout": "IPY_MODEL_5b37c1f542f74a28826a95f26dacf378",
      "placeholder": "​",
      "style": "IPY_MODEL_24cc6b5f30664248b32fb0f9e5baac2e",
      "value": "109%"
     }
    },
    "24cc6b5f30664248b32fb0f9e5baac2e": {
     "model_module": "@jupyter-widgets/controls",
     "model_module_version": "1.5.0",
     "model_name": "DescriptionStyleModel",
     "state": {
      "_model_module": "@jupyter-widgets/controls",
      "_model_module_version": "1.5.0",
      "_model_name": "DescriptionStyleModel",
      "_view_count": null,
      "_view_module": "@jupyter-widgets/base",
      "_view_module_version": "1.2.0",
      "_view_name": "StyleView",
      "description_width": ""
     }
    },
    "2b42be2f7c264eb0872b034ba1562666": {
     "model_module": "@jupyter-widgets/controls",
     "model_module_version": "1.5.0",
     "model_name": "FloatProgressModel",
     "state": {
      "_dom_classes": [],
      "_model_module": "@jupyter-widgets/controls",
      "_model_module_version": "1.5.0",
      "_model_name": "FloatProgressModel",
      "_view_count": null,
      "_view_module": "@jupyter-widgets/controls",
      "_view_module_version": "1.5.0",
      "_view_name": "ProgressView",
      "bar_style": "success",
      "description": "",
      "description_tooltip": null,
      "layout": "IPY_MODEL_1fb699ee695e4f93bc309ee5f8d10b88",
      "max": 1446.5,
      "min": 0,
      "orientation": "horizontal",
      "style": "IPY_MODEL_4326bde39c7341a3885da3ad3342dd4d",
      "value": 1446.5
     }
    },
    "340316999a3e49d9af8252aacb2d69d1": {
     "model_module": "@jupyter-widgets/controls",
     "model_module_version": "1.5.0",
     "model_name": "ProgressStyleModel",
     "state": {
      "_model_module": "@jupyter-widgets/controls",
      "_model_module_version": "1.5.0",
      "_model_name": "ProgressStyleModel",
      "_view_count": null,
      "_view_module": "@jupyter-widgets/base",
      "_view_module_version": "1.2.0",
      "_view_name": "StyleView",
      "bar_color": null,
      "description_width": ""
     }
    },
    "4326bde39c7341a3885da3ad3342dd4d": {
     "model_module": "@jupyter-widgets/controls",
     "model_module_version": "1.5.0",
     "model_name": "ProgressStyleModel",
     "state": {
      "_model_module": "@jupyter-widgets/controls",
      "_model_module_version": "1.5.0",
      "_model_name": "ProgressStyleModel",
      "_view_count": null,
      "_view_module": "@jupyter-widgets/base",
      "_view_module_version": "1.2.0",
      "_view_name": "StyleView",
      "bar_color": null,
      "description_width": ""
     }
    },
    "4b4ab638496843c782ab6c36602bfd5a": {
     "model_module": "@jupyter-widgets/base",
     "model_module_version": "1.2.0",
     "model_name": "LayoutModel",
     "state": {
      "_model_module": "@jupyter-widgets/base",
      "_model_module_version": "1.2.0",
      "_model_name": "LayoutModel",
      "_view_count": null,
      "_view_module": "@jupyter-widgets/base",
      "_view_module_version": "1.2.0",
      "_view_name": "LayoutView",
      "align_content": null,
      "align_items": null,
      "align_self": null,
      "border": null,
      "bottom": null,
      "display": null,
      "flex": null,
      "flex_flow": null,
      "grid_area": null,
      "grid_auto_columns": null,
      "grid_auto_flow": null,
      "grid_auto_rows": null,
      "grid_column": null,
      "grid_gap": null,
      "grid_row": null,
      "grid_template_areas": null,
      "grid_template_columns": null,
      "grid_template_rows": null,
      "height": null,
      "justify_content": null,
      "justify_items": null,
      "left": null,
      "margin": null,
      "max_height": null,
      "max_width": null,
      "min_height": null,
      "min_width": null,
      "object_fit": null,
      "object_position": null,
      "order": null,
      "overflow": null,
      "overflow_x": null,
      "overflow_y": null,
      "padding": null,
      "right": null,
      "top": null,
      "visibility": null,
      "width": null
     }
    },
    "4dcb7dd76b22470caf2ccedaa58f940f": {
     "model_module": "@jupyter-widgets/controls",
     "model_module_version": "1.5.0",
     "model_name": "DescriptionStyleModel",
     "state": {
      "_model_module": "@jupyter-widgets/controls",
      "_model_module_version": "1.5.0",
      "_model_name": "DescriptionStyleModel",
      "_view_count": null,
      "_view_module": "@jupyter-widgets/base",
      "_view_module_version": "1.2.0",
      "_view_name": "StyleView",
      "description_width": ""
     }
    },
    "56361ee6ea0741c0ae43ac871fa0a08c": {
     "model_module": "@jupyter-widgets/controls",
     "model_module_version": "1.5.0",
     "model_name": "DescriptionStyleModel",
     "state": {
      "_model_module": "@jupyter-widgets/controls",
      "_model_module_version": "1.5.0",
      "_model_name": "DescriptionStyleModel",
      "_view_count": null,
      "_view_module": "@jupyter-widgets/base",
      "_view_module_version": "1.2.0",
      "_view_name": "StyleView",
      "description_width": ""
     }
    },
    "577e62ffee7645a5b316eeb08f560554": {
     "model_module": "@jupyter-widgets/controls",
     "model_module_version": "1.5.0",
     "model_name": "HTMLModel",
     "state": {
      "_dom_classes": [],
      "_model_module": "@jupyter-widgets/controls",
      "_model_module_version": "1.5.0",
      "_model_name": "HTMLModel",
      "_view_count": null,
      "_view_module": "@jupyter-widgets/controls",
      "_view_module_version": "1.5.0",
      "_view_name": "HTMLView",
      "description": "",
      "description_tooltip": null,
      "layout": "IPY_MODEL_70f3a8614f6148a2a7e3793f6cf08687",
      "placeholder": "​",
      "style": "IPY_MODEL_9aa04421422245cd8314e89ad99e7b58",
      "value": " 10.0/? [00:02&lt;00:00,  2.44M/s]"
     }
    },
    "5b37c1f542f74a28826a95f26dacf378": {
     "model_module": "@jupyter-widgets/base",
     "model_module_version": "1.2.0",
     "model_name": "LayoutModel",
     "state": {
      "_model_module": "@jupyter-widgets/base",
      "_model_module_version": "1.2.0",
      "_model_name": "LayoutModel",
      "_view_count": null,
      "_view_module": "@jupyter-widgets/base",
      "_view_module_version": "1.2.0",
      "_view_name": "LayoutView",
      "align_content": null,
      "align_items": null,
      "align_self": null,
      "border": null,
      "bottom": null,
      "display": null,
      "flex": null,
      "flex_flow": null,
      "grid_area": null,
      "grid_auto_columns": null,
      "grid_auto_flow": null,
      "grid_auto_rows": null,
      "grid_column": null,
      "grid_gap": null,
      "grid_row": null,
      "grid_template_areas": null,
      "grid_template_columns": null,
      "grid_template_rows": null,
      "height": null,
      "justify_content": null,
      "justify_items": null,
      "left": null,
      "margin": null,
      "max_height": null,
      "max_width": null,
      "min_height": null,
      "min_width": null,
      "object_fit": null,
      "object_position": null,
      "order": null,
      "overflow": null,
      "overflow_x": null,
      "overflow_y": null,
      "padding": null,
      "right": null,
      "top": null,
      "visibility": null,
      "width": null
     }
    },
    "681330eec57d427ca11525cfedaa0915": {
     "model_module": "@jupyter-widgets/controls",
     "model_module_version": "1.5.0",
     "model_name": "HTMLModel",
     "state": {
      "_dom_classes": [],
      "_model_module": "@jupyter-widgets/controls",
      "_model_module_version": "1.5.0",
      "_model_name": "HTMLModel",
      "_view_count": null,
      "_view_module": "@jupyter-widgets/controls",
      "_view_module_version": "1.5.0",
      "_view_name": "HTMLView",
      "description": "",
      "description_tooltip": null,
      "layout": "IPY_MODEL_afb7021e97ab4f9cbc0f664bd462b86e",
      "placeholder": "​",
      "style": "IPY_MODEL_4dcb7dd76b22470caf2ccedaa58f940f",
      "value": " 5.0/4.6 [00:02&lt;00:00,  2.49M/s]"
     }
    },
    "6fa42d4cc2a24712b95f8e206902cabb": {
     "model_module": "@jupyter-widgets/controls",
     "model_module_version": "1.5.0",
     "model_name": "HTMLModel",
     "state": {
      "_dom_classes": [],
      "_model_module": "@jupyter-widgets/controls",
      "_model_module_version": "1.5.0",
      "_model_name": "HTMLModel",
      "_view_count": null,
      "_view_module": "@jupyter-widgets/controls",
      "_view_module_version": "1.5.0",
      "_view_name": "HTMLView",
      "description": "",
      "description_tooltip": null,
      "layout": "IPY_MODEL_e94664ccfaeb4dbd9b4da331a86ebeaa",
      "placeholder": "​",
      "style": "IPY_MODEL_afb3ba5006ad4bff96095169b8699796",
      "value": " 1450.0/? [00:13&lt;00:00, 176.15M/s]"
     }
    },
    "70f3a8614f6148a2a7e3793f6cf08687": {
     "model_module": "@jupyter-widgets/base",
     "model_module_version": "1.2.0",
     "model_name": "LayoutModel",
     "state": {
      "_model_module": "@jupyter-widgets/base",
      "_model_module_version": "1.2.0",
      "_model_name": "LayoutModel",
      "_view_count": null,
      "_view_module": "@jupyter-widgets/base",
      "_view_module_version": "1.2.0",
      "_view_name": "LayoutView",
      "align_content": null,
      "align_items": null,
      "align_self": null,
      "border": null,
      "bottom": null,
      "display": null,
      "flex": null,
      "flex_flow": null,
      "grid_area": null,
      "grid_auto_columns": null,
      "grid_auto_flow": null,
      "grid_auto_rows": null,
      "grid_column": null,
      "grid_gap": null,
      "grid_row": null,
      "grid_template_areas": null,
      "grid_template_columns": null,
      "grid_template_rows": null,
      "height": null,
      "justify_content": null,
      "justify_items": null,
      "left": null,
      "margin": null,
      "max_height": null,
      "max_width": null,
      "min_height": null,
      "min_width": null,
      "object_fit": null,
      "object_position": null,
      "order": null,
      "overflow": null,
      "overflow_x": null,
      "overflow_y": null,
      "padding": null,
      "right": null,
      "top": null,
      "visibility": null,
      "width": null
     }
    },
    "72a091443ed840af98acf313d93a2047": {
     "model_module": "@jupyter-widgets/base",
     "model_module_version": "1.2.0",
     "model_name": "LayoutModel",
     "state": {
      "_model_module": "@jupyter-widgets/base",
      "_model_module_version": "1.2.0",
      "_model_name": "LayoutModel",
      "_view_count": null,
      "_view_module": "@jupyter-widgets/base",
      "_view_module_version": "1.2.0",
      "_view_name": "LayoutView",
      "align_content": null,
      "align_items": null,
      "align_self": null,
      "border": null,
      "bottom": null,
      "display": null,
      "flex": null,
      "flex_flow": null,
      "grid_area": null,
      "grid_auto_columns": null,
      "grid_auto_flow": null,
      "grid_auto_rows": null,
      "grid_column": null,
      "grid_gap": null,
      "grid_row": null,
      "grid_template_areas": null,
      "grid_template_columns": null,
      "grid_template_rows": null,
      "height": null,
      "justify_content": null,
      "justify_items": null,
      "left": null,
      "margin": null,
      "max_height": null,
      "max_width": null,
      "min_height": null,
      "min_width": null,
      "object_fit": null,
      "object_position": null,
      "order": null,
      "overflow": null,
      "overflow_x": null,
      "overflow_y": null,
      "padding": null,
      "right": null,
      "top": null,
      "visibility": null,
      "width": null
     }
    },
    "851b88c7a9aa401dbd1e8af87977ab4b": {
     "model_module": "@jupyter-widgets/base",
     "model_module_version": "1.2.0",
     "model_name": "LayoutModel",
     "state": {
      "_model_module": "@jupyter-widgets/base",
      "_model_module_version": "1.2.0",
      "_model_name": "LayoutModel",
      "_view_count": null,
      "_view_module": "@jupyter-widgets/base",
      "_view_module_version": "1.2.0",
      "_view_name": "LayoutView",
      "align_content": null,
      "align_items": null,
      "align_self": null,
      "border": null,
      "bottom": null,
      "display": null,
      "flex": null,
      "flex_flow": null,
      "grid_area": null,
      "grid_auto_columns": null,
      "grid_auto_flow": null,
      "grid_auto_rows": null,
      "grid_column": null,
      "grid_gap": null,
      "grid_row": null,
      "grid_template_areas": null,
      "grid_template_columns": null,
      "grid_template_rows": null,
      "height": null,
      "justify_content": null,
      "justify_items": null,
      "left": null,
      "margin": null,
      "max_height": null,
      "max_width": null,
      "min_height": null,
      "min_width": null,
      "object_fit": null,
      "object_position": null,
      "order": null,
      "overflow": null,
      "overflow_x": null,
      "overflow_y": null,
      "padding": null,
      "right": null,
      "top": null,
      "visibility": null,
      "width": null
     }
    },
    "9716930d94ad4efdafa6c05f92ded704": {
     "model_module": "@jupyter-widgets/controls",
     "model_module_version": "1.5.0",
     "model_name": "DescriptionStyleModel",
     "state": {
      "_model_module": "@jupyter-widgets/controls",
      "_model_module_version": "1.5.0",
      "_model_name": "DescriptionStyleModel",
      "_view_count": null,
      "_view_module": "@jupyter-widgets/base",
      "_view_module_version": "1.2.0",
      "_view_name": "StyleView",
      "description_width": ""
     }
    },
    "982b2b23202d4d008353171a6b552ad9": {
     "model_module": "@jupyter-widgets/controls",
     "model_module_version": "1.5.0",
     "model_name": "FloatProgressModel",
     "state": {
      "_dom_classes": [],
      "_model_module": "@jupyter-widgets/controls",
      "_model_module_version": "1.5.0",
      "_model_name": "FloatProgressModel",
      "_view_count": null,
      "_view_module": "@jupyter-widgets/controls",
      "_view_module_version": "1.5.0",
      "_view_name": "ProgressView",
      "bar_style": "success",
      "description": "",
      "description_tooltip": null,
      "layout": "IPY_MODEL_851b88c7a9aa401dbd1e8af87977ab4b",
      "max": 918.3,
      "min": 0,
      "orientation": "horizontal",
      "style": "IPY_MODEL_340316999a3e49d9af8252aacb2d69d1",
      "value": 918.3
     }
    },
    "9aa04421422245cd8314e89ad99e7b58": {
     "model_module": "@jupyter-widgets/controls",
     "model_module_version": "1.5.0",
     "model_name": "DescriptionStyleModel",
     "state": {
      "_model_module": "@jupyter-widgets/controls",
      "_model_module_version": "1.5.0",
      "_model_name": "DescriptionStyleModel",
      "_view_count": null,
      "_view_module": "@jupyter-widgets/base",
      "_view_module_version": "1.2.0",
      "_view_name": "StyleView",
      "description_width": ""
     }
    },
    "9cc5e8ccb1af4e3cbd94600bdc0d4734": {
     "model_module": "@jupyter-widgets/base",
     "model_module_version": "1.2.0",
     "model_name": "LayoutModel",
     "state": {
      "_model_module": "@jupyter-widgets/base",
      "_model_module_version": "1.2.0",
      "_model_name": "LayoutModel",
      "_view_count": null,
      "_view_module": "@jupyter-widgets/base",
      "_view_module_version": "1.2.0",
      "_view_name": "LayoutView",
      "align_content": null,
      "align_items": null,
      "align_self": null,
      "border": null,
      "bottom": null,
      "display": null,
      "flex": null,
      "flex_flow": null,
      "grid_area": null,
      "grid_auto_columns": null,
      "grid_auto_flow": null,
      "grid_auto_rows": null,
      "grid_column": null,
      "grid_gap": null,
      "grid_row": null,
      "grid_template_areas": null,
      "grid_template_columns": null,
      "grid_template_rows": null,
      "height": null,
      "justify_content": null,
      "justify_items": null,
      "left": null,
      "margin": null,
      "max_height": null,
      "max_width": null,
      "min_height": null,
      "min_width": null,
      "object_fit": null,
      "object_position": null,
      "order": null,
      "overflow": null,
      "overflow_x": null,
      "overflow_y": null,
      "padding": null,
      "right": null,
      "top": null,
      "visibility": null,
      "width": null
     }
    },
    "a106f4f5a7d544eb9ae18260bac304f8": {
     "model_module": "@jupyter-widgets/controls",
     "model_module_version": "1.5.0",
     "model_name": "FloatProgressModel",
     "state": {
      "_dom_classes": [],
      "_model_module": "@jupyter-widgets/controls",
      "_model_module_version": "1.5.0",
      "_model_name": "FloatProgressModel",
      "_view_count": null,
      "_view_module": "@jupyter-widgets/controls",
      "_view_module_version": "1.5.0",
      "_view_name": "ProgressView",
      "bar_style": "success",
      "description": "",
      "description_tooltip": null,
      "layout": "IPY_MODEL_d918357ed7d743548dc648b52d978481",
      "max": 4.6,
      "min": 0,
      "orientation": "horizontal",
      "style": "IPY_MODEL_de3d46475d3846258af17807e63c431f",
      "value": 4.6
     }
    },
    "a8c9600c258c4ecb9b089b74d186b117": {
     "model_module": "@jupyter-widgets/base",
     "model_module_version": "1.2.0",
     "model_name": "LayoutModel",
     "state": {
      "_model_module": "@jupyter-widgets/base",
      "_model_module_version": "1.2.0",
      "_model_name": "LayoutModel",
      "_view_count": null,
      "_view_module": "@jupyter-widgets/base",
      "_view_module_version": "1.2.0",
      "_view_name": "LayoutView",
      "align_content": null,
      "align_items": null,
      "align_self": null,
      "border": null,
      "bottom": null,
      "display": null,
      "flex": null,
      "flex_flow": null,
      "grid_area": null,
      "grid_auto_columns": null,
      "grid_auto_flow": null,
      "grid_auto_rows": null,
      "grid_column": null,
      "grid_gap": null,
      "grid_row": null,
      "grid_template_areas": null,
      "grid_template_columns": null,
      "grid_template_rows": null,
      "height": null,
      "justify_content": null,
      "justify_items": null,
      "left": null,
      "margin": null,
      "max_height": null,
      "max_width": null,
      "min_height": null,
      "min_width": null,
      "object_fit": null,
      "object_position": null,
      "order": null,
      "overflow": null,
      "overflow_x": null,
      "overflow_y": null,
      "padding": null,
      "right": null,
      "top": null,
      "visibility": null,
      "width": null
     }
    },
    "adbb5f80a911417eb9ee62f5d9a7e6e2": {
     "model_module": "@jupyter-widgets/controls",
     "model_module_version": "1.5.0",
     "model_name": "HBoxModel",
     "state": {
      "_dom_classes": [],
      "_model_module": "@jupyter-widgets/controls",
      "_model_module_version": "1.5.0",
      "_model_name": "HBoxModel",
      "_view_count": null,
      "_view_module": "@jupyter-widgets/controls",
      "_view_module_version": "1.5.0",
      "_view_name": "HBoxView",
      "box_style": "",
      "children": [
       "IPY_MODEL_2005b3d677c74a9988518d50c1bde657",
       "IPY_MODEL_a106f4f5a7d544eb9ae18260bac304f8",
       "IPY_MODEL_681330eec57d427ca11525cfedaa0915"
      ],
      "layout": "IPY_MODEL_a8c9600c258c4ecb9b089b74d186b117"
     }
    },
    "afb3ba5006ad4bff96095169b8699796": {
     "model_module": "@jupyter-widgets/controls",
     "model_module_version": "1.5.0",
     "model_name": "DescriptionStyleModel",
     "state": {
      "_model_module": "@jupyter-widgets/controls",
      "_model_module_version": "1.5.0",
      "_model_name": "DescriptionStyleModel",
      "_view_count": null,
      "_view_module": "@jupyter-widgets/base",
      "_view_module_version": "1.2.0",
      "_view_name": "StyleView",
      "description_width": ""
     }
    },
    "afb7021e97ab4f9cbc0f664bd462b86e": {
     "model_module": "@jupyter-widgets/base",
     "model_module_version": "1.2.0",
     "model_name": "LayoutModel",
     "state": {
      "_model_module": "@jupyter-widgets/base",
      "_model_module_version": "1.2.0",
      "_model_name": "LayoutModel",
      "_view_count": null,
      "_view_module": "@jupyter-widgets/base",
      "_view_module_version": "1.2.0",
      "_view_name": "LayoutView",
      "align_content": null,
      "align_items": null,
      "align_self": null,
      "border": null,
      "bottom": null,
      "display": null,
      "flex": null,
      "flex_flow": null,
      "grid_area": null,
      "grid_auto_columns": null,
      "grid_auto_flow": null,
      "grid_auto_rows": null,
      "grid_column": null,
      "grid_gap": null,
      "grid_row": null,
      "grid_template_areas": null,
      "grid_template_columns": null,
      "grid_template_rows": null,
      "height": null,
      "justify_content": null,
      "justify_items": null,
      "left": null,
      "margin": null,
      "max_height": null,
      "max_width": null,
      "min_height": null,
      "min_width": null,
      "object_fit": null,
      "object_position": null,
      "order": null,
      "overflow": null,
      "overflow_x": null,
      "overflow_y": null,
      "padding": null,
      "right": null,
      "top": null,
      "visibility": null,
      "width": null
     }
    },
    "bed9b6087a804284bcf19c300243b39c": {
     "model_module": "@jupyter-widgets/controls",
     "model_module_version": "1.5.0",
     "model_name": "HBoxModel",
     "state": {
      "_dom_classes": [],
      "_model_module": "@jupyter-widgets/controls",
      "_model_module_version": "1.5.0",
      "_model_name": "HBoxModel",
      "_view_count": null,
      "_view_module": "@jupyter-widgets/controls",
      "_view_module_version": "1.5.0",
      "_view_name": "HBoxView",
      "box_style": "",
      "children": [
       "IPY_MODEL_cd8c757a80764a6fa53cd27ecf0168bd",
       "IPY_MODEL_e1fb740396fd4025b76b9bac322feffa",
       "IPY_MODEL_577e62ffee7645a5b316eeb08f560554"
      ],
      "layout": "IPY_MODEL_fb7694fa75594d8d9ba163312e2606e4"
     }
    },
    "c1ef9ddff7614505b737dbeee9d60142": {
     "model_module": "@jupyter-widgets/base",
     "model_module_version": "1.2.0",
     "model_name": "LayoutModel",
     "state": {
      "_model_module": "@jupyter-widgets/base",
      "_model_module_version": "1.2.0",
      "_model_name": "LayoutModel",
      "_view_count": null,
      "_view_module": "@jupyter-widgets/base",
      "_view_module_version": "1.2.0",
      "_view_name": "LayoutView",
      "align_content": null,
      "align_items": null,
      "align_self": null,
      "border": null,
      "bottom": null,
      "display": null,
      "flex": null,
      "flex_flow": null,
      "grid_area": null,
      "grid_auto_columns": null,
      "grid_auto_flow": null,
      "grid_auto_rows": null,
      "grid_column": null,
      "grid_gap": null,
      "grid_row": null,
      "grid_template_areas": null,
      "grid_template_columns": null,
      "grid_template_rows": null,
      "height": null,
      "justify_content": null,
      "justify_items": null,
      "left": null,
      "margin": null,
      "max_height": null,
      "max_width": null,
      "min_height": null,
      "min_width": null,
      "object_fit": null,
      "object_position": null,
      "order": null,
      "overflow": null,
      "overflow_x": null,
      "overflow_y": null,
      "padding": null,
      "right": null,
      "top": null,
      "visibility": null,
      "width": null
     }
    },
    "cd8c757a80764a6fa53cd27ecf0168bd": {
     "model_module": "@jupyter-widgets/controls",
     "model_module_version": "1.5.0",
     "model_name": "HTMLModel",
     "state": {
      "_dom_classes": [],
      "_model_module": "@jupyter-widgets/controls",
      "_model_module_version": "1.5.0",
      "_model_name": "HTMLModel",
      "_view_count": null,
      "_view_module": "@jupyter-widgets/controls",
      "_view_module_version": "1.5.0",
      "_view_name": "HTMLView",
      "description": "",
      "description_tooltip": null,
      "layout": "IPY_MODEL_c1ef9ddff7614505b737dbeee9d60142",
      "placeholder": "​",
      "style": "IPY_MODEL_9716930d94ad4efdafa6c05f92ded704",
      "value": ""
     }
    },
    "d6e5b9c345ba4d4eaac5baa60bda7fd7": {
     "model_module": "@jupyter-widgets/controls",
     "model_module_version": "1.5.0",
     "model_name": "ProgressStyleModel",
     "state": {
      "_model_module": "@jupyter-widgets/controls",
      "_model_module_version": "1.5.0",
      "_model_name": "ProgressStyleModel",
      "_view_count": null,
      "_view_module": "@jupyter-widgets/base",
      "_view_module_version": "1.2.0",
      "_view_name": "StyleView",
      "bar_color": null,
      "description_width": ""
     }
    },
    "d73a8e79185b4eca9101da2126ca15a7": {
     "model_module": "@jupyter-widgets/controls",
     "model_module_version": "1.5.0",
     "model_name": "DescriptionStyleModel",
     "state": {
      "_model_module": "@jupyter-widgets/controls",
      "_model_module_version": "1.5.0",
      "_model_name": "DescriptionStyleModel",
      "_view_count": null,
      "_view_module": "@jupyter-widgets/base",
      "_view_module_version": "1.2.0",
      "_view_name": "StyleView",
      "description_width": ""
     }
    },
    "d86241d3c7504bffaf248d6d2d788a9d": {
     "model_module": "@jupyter-widgets/controls",
     "model_module_version": "1.5.0",
     "model_name": "HBoxModel",
     "state": {
      "_dom_classes": [],
      "_model_module": "@jupyter-widgets/controls",
      "_model_module_version": "1.5.0",
      "_model_name": "HBoxModel",
      "_view_count": null,
      "_view_module": "@jupyter-widgets/controls",
      "_view_module_version": "1.5.0",
      "_view_name": "HBoxView",
      "box_style": "",
      "children": [
       "IPY_MODEL_0fd6792850f549609a92f0f4633e00b5",
       "IPY_MODEL_982b2b23202d4d008353171a6b552ad9",
       "IPY_MODEL_f9c72543f29c4412935157da29a09f7b"
      ],
      "layout": "IPY_MODEL_72a091443ed840af98acf313d93a2047"
     }
    },
    "d918357ed7d743548dc648b52d978481": {
     "model_module": "@jupyter-widgets/base",
     "model_module_version": "1.2.0",
     "model_name": "LayoutModel",
     "state": {
      "_model_module": "@jupyter-widgets/base",
      "_model_module_version": "1.2.0",
      "_model_name": "LayoutModel",
      "_view_count": null,
      "_view_module": "@jupyter-widgets/base",
      "_view_module_version": "1.2.0",
      "_view_name": "LayoutView",
      "align_content": null,
      "align_items": null,
      "align_self": null,
      "border": null,
      "bottom": null,
      "display": null,
      "flex": null,
      "flex_flow": null,
      "grid_area": null,
      "grid_auto_columns": null,
      "grid_auto_flow": null,
      "grid_auto_rows": null,
      "grid_column": null,
      "grid_gap": null,
      "grid_row": null,
      "grid_template_areas": null,
      "grid_template_columns": null,
      "grid_template_rows": null,
      "height": null,
      "justify_content": null,
      "justify_items": null,
      "left": null,
      "margin": null,
      "max_height": null,
      "max_width": null,
      "min_height": null,
      "min_width": null,
      "object_fit": null,
      "object_position": null,
      "order": null,
      "overflow": null,
      "overflow_x": null,
      "overflow_y": null,
      "padding": null,
      "right": null,
      "top": null,
      "visibility": null,
      "width": null
     }
    },
    "de3d46475d3846258af17807e63c431f": {
     "model_module": "@jupyter-widgets/controls",
     "model_module_version": "1.5.0",
     "model_name": "ProgressStyleModel",
     "state": {
      "_model_module": "@jupyter-widgets/controls",
      "_model_module_version": "1.5.0",
      "_model_name": "ProgressStyleModel",
      "_view_count": null,
      "_view_module": "@jupyter-widgets/base",
      "_view_module_version": "1.2.0",
      "_view_name": "StyleView",
      "bar_color": null,
      "description_width": ""
     }
    },
    "e1e369cb4587438ab769b87c70c5a387": {
     "model_module": "@jupyter-widgets/base",
     "model_module_version": "1.2.0",
     "model_name": "LayoutModel",
     "state": {
      "_model_module": "@jupyter-widgets/base",
      "_model_module_version": "1.2.0",
      "_model_name": "LayoutModel",
      "_view_count": null,
      "_view_module": "@jupyter-widgets/base",
      "_view_module_version": "1.2.0",
      "_view_name": "LayoutView",
      "align_content": null,
      "align_items": null,
      "align_self": null,
      "border": null,
      "bottom": null,
      "display": null,
      "flex": null,
      "flex_flow": null,
      "grid_area": null,
      "grid_auto_columns": null,
      "grid_auto_flow": null,
      "grid_auto_rows": null,
      "grid_column": null,
      "grid_gap": null,
      "grid_row": null,
      "grid_template_areas": null,
      "grid_template_columns": null,
      "grid_template_rows": null,
      "height": null,
      "justify_content": null,
      "justify_items": null,
      "left": null,
      "margin": null,
      "max_height": null,
      "max_width": null,
      "min_height": null,
      "min_width": null,
      "object_fit": null,
      "object_position": null,
      "order": null,
      "overflow": null,
      "overflow_x": null,
      "overflow_y": null,
      "padding": null,
      "right": null,
      "top": null,
      "visibility": null,
      "width": null
     }
    },
    "e1fb740396fd4025b76b9bac322feffa": {
     "model_module": "@jupyter-widgets/controls",
     "model_module_version": "1.5.0",
     "model_name": "FloatProgressModel",
     "state": {
      "_dom_classes": [],
      "_model_module": "@jupyter-widgets/controls",
      "_model_module_version": "1.5.0",
      "_model_name": "FloatProgressModel",
      "_view_count": null,
      "_view_module": "@jupyter-widgets/controls",
      "_view_module_version": "1.5.0",
      "_view_name": "ProgressView",
      "bar_style": "success",
      "description": "",
      "description_tooltip": null,
      "layout": "IPY_MODEL_1779f18c5dc24eb9acee9bef66500b90",
      "max": 7.5,
      "min": 0,
      "orientation": "horizontal",
      "style": "IPY_MODEL_d6e5b9c345ba4d4eaac5baa60bda7fd7",
      "value": 7.5
     }
    },
    "e94664ccfaeb4dbd9b4da331a86ebeaa": {
     "model_module": "@jupyter-widgets/base",
     "model_module_version": "1.2.0",
     "model_name": "LayoutModel",
     "state": {
      "_model_module": "@jupyter-widgets/base",
      "_model_module_version": "1.2.0",
      "_model_name": "LayoutModel",
      "_view_count": null,
      "_view_module": "@jupyter-widgets/base",
      "_view_module_version": "1.2.0",
      "_view_name": "LayoutView",
      "align_content": null,
      "align_items": null,
      "align_self": null,
      "border": null,
      "bottom": null,
      "display": null,
      "flex": null,
      "flex_flow": null,
      "grid_area": null,
      "grid_auto_columns": null,
      "grid_auto_flow": null,
      "grid_auto_rows": null,
      "grid_column": null,
      "grid_gap": null,
      "grid_row": null,
      "grid_template_areas": null,
      "grid_template_columns": null,
      "grid_template_rows": null,
      "height": null,
      "justify_content": null,
      "justify_items": null,
      "left": null,
      "margin": null,
      "max_height": null,
      "max_width": null,
      "min_height": null,
      "min_width": null,
      "object_fit": null,
      "object_position": null,
      "order": null,
      "overflow": null,
      "overflow_x": null,
      "overflow_y": null,
      "padding": null,
      "right": null,
      "top": null,
      "visibility": null,
      "width": null
     }
    },
    "f9c72543f29c4412935157da29a09f7b": {
     "model_module": "@jupyter-widgets/controls",
     "model_module_version": "1.5.0",
     "model_name": "HTMLModel",
     "state": {
      "_dom_classes": [],
      "_model_module": "@jupyter-widgets/controls",
      "_model_module_version": "1.5.0",
      "_model_name": "HTMLModel",
      "_view_count": null,
      "_view_module": "@jupyter-widgets/controls",
      "_view_module_version": "1.5.0",
      "_view_name": "HTMLView",
      "description": "",
      "description_tooltip": null,
      "layout": "IPY_MODEL_9cc5e8ccb1af4e3cbd94600bdc0d4734",
      "placeholder": "​",
      "style": "IPY_MODEL_d73a8e79185b4eca9101da2126ca15a7",
      "value": " 920.0/? [00:09&lt;00:00, 125.80M/s]"
     }
    },
    "fb7694fa75594d8d9ba163312e2606e4": {
     "model_module": "@jupyter-widgets/base",
     "model_module_version": "1.2.0",
     "model_name": "LayoutModel",
     "state": {
      "_model_module": "@jupyter-widgets/base",
      "_model_module_version": "1.2.0",
      "_model_name": "LayoutModel",
      "_view_count": null,
      "_view_module": "@jupyter-widgets/base",
      "_view_module_version": "1.2.0",
      "_view_name": "LayoutView",
      "align_content": null,
      "align_items": null,
      "align_self": null,
      "border": null,
      "bottom": null,
      "display": null,
      "flex": null,
      "flex_flow": null,
      "grid_area": null,
      "grid_auto_columns": null,
      "grid_auto_flow": null,
      "grid_auto_rows": null,
      "grid_column": null,
      "grid_gap": null,
      "grid_row": null,
      "grid_template_areas": null,
      "grid_template_columns": null,
      "grid_template_rows": null,
      "height": null,
      "justify_content": null,
      "justify_items": null,
      "left": null,
      "margin": null,
      "max_height": null,
      "max_width": null,
      "min_height": null,
      "min_width": null,
      "object_fit": null,
      "object_position": null,
      "order": null,
      "overflow": null,
      "overflow_x": null,
      "overflow_y": null,
      "padding": null,
      "right": null,
      "top": null,
      "visibility": null,
      "width": null
     }
    },
    "fcc788d55c074337b7cb1350454b0449": {
     "model_module": "@jupyter-widgets/controls",
     "model_module_version": "1.5.0",
     "model_name": "HBoxModel",
     "state": {
      "_dom_classes": [],
      "_model_module": "@jupyter-widgets/controls",
      "_model_module_version": "1.5.0",
      "_model_name": "HBoxModel",
      "_view_count": null,
      "_view_module": "@jupyter-widgets/controls",
      "_view_module_version": "1.5.0",
      "_view_name": "HBoxView",
      "box_style": "",
      "children": [
       "IPY_MODEL_19771c7e890644bc94aba29fb64d4b53",
       "IPY_MODEL_2b42be2f7c264eb0872b034ba1562666",
       "IPY_MODEL_6fa42d4cc2a24712b95f8e206902cabb"
      ],
      "layout": "IPY_MODEL_e1e369cb4587438ab769b87c70c5a387"
     }
    }
   }
  }
 },
 "nbformat": 4,
 "nbformat_minor": 1
}
